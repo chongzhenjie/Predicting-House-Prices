{
 "cells": [
  {
   "cell_type": "markdown",
   "id": "c52f37f3",
   "metadata": {
    "papermill": {
     "duration": 0.031258,
     "end_time": "2023-03-05T03:56:58.602304",
     "exception": false,
     "start_time": "2023-03-05T03:56:58.571046",
     "status": "completed"
    },
    "tags": []
   },
   "source": [
    "# House Prices — Kernel Methods & Tree Models"
   ]
  },
  {
   "attachments": {},
   "cell_type": "markdown",
   "id": "f3cb3246",
   "metadata": {},
   "source": [
    "_Note: Cleared the output of some cells to reduce file size. The full output can be viewed [here](https://www.kaggle.com/code/chongzhenjie/house-prices-kernel-methods-tree-models)._"
   ]
  },
  {
   "cell_type": "markdown",
   "id": "f5fdaa34",
   "metadata": {
    "papermill": {
     "duration": 0.030338,
     "end_time": "2023-03-05T03:56:58.663218",
     "exception": false,
     "start_time": "2023-03-05T03:56:58.632880",
     "status": "completed"
    },
    "tags": []
   },
   "source": [
    "Below is a summary of the approach I have taken in this notebook.\n",
    "\n",
    "**Data Preprocessing:**\n",
    "- This section mainly deals with filling the missing values in the data. A number of columns have categories NA/None to denote that the corresponding feature of the house does not exist. It could be possible that the feature exists, but there are actual missing data values. To differentiate between the two cases, I give an example using the basement feature. If its corresponding columns `BsmtQual`, `BsmtFinSF1`, `BsmtFullBath`, etc. are all filled with 0 or NA, I assume that the particular house does not have a basement, and fill using the value 0 or string \"NA\" accordingly.\n",
    "- After the first round of imputation, we still have missing values for the columns filled from the process described above, indicating that the data values are indeed missing. We fill the remaining values using some form of estimation. In particular, the log values of `LotFrontage` and `LotArea` are strongly correlated, so it is reasonable to fill the missing values using regression.\n",
    "- To keep things simple, the remaining columns with about 1-4 missing values each are filled using median/mode imputation.\n",
    "\n",
    "**Feature Engineering:**\n",
    "- [Statistical tests](https://scikit-learn.org/stable/auto_examples/feature_selection/plot_f_test_vs_mi.html) (F-test statistics and mutual information) are used to help feature selection. These are univariate tests so they do not take into account any interaction effects between the features, but they are simpler to understand and less computationally expensive than building models.\n",
    "- Thresholds are not set, but generally columns that have one dominant value, perform poorly in the statistical tests, or give similar information to other columns (e.g. `GarageCars` vs. `GarageArea`) are all dropped. \n",
    "- The usual feature creation/transformation and ordinal/one-hot encoding are performed.\n",
    "\n",
    "**Model Training:**\n",
    "- All models are implemented using sklearn. In particular, linear models (Ridge and LinearSVR) are used as benchmarks. The main models are kernel methods (KernelRidge and SVR) and tree models (RandomForest and GradientBoostingRegressor).\n",
    "- A final ensemble model, which is the average of KernelRidge, SVR, and GradientBoostingRegressor, is used for submission.\n",
    "\n",
    "**Other things not looked at:**\n",
    "- Outlier handling — my local cv results greatly improved by removing or reducing the impact of outliers, but the LB results did not improve.\n",
    "- Other established feature selection/dimensionality reduction tools.\n",
    "- Other ensemble techniques like stacking."
   ]
  },
  {
   "cell_type": "code",
   "execution_count": 1,
   "id": "de1457ff",
   "metadata": {
    "execution": {
     "iopub.execute_input": "2023-03-05T03:56:58.726260Z",
     "iopub.status.busy": "2023-03-05T03:56:58.724790Z",
     "iopub.status.idle": "2023-03-05T03:57:00.283169Z",
     "shell.execute_reply": "2023-03-05T03:57:00.281780Z"
    },
    "papermill": {
     "duration": 1.592773,
     "end_time": "2023-03-05T03:57:00.286006",
     "exception": false,
     "start_time": "2023-03-05T03:56:58.693233",
     "status": "completed"
    },
    "tags": []
   },
   "outputs": [],
   "source": [
    "import numpy as np\n",
    "import pandas as pd\n",
    "import seaborn as sns\n",
    "sns.set_theme(style=\"darkgrid\", font_scale=1.2)\n",
    "import matplotlib.pyplot as plt\n",
    "from scipy.stats import probplot\n",
    "\n",
    "from sklearn.preprocessing import OrdinalEncoder, StandardScaler\n",
    "from sklearn.model_selection import KFold, RepeatedKFold\n",
    "from sklearn.linear_model import Ridge, RidgeCV\n",
    "from sklearn.kernel_ridge import KernelRidge\n",
    "from sklearn.svm import LinearSVR, SVR\n",
    "from sklearn.ensemble import RandomForestRegressor, GradientBoostingRegressor, VotingRegressor\n",
    "\n",
    "from data_processing import(\n",
    "    extract_data_descr, check_missing_values, fill_with_constant, \n",
    "    fill_with_estimate, dummy_encoder, RegressionImputer, SEED,\n",
    ")\n",
    "from plot import regplot, multi_regplot, multi_catplot\n",
    "from model_tuner import rmse_loss, ModelTuner"
   ]
  },
  {
   "cell_type": "markdown",
   "id": "2890d478",
   "metadata": {
    "papermill": {
     "duration": 0.029117,
     "end_time": "2023-03-05T03:57:00.345825",
     "exception": false,
     "start_time": "2023-03-05T03:57:00.316708",
     "status": "completed"
    },
    "tags": []
   },
   "source": [
    "---"
   ]
  },
  {
   "cell_type": "markdown",
   "id": "9588aa0f",
   "metadata": {
    "papermill": {
     "duration": 0.028767,
     "end_time": "2023-03-05T03:57:00.404501",
     "exception": false,
     "start_time": "2023-03-05T03:57:00.375734",
     "status": "completed"
    },
    "tags": []
   },
   "source": [
    "# 1. Loading Datasets"
   ]
  },
  {
   "cell_type": "code",
   "execution_count": 2,
   "id": "09d683bb",
   "metadata": {
    "execution": {
     "iopub.execute_input": "2023-03-05T03:57:00.538294Z",
     "iopub.status.busy": "2023-03-05T03:57:00.537486Z",
     "iopub.status.idle": "2023-03-05T03:57:00.549399Z",
     "shell.execute_reply": "2023-03-05T03:57:00.548153Z"
    },
    "papermill": {
     "duration": 0.046517,
     "end_time": "2023-03-05T03:57:00.551934",
     "exception": false,
     "start_time": "2023-03-05T03:57:00.505417",
     "status": "completed"
    },
    "tags": []
   },
   "outputs": [
    {
     "name": "stdout",
     "output_type": "stream",
     "text": [
      "{'MSSubClass': ['20', '30', '40', '45', '50', '60', '70', '75', '80', '85', '90', '120', '150', '160', '180', '190'], 'MSZoning': ['A', 'C', 'FV', 'I', 'RH', 'RL', 'RP', 'RM'], 'LotFrontage': [], 'LotArea': [], 'Street': ['Grvl', 'Pave'], 'Alley': ['Grvl', 'Pave', 'NA'], 'LotShape': ['Reg', 'IR1', 'IR2', 'IR3'], 'LandContour': ['Lvl', 'Bnk', 'HLS', 'Low'], 'Utilities': ['AllPub', 'NoSewr', 'NoSeWa', 'ELO'], 'LotConfig': ['Inside', 'Corner', 'CulDSac', 'FR2', 'FR3'], 'LandSlope': ['Gtl', 'Mod', 'Sev'], 'Neighborhood': ['Blmngtn', 'Blueste', 'BrDale', 'BrkSide', 'ClearCr', 'CollgCr', 'Crawfor', 'Edwards', 'Gilbert', 'IDOTRR', 'MeadowV', 'Mitchel', 'Names', 'NoRidge', 'NPkVill', 'NridgHt', 'NWAmes', 'OldTown', 'SWISU', 'Sawyer', 'SawyerW', 'Somerst', 'StoneBr', 'Timber', 'Veenker'], 'Condition1': ['Artery', 'Feedr', 'Norm', 'RRNn', 'RRAn', 'PosN', 'PosA', 'RRNe', 'RRAe'], 'Condition2': ['Artery', 'Feedr', 'Norm', 'RRNn', 'RRAn', 'PosN', 'PosA', 'RRNe', 'RRAe'], 'BldgType': ['1Fam', '2FmCon', 'Duplx', 'TwnhsE', 'TwnhsI'], 'HouseStyle': ['1Story', '1.5Fin', '1.5Unf', '2Story', '2.5Fin', '2.5Unf', 'SFoyer', 'SLvl'], 'OverallQual': ['10', '9', '8', '7', '6', '5', '4', '3', '2', '1'], 'OverallCond': ['10', '9', '8', '7', '6', '5', '4', '3', '2', '1'], 'YearBuilt': [], 'YearRemodAdd': [], 'RoofStyle': ['Flat', 'Gable', 'Gambrel', 'Hip', 'Mansard', 'Shed'], 'RoofMatl': ['ClyTile', 'CompShg', 'Membran', 'Metal', 'Roll', 'Tar&Grv', 'WdShake', 'WdShngl'], 'Exterior1st': ['AsbShng', 'AsphShn', 'BrkComm', 'BrkFace', 'CBlock', 'CemntBd', 'HdBoard', 'ImStucc', 'MetalSd', 'Other', 'Plywood', 'PreCast', 'Stone', 'Stucco', 'VinylSd', 'Wd', 'WdShing'], 'Exterior2nd': ['AsbShng', 'AsphShn', 'BrkComm', 'BrkFace', 'CBlock', 'CemntBd', 'HdBoard', 'ImStucc', 'MetalSd', 'Other', 'Plywood', 'PreCast', 'Stone', 'Stucco', 'VinylSd', 'Wd', 'WdShing'], 'MasVnrType': ['BrkCmn', 'BrkFace', 'CBlock', 'None', 'Stone'], 'MasVnrArea': [], 'ExterQual': ['Ex', 'Gd', 'TA', 'Fa', 'Po'], 'ExterCond': ['Ex', 'Gd', 'TA', 'Fa', 'Po'], 'Foundation': ['BrkTil', 'CBlock', 'PConc', 'Slab', 'Stone', 'Wood'], 'BsmtQual': ['Ex', 'Gd', 'TA', 'Fa', 'Po', 'NA'], 'BsmtCond': ['Ex', 'Gd', 'TA', 'Fa', 'Po', 'NA'], 'BsmtExposure': ['Gd', 'Av', 'Mn', 'No', 'NA'], 'BsmtFinType1': ['GLQ', 'ALQ', 'BLQ', 'Rec', 'LwQ', 'Unf', 'NA'], 'BsmtFinSF1': [], 'BsmtFinType2': ['GLQ', 'ALQ', 'BLQ', 'Rec', 'LwQ', 'Unf', 'NA'], 'BsmtFinSF2': [], 'BsmtUnfSF': [], 'TotalBsmtSF': [], 'Heating': ['Floor', 'GasA', 'GasW', 'Grav', 'OthW', 'Wall'], 'HeatingQC': ['Ex', 'Gd', 'TA', 'Fa', 'Po'], 'CentralAir': ['N', 'Y'], 'Electrical': ['SBrkr', 'FuseA', 'FuseF', 'FuseP', 'Mix'], '1stFlrSF': [], '2ndFlrSF': [], 'LowQualFinSF': [], 'GrLivArea': [], 'BsmtFullBath': [], 'BsmtHalfBath': [], 'FullBath': [], 'HalfBath': [], 'KitchenQual': ['Ex', 'Gd', 'TA', 'Fa', 'Po'], 'TotRmsAbvGrd': [], 'Functional': ['Typ', 'Min1', 'Min2', 'Mod', 'Maj1', 'Maj2', 'Sev', 'Sal'], 'Fireplaces': [], 'FireplaceQu': ['Ex', 'Gd', 'TA', 'Fa', 'Po', 'NA'], 'GarageType': ['2Types', 'Attchd', 'Basment', 'BuiltIn', 'CarPort', 'Detchd', 'NA'], 'GarageYrBlt': [], 'GarageFinish': ['Fin', 'RFn', 'Unf', 'NA'], 'GarageCars': [], 'GarageArea': [], 'GarageQual': ['Ex', 'Gd', 'TA', 'Fa', 'Po', 'NA'], 'GarageCond': ['Ex', 'Gd', 'TA', 'Fa', 'Po', 'NA'], 'PavedDrive': ['Y', 'P', 'N'], 'WoodDeckSF': [], 'OpenPorchSF': [], 'EnclosedPorch': [], '3SsnPorch': [], 'ScreenPorch': [], 'PoolArea': [], 'PoolQC': ['Ex', 'Gd', 'TA', 'Fa', 'NA'], 'Fence': ['GdPrv', 'MnPrv', 'GdWo', 'MnWw', 'NA'], 'MiscFeature': ['Elev', 'Gar2', 'Othr', 'Shed', 'TenC', 'NA'], 'MiscVal': [], 'MoSold': [], 'YrSold': [], 'SaleType': ['WD', 'CWD', 'VWD', 'New', 'COD', 'Con', 'ConLw', 'ConLI', 'ConLD', 'Oth'], 'SaleCondition': ['Normal', 'Abnorml', 'AdjLand', 'Alloca', 'Family', 'Partial'], 'BedroomAbvGr': [], 'KitchenAbvGr': []}\n"
     ]
    }
   ],
   "source": [
    "data_descr = extract_data_descr(\"data/data_description.txt\")\n",
    "\n",
    "print(data_descr)"
   ]
  },
  {
   "cell_type": "code",
   "execution_count": 3,
   "id": "8eb4aebd",
   "metadata": {
    "execution": {
     "iopub.execute_input": "2023-03-05T03:57:00.613178Z",
     "iopub.status.busy": "2023-03-05T03:57:00.612336Z",
     "iopub.status.idle": "2023-03-05T03:57:00.708799Z",
     "shell.execute_reply": "2023-03-05T03:57:00.707572Z"
    },
    "papermill": {
     "duration": 0.130135,
     "end_time": "2023-03-05T03:57:00.711600",
     "exception": false,
     "start_time": "2023-03-05T03:57:00.581465",
     "status": "completed"
    },
    "tags": []
   },
   "outputs": [],
   "source": [
    "X_train = pd.read_csv(\"data/train.csv\").drop(columns=[\"Id\"])\n",
    "X_test = pd.read_csv(\"data/test.csv\").drop(columns=[\"Id\"])\n",
    "\n",
    "y_train = X_train.pop(\"SalePrice\")"
   ]
  },
  {
   "cell_type": "markdown",
   "id": "1c93e1ac",
   "metadata": {
    "papermill": {
     "duration": 0.029879,
     "end_time": "2023-03-05T03:57:00.770953",
     "exception": false,
     "start_time": "2023-03-05T03:57:00.741074",
     "status": "completed"
    },
    "tags": []
   },
   "source": [
    "---"
   ]
  },
  {
   "cell_type": "markdown",
   "id": "55254d93",
   "metadata": {
    "papermill": {
     "duration": 0.029481,
     "end_time": "2023-03-05T03:57:00.829796",
     "exception": false,
     "start_time": "2023-03-05T03:57:00.800315",
     "status": "completed"
    },
    "tags": []
   },
   "source": [
    "# 2. Data Preprocessing"
   ]
  },
  {
   "cell_type": "code",
   "execution_count": 4,
   "id": "d97ba810",
   "metadata": {
    "execution": {
     "iopub.execute_input": "2023-03-05T03:57:00.891334Z",
     "iopub.status.busy": "2023-03-05T03:57:00.890878Z",
     "iopub.status.idle": "2023-03-05T03:57:00.920808Z",
     "shell.execute_reply": "2023-03-05T03:57:00.919864Z"
    },
    "papermill": {
     "duration": 0.063599,
     "end_time": "2023-03-05T03:57:00.923603",
     "exception": false,
     "start_time": "2023-03-05T03:57:00.860004",
     "status": "completed"
    },
    "tags": []
   },
   "outputs": [
    {
     "name": "stdout",
     "output_type": "stream",
     "text": [
      "<class 'pandas.core.frame.DataFrame'>\n",
      "RangeIndex: 1460 entries, 0 to 1459\n",
      "Data columns (total 79 columns):\n",
      " #   Column         Non-Null Count  Dtype  \n",
      "---  ------         --------------  -----  \n",
      " 0   MSSubClass     1460 non-null   int64  \n",
      " 1   MSZoning       1460 non-null   object \n",
      " 2   LotFrontage    1201 non-null   float64\n",
      " 3   LotArea        1460 non-null   int64  \n",
      " 4   Street         1460 non-null   object \n",
      " 5   Alley          91 non-null     object \n",
      " 6   LotShape       1460 non-null   object \n",
      " 7   LandContour    1460 non-null   object \n",
      " 8   Utilities      1460 non-null   object \n",
      " 9   LotConfig      1460 non-null   object \n",
      " 10  LandSlope      1460 non-null   object \n",
      " 11  Neighborhood   1460 non-null   object \n",
      " 12  Condition1     1460 non-null   object \n",
      " 13  Condition2     1460 non-null   object \n",
      " 14  BldgType       1460 non-null   object \n",
      " 15  HouseStyle     1460 non-null   object \n",
      " 16  OverallQual    1460 non-null   int64  \n",
      " 17  OverallCond    1460 non-null   int64  \n",
      " 18  YearBuilt      1460 non-null   int64  \n",
      " 19  YearRemodAdd   1460 non-null   int64  \n",
      " 20  RoofStyle      1460 non-null   object \n",
      " 21  RoofMatl       1460 non-null   object \n",
      " 22  Exterior1st    1460 non-null   object \n",
      " 23  Exterior2nd    1460 non-null   object \n",
      " 24  MasVnrType     1452 non-null   object \n",
      " 25  MasVnrArea     1452 non-null   float64\n",
      " 26  ExterQual      1460 non-null   object \n",
      " 27  ExterCond      1460 non-null   object \n",
      " 28  Foundation     1460 non-null   object \n",
      " 29  BsmtQual       1423 non-null   object \n",
      " 30  BsmtCond       1423 non-null   object \n",
      " 31  BsmtExposure   1422 non-null   object \n",
      " 32  BsmtFinType1   1423 non-null   object \n",
      " 33  BsmtFinSF1     1460 non-null   int64  \n",
      " 34  BsmtFinType2   1422 non-null   object \n",
      " 35  BsmtFinSF2     1460 non-null   int64  \n",
      " 36  BsmtUnfSF      1460 non-null   int64  \n",
      " 37  TotalBsmtSF    1460 non-null   int64  \n",
      " 38  Heating        1460 non-null   object \n",
      " 39  HeatingQC      1460 non-null   object \n",
      " 40  CentralAir     1460 non-null   object \n",
      " 41  Electrical     1459 non-null   object \n",
      " 42  1stFlrSF       1460 non-null   int64  \n",
      " 43  2ndFlrSF       1460 non-null   int64  \n",
      " 44  LowQualFinSF   1460 non-null   int64  \n",
      " 45  GrLivArea      1460 non-null   int64  \n",
      " 46  BsmtFullBath   1460 non-null   int64  \n",
      " 47  BsmtHalfBath   1460 non-null   int64  \n",
      " 48  FullBath       1460 non-null   int64  \n",
      " 49  HalfBath       1460 non-null   int64  \n",
      " 50  BedroomAbvGr   1460 non-null   int64  \n",
      " 51  KitchenAbvGr   1460 non-null   int64  \n",
      " 52  KitchenQual    1460 non-null   object \n",
      " 53  TotRmsAbvGrd   1460 non-null   int64  \n",
      " 54  Functional     1460 non-null   object \n",
      " 55  Fireplaces     1460 non-null   int64  \n",
      " 56  FireplaceQu    770 non-null    object \n",
      " 57  GarageType     1379 non-null   object \n",
      " 58  GarageYrBlt    1379 non-null   float64\n",
      " 59  GarageFinish   1379 non-null   object \n",
      " 60  GarageCars     1460 non-null   int64  \n",
      " 61  GarageArea     1460 non-null   int64  \n",
      " 62  GarageQual     1379 non-null   object \n",
      " 63  GarageCond     1379 non-null   object \n",
      " 64  PavedDrive     1460 non-null   object \n",
      " 65  WoodDeckSF     1460 non-null   int64  \n",
      " 66  OpenPorchSF    1460 non-null   int64  \n",
      " 67  EnclosedPorch  1460 non-null   int64  \n",
      " 68  3SsnPorch      1460 non-null   int64  \n",
      " 69  ScreenPorch    1460 non-null   int64  \n",
      " 70  PoolArea       1460 non-null   int64  \n",
      " 71  PoolQC         7 non-null      object \n",
      " 72  Fence          281 non-null    object \n",
      " 73  MiscFeature    54 non-null     object \n",
      " 74  MiscVal        1460 non-null   int64  \n",
      " 75  MoSold         1460 non-null   int64  \n",
      " 76  YrSold         1460 non-null   int64  \n",
      " 77  SaleType       1460 non-null   object \n",
      " 78  SaleCondition  1460 non-null   object \n",
      "dtypes: float64(3), int64(33), object(43)\n",
      "memory usage: 901.2+ KB\n"
     ]
    }
   ],
   "source": [
    "X_train.info()"
   ]
  },
  {
   "cell_type": "markdown",
   "id": "38fdbc27",
   "metadata": {
    "papermill": {
     "duration": 0.029269,
     "end_time": "2023-03-05T03:57:00.982986",
     "exception": false,
     "start_time": "2023-03-05T03:57:00.953717",
     "status": "completed"
    },
    "tags": []
   },
   "source": [
    "From the information of the dataframe above, many columns have missing values, and some columns may have their dtypes incorrectly labeled."
   ]
  },
  {
   "cell_type": "markdown",
   "id": "a3201ab8",
   "metadata": {
    "papermill": {
     "duration": 0.029352,
     "end_time": "2023-03-05T03:57:01.042073",
     "exception": false,
     "start_time": "2023-03-05T03:57:01.012721",
     "status": "completed"
    },
    "tags": []
   },
   "source": [
    "### Columns with incorrect dtypes."
   ]
  },
  {
   "cell_type": "markdown",
   "id": "f3c280cd",
   "metadata": {
    "papermill": {
     "duration": 0.029319,
     "end_time": "2023-03-05T03:57:01.101026",
     "exception": false,
     "start_time": "2023-03-05T03:57:01.071707",
     "status": "completed"
    },
    "tags": []
   },
   "source": [
    "Some columns have categories consisting of integers, resulting in them being recognized as numerical. We assign them back as objects. Date columns (concerning the year and month) are also usually categorical."
   ]
  },
  {
   "cell_type": "code",
   "execution_count": 5,
   "id": "deb08d94",
   "metadata": {
    "execution": {
     "iopub.execute_input": "2023-03-05T03:57:01.163065Z",
     "iopub.status.busy": "2023-03-05T03:57:01.162659Z",
     "iopub.status.idle": "2023-03-05T03:57:01.183335Z",
     "shell.execute_reply": "2023-03-05T03:57:01.181944Z"
    },
    "papermill": {
     "duration": 0.054825,
     "end_time": "2023-03-05T03:57:01.185849",
     "exception": false,
     "start_time": "2023-03-05T03:57:01.131024",
     "status": "completed"
    },
    "tags": []
   },
   "outputs": [
    {
     "name": "stdout",
     "output_type": "stream",
     "text": [
      "['MSSubClass', 'OverallQual', 'OverallCond', 'YearBuilt', 'YearRemodAdd', 'GarageYrBlt', 'MoSold', 'YrSold']\n"
     ]
    }
   ],
   "source": [
    "INCORRECT_DTYPE = [\n",
    "    key for key, val in data_descr.items()\n",
    "    if val and np.issubdtype(X_train[key], np.number)\n",
    "]\n",
    "DATE_COL = [\n",
    "    col for col in X_train.columns\n",
    "    if any(date in col for date in [\"Mo\", \"Yr\", \"Year\"])\n",
    "]\n",
    "INCORRECT_DTYPE.extend(DATE_COL)\n",
    "print(INCORRECT_DTYPE)\n",
    "\n",
    "X_train[INCORRECT_DTYPE] = X_train[INCORRECT_DTYPE].astype(object)\n",
    "X_test[INCORRECT_DTYPE] = X_test[INCORRECT_DTYPE].astype(object)"
   ]
  },
  {
   "cell_type": "markdown",
   "id": "1a3ca0af",
   "metadata": {
    "papermill": {
     "duration": 0.030112,
     "end_time": "2023-03-05T03:57:01.245610",
     "exception": false,
     "start_time": "2023-03-05T03:57:01.215498",
     "status": "completed"
    },
    "tags": []
   },
   "source": [
    "### Columns with missing values."
   ]
  },
  {
   "cell_type": "code",
   "execution_count": 6,
   "id": "fda5557d",
   "metadata": {
    "execution": {
     "iopub.execute_input": "2023-03-05T03:57:01.378948Z",
     "iopub.status.busy": "2023-03-05T03:57:01.378237Z",
     "iopub.status.idle": "2023-03-05T03:57:01.409114Z",
     "shell.execute_reply": "2023-03-05T03:57:01.407835Z"
    },
    "papermill": {
     "duration": 0.064559,
     "end_time": "2023-03-05T03:57:01.411766",
     "exception": false,
     "start_time": "2023-03-05T03:57:01.347207",
     "status": "completed"
    },
    "tags": []
   },
   "outputs": [
    {
     "name": "stdout",
     "output_type": "stream",
     "text": [
      "========================================\n",
      "(TRAIN) Number of missing values:\n",
      "========================================\n",
      "LotFrontage      259\n",
      "Alley           1369\n",
      "MasVnrType         8\n",
      "MasVnrArea         8\n",
      "BsmtQual          37\n",
      "BsmtCond          37\n",
      "BsmtExposure      38\n",
      "BsmtFinType1      37\n",
      "BsmtFinType2      38\n",
      "Electrical         1\n",
      "FireplaceQu      690\n",
      "GarageType        81\n",
      "GarageYrBlt       81\n",
      "GarageFinish      81\n",
      "GarageQual        81\n",
      "GarageCond        81\n",
      "PoolQC          1453\n",
      "Fence           1179\n",
      "MiscFeature     1406\n",
      "dtype: int64\n",
      "========================================\n",
      "(TEST) Number of missing values:\n",
      "========================================\n",
      "MSZoning           4\n",
      "LotFrontage      227\n",
      "Alley           1352\n",
      "Utilities          2\n",
      "Exterior1st        1\n",
      "Exterior2nd        1\n",
      "MasVnrType        16\n",
      "MasVnrArea        15\n",
      "BsmtQual          44\n",
      "BsmtCond          45\n",
      "BsmtExposure      44\n",
      "BsmtFinType1      42\n",
      "BsmtFinSF1         1\n",
      "BsmtFinType2      42\n",
      "BsmtFinSF2         1\n",
      "BsmtUnfSF          1\n",
      "TotalBsmtSF        1\n",
      "BsmtFullBath       2\n",
      "BsmtHalfBath       2\n",
      "KitchenQual        1\n",
      "Functional         2\n",
      "FireplaceQu      730\n",
      "GarageType        76\n",
      "GarageYrBlt       78\n",
      "GarageFinish      78\n",
      "GarageCars         1\n",
      "GarageArea         1\n",
      "GarageQual        78\n",
      "GarageCond        78\n",
      "PoolQC          1456\n",
      "Fence           1169\n",
      "MiscFeature     1408\n",
      "SaleType           1\n",
      "dtype: int64\n"
     ]
    }
   ],
   "source": [
    "check_missing_values(X_train, X_test)"
   ]
  },
  {
   "cell_type": "markdown",
   "id": "624d6f2f",
   "metadata": {
    "papermill": {
     "duration": 0.029819,
     "end_time": "2023-03-05T03:57:01.471840",
     "exception": false,
     "start_time": "2023-03-05T03:57:01.442021",
     "status": "completed"
    },
    "tags": []
   },
   "source": [
    "From the data description text file, some columns have NA categories to denote that a particular element of the house does not exist (e.g. no garage). We check below that none of the data contains the string \"NA\", so the NA categories are most likely recognized as NaN values."
   ]
  },
  {
   "cell_type": "code",
   "execution_count": 7,
   "id": "f9fde6a3",
   "metadata": {
    "execution": {
     "iopub.execute_input": "2023-03-05T03:57:01.537582Z",
     "iopub.status.busy": "2023-03-05T03:57:01.537125Z",
     "iopub.status.idle": "2023-03-05T03:57:01.560248Z",
     "shell.execute_reply": "2023-03-05T03:57:01.558885Z"
    },
    "papermill": {
     "duration": 0.058825,
     "end_time": "2023-03-05T03:57:01.562611",
     "exception": false,
     "start_time": "2023-03-05T03:57:01.503786",
     "status": "completed"
    },
    "tags": []
   },
   "outputs": [
    {
     "name": "stdout",
     "output_type": "stream",
     "text": [
      "0\n",
      "0\n"
     ]
    }
   ],
   "source": [
    "print((X_train==\"NA\").sum().sum())\n",
    "print((X_test==\"NA\").sum().sum())"
   ]
  },
  {
   "cell_type": "markdown",
   "id": "ba83de51",
   "metadata": {
    "papermill": {
     "duration": 0.029972,
     "end_time": "2023-03-05T03:57:01.622958",
     "exception": false,
     "start_time": "2023-03-05T03:57:01.592986",
     "status": "completed"
    },
    "tags": []
   },
   "source": [
    "On the other hand, it is possible that some houses have the features, but data is indeed missing. To differentiate between the two cases, we check that all related columns (of `Bsmt`, `MasVnr`, etc.) are indeed 0/NA values, indicating that the corresponding feature most likely does not exist for the house. For features with single columns (like `Alley` and `Fence`), we just fill the missing values straight.\n",
    "\n",
    "For numerical columns, we fill using the value 0. For categorical columns, we use the string \"NA\"."
   ]
  },
  {
   "cell_type": "code",
   "execution_count": 8,
   "id": "dda81178",
   "metadata": {
    "execution": {
     "iopub.execute_input": "2023-03-05T03:57:01.759926Z",
     "iopub.status.busy": "2023-03-05T03:57:01.759513Z",
     "iopub.status.idle": "2023-03-05T03:57:01.766172Z",
     "shell.execute_reply": "2023-03-05T03:57:01.765356Z"
    },
    "papermill": {
     "duration": 0.040651,
     "end_time": "2023-03-05T03:57:01.768398",
     "exception": false,
     "start_time": "2023-03-05T03:57:01.727747",
     "status": "completed"
    },
    "tags": []
   },
   "outputs": [
    {
     "name": "stdout",
     "output_type": "stream",
     "text": [
      "========================================\n",
      "Columns to fill missing values:\n",
      "========================================\n",
      "{'Bsmt': ['BsmtQual', 'BsmtCond', 'BsmtExposure', 'BsmtFinType1', 'BsmtFinSF1', 'BsmtFinType2', 'BsmtFinSF2', 'BsmtUnfSF', 'TotalBsmtSF', 'BsmtFullBath', 'BsmtHalfBath'], 'MasVnr': ['MasVnrType', 'MasVnrArea'], 'Pool': ['PoolArea', 'PoolQC'], 'Fireplace': ['Fireplaces', 'FireplaceQu'], 'Misc': ['MiscFeature', 'MiscVal'], 'Garage': ['GarageType', 'GarageYrBlt', 'GarageFinish', 'GarageCars', 'GarageArea', 'GarageQual', 'GarageCond']}\n"
     ]
    }
   ],
   "source": [
    "HSE_FEAT = [\"Bsmt\", \"MasVnr\", \"Pool\", \"Fireplace\", \"Misc\", \"Garage\"]\n",
    "\n",
    "RELATED_COL = {\n",
    "    feat: [col for col in X_train if feat in col]\n",
    "    for feat in HSE_FEAT\n",
    "}\n",
    "\n",
    "print(\"=\"*40)\n",
    "print(\"Columns to fill missing values:\")\n",
    "print(\"=\"*40)\n",
    "print(RELATED_COL)"
   ]
  },
  {
   "cell_type": "code",
   "execution_count": 9,
   "id": "584aed5a",
   "metadata": {
    "execution": {
     "iopub.execute_input": "2023-03-05T03:57:01.832795Z",
     "iopub.status.busy": "2023-03-05T03:57:01.832401Z",
     "iopub.status.idle": "2023-03-05T03:57:02.251076Z",
     "shell.execute_reply": "2023-03-05T03:57:02.249803Z"
    },
    "papermill": {
     "duration": 0.45447,
     "end_time": "2023-03-05T03:57:02.253891",
     "exception": false,
     "start_time": "2023-03-05T03:57:01.799421",
     "status": "completed"
    },
    "tags": []
   },
   "outputs": [],
   "source": [
    "X_train[[\"Alley\", \"Fence\"]] = X_train[[\"Alley\", \"Fence\"]].fillna(\"NA\")\n",
    "X_test[[\"Alley\", \"Fence\"]] = X_test[[\"Alley\", \"Fence\"]].fillna(\"NA\")\n",
    "\n",
    "for cols in RELATED_COL.values():\n",
    "    X_train, X_test = fill_with_constant(X_train, X_test, cols)\n",
    "    \n",
    "X_train.MasVnrType = X_train.MasVnrType.replace({\"None\": \"NA\"})\n",
    "X_test.MasVnrType = X_test.MasVnrType.replace({\"None\": \"NA\"})"
   ]
  },
  {
   "cell_type": "markdown",
   "id": "ffd4c714",
   "metadata": {
    "papermill": {
     "duration": 0.032029,
     "end_time": "2023-03-05T03:57:02.317167",
     "exception": false,
     "start_time": "2023-03-05T03:57:02.285138",
     "status": "completed"
    },
    "tags": []
   },
   "source": [
    "Instead of filling the missing values in `GarageYrBlt` column with \"NA\", we fix them to the values of the `YearBuilt` column. The reason is that the date columns can be used to create useful numerical features later, so this will be a possible approximation."
   ]
  },
  {
   "cell_type": "code",
   "execution_count": 10,
   "id": "41d104d7",
   "metadata": {
    "execution": {
     "iopub.execute_input": "2023-03-05T03:57:02.381833Z",
     "iopub.status.busy": "2023-03-05T03:57:02.381442Z",
     "iopub.status.idle": "2023-03-05T03:57:02.463565Z",
     "shell.execute_reply": "2023-03-05T03:57:02.462350Z"
    },
    "papermill": {
     "duration": 0.118047,
     "end_time": "2023-03-05T03:57:02.466341",
     "exception": false,
     "start_time": "2023-03-05T03:57:02.348294",
     "status": "completed"
    },
    "tags": []
   },
   "outputs": [],
   "source": [
    "fill_GarageYrBlt_fn = lambda x: x.YearBuilt if pd.isna(x.GarageYrBlt) else x.GarageYrBlt\n",
    "\n",
    "X_train.GarageYrBlt = X_train.apply(fill_GarageYrBlt_fn, axis=1).astype(object)\n",
    "X_test.GarageYrBlt = X_test.apply(fill_GarageYrBlt_fn, axis=1).astype(object)"
   ]
  },
  {
   "cell_type": "code",
   "execution_count": 11,
   "id": "2cbf065a",
   "metadata": {
    "execution": {
     "iopub.execute_input": "2023-03-05T03:57:02.530935Z",
     "iopub.status.busy": "2023-03-05T03:57:02.530506Z",
     "iopub.status.idle": "2023-03-05T03:57:02.561196Z",
     "shell.execute_reply": "2023-03-05T03:57:02.559792Z"
    },
    "papermill": {
     "duration": 0.066694,
     "end_time": "2023-03-05T03:57:02.564139",
     "exception": false,
     "start_time": "2023-03-05T03:57:02.497445",
     "status": "completed"
    },
    "tags": []
   },
   "outputs": [
    {
     "name": "stdout",
     "output_type": "stream",
     "text": [
      "========================================\n",
      "(TRAIN) Number of missing values:\n",
      "========================================\n",
      "LotFrontage     259\n",
      "BsmtExposure      1\n",
      "BsmtFinType2      1\n",
      "Electrical        1\n",
      "dtype: int64\n",
      "========================================\n",
      "(TEST) Number of missing values:\n",
      "========================================\n",
      "MSZoning          4\n",
      "LotFrontage     227\n",
      "Utilities         2\n",
      "Exterior1st       1\n",
      "Exterior2nd       1\n",
      "MasVnrType        1\n",
      "BsmtQual          2\n",
      "BsmtCond          3\n",
      "BsmtExposure      2\n",
      "KitchenQual       1\n",
      "Functional        2\n",
      "GarageFinish      2\n",
      "GarageCars        1\n",
      "GarageArea        1\n",
      "GarageQual        2\n",
      "GarageCond        2\n",
      "PoolQC            3\n",
      "MiscFeature       1\n",
      "SaleType          1\n",
      "dtype: int64\n"
     ]
    }
   ],
   "source": [
    "check_missing_values(X_train, X_test)"
   ]
  },
  {
   "cell_type": "markdown",
   "id": "a0d84d05",
   "metadata": {
    "papermill": {
     "duration": 0.0309,
     "end_time": "2023-03-05T03:57:02.626221",
     "exception": false,
     "start_time": "2023-03-05T03:57:02.595321",
     "status": "completed"
    },
    "tags": []
   },
   "source": [
    "We still have missing values after the first round of imputation. Without any other information, we can only fill the remaining values using some form of estimation."
   ]
  },
  {
   "cell_type": "markdown",
   "id": "c24d56cc",
   "metadata": {
    "papermill": {
     "duration": 0.031265,
     "end_time": "2023-03-05T03:57:02.688299",
     "exception": false,
     "start_time": "2023-03-05T03:57:02.657034",
     "status": "completed"
    },
    "tags": []
   },
   "source": [
    "### Fill using estimated values."
   ]
  },
  {
   "cell_type": "markdown",
   "id": "de0ad375",
   "metadata": {
    "papermill": {
     "duration": 0.030924,
     "end_time": "2023-03-05T03:57:02.751011",
     "exception": false,
     "start_time": "2023-03-05T03:57:02.720087",
     "status": "completed"
    },
    "tags": []
   },
   "source": [
    "`LotFrontage` has the largest number of missing values among the remaining columns. In general, we can expect that houses with large `LotFrontage` would also have large `LotArea`. We can verify this with the regression plot below."
   ]
  },
  {
   "cell_type": "code",
   "execution_count": 12,
   "id": "9f45076e",
   "metadata": {
    "execution": {
     "iopub.execute_input": "2023-03-05T03:57:02.888604Z",
     "iopub.status.busy": "2023-03-05T03:57:02.887843Z",
     "iopub.status.idle": "2023-03-05T03:57:03.924486Z",
     "shell.execute_reply": "2023-03-05T03:57:03.923456Z"
    },
    "papermill": {
     "duration": 1.072141,
     "end_time": "2023-03-05T03:57:03.927588",
     "exception": false,
     "start_time": "2023-03-05T03:57:02.855447",
     "status": "completed"
    },
    "tags": []
   },
   "outputs": [
    {
     "data": {
      "image/png": "[encoded data removed]",
      "text/plain": [
       "<Figure size 1800x450 with 2 Axes>"
      ]
     },
     "metadata": {},
     "output_type": "display_data"
    }
   ],
   "source": [
    "plt.figure(figsize=(18, 4.5))\n",
    "\n",
    "plt.subplot(121)\n",
    "regplot(X_train.LotArea, X_train.LotFrontage, remove_na=True)\n",
    "\n",
    "plt.subplot(122)\n",
    "regplot(np.log1p(X_train.LotArea), np.log1p(X_train.LotFrontage), remove_na=True, color=\"r\")\n",
    "plt.xlabel(\"log(LotArea)\")\n",
    "plt.ylabel(\"log(LotFrontage)\")\n",
    "\n",
    "plt.show()"
   ]
  },
  {
   "cell_type": "markdown",
   "id": "acb5822f",
   "metadata": {
    "papermill": {
     "duration": 0.032307,
     "end_time": "2023-03-05T03:57:03.993223",
     "exception": false,
     "start_time": "2023-03-05T03:57:03.960916",
     "status": "completed"
    },
    "tags": []
   },
   "source": [
    "Using a log-log plot to reduce the effect of outlier values, we see that the log of the two columns are strongly correlated. We impute the missing values in `LotFrontage` using regression on the log values."
   ]
  },
  {
   "cell_type": "code",
   "execution_count": 13,
   "id": "1ca2828b",
   "metadata": {
    "execution": {
     "iopub.execute_input": "2023-03-05T03:57:04.141852Z",
     "iopub.status.busy": "2023-03-05T03:57:04.141392Z",
     "iopub.status.idle": "2023-03-05T03:57:04.175333Z",
     "shell.execute_reply": "2023-03-05T03:57:04.174359Z"
    },
    "papermill": {
     "duration": 0.072369,
     "end_time": "2023-03-05T03:57:04.178028",
     "exception": false,
     "start_time": "2023-03-05T03:57:04.105659",
     "status": "completed"
    },
    "tags": []
   },
   "outputs": [],
   "source": [
    "imputer = RegressionImputer(RidgeCV())\n",
    "imputer.fit(X_train.LotArea, X_train.LotFrontage)\n",
    "\n",
    "X_train.LotFrontage = imputer.transform(X_train.LotArea, X_train.LotFrontage)\n",
    "X_test.LotFrontage = imputer.transform(X_test.LotArea, X_test.LotFrontage)"
   ]
  },
  {
   "cell_type": "markdown",
   "id": "15821800",
   "metadata": {
    "papermill": {
     "duration": 0.032239,
     "end_time": "2023-03-05T03:57:04.243257",
     "exception": false,
     "start_time": "2023-03-05T03:57:04.211018",
     "status": "completed"
    },
    "tags": []
   },
   "source": [
    "To keep things simple, we fill the remaining missing values by computing the median/mode over the training data. We recall that the 0/\"NA\" values imputed earlier indicate that the house does not have the corresponding feature, so we need to exclude these houses for the estimations to be more representative of other houses that have such features. \n",
    "\n",
    "To give an example, we use `PoolQC` with 3 missing values left in the testing data. These 3 houses have `PoolArea` greater than 0, indicating that the houses have pools. However, the mode of `PoolQC` over the training data is \"NA\", which is a contradiction. Hence, we first remove houses without pools and then compute the mode. The same applies for other features with multiple related columns."
   ]
  },
  {
   "cell_type": "code",
   "execution_count": 14,
   "id": "4b196b67",
   "metadata": {
    "execution": {
     "iopub.execute_input": "2023-03-05T03:57:04.393435Z",
     "iopub.status.busy": "2023-03-05T03:57:04.392050Z",
     "iopub.status.idle": "2023-03-05T03:57:04.532200Z",
     "shell.execute_reply": "2023-03-05T03:57:04.530752Z"
    },
    "papermill": {
     "duration": 0.176916,
     "end_time": "2023-03-05T03:57:04.535014",
     "exception": false,
     "start_time": "2023-03-05T03:57:04.358098",
     "status": "completed"
    },
    "tags": []
   },
   "outputs": [],
   "source": [
    "X_train, X_test = fill_with_estimate(X_train, X_test, related_col=RELATED_COL)"
   ]
  },
  {
   "cell_type": "code",
   "execution_count": 15,
   "id": "edc000b6",
   "metadata": {
    "execution": {
     "iopub.execute_input": "2023-03-05T03:57:04.601797Z",
     "iopub.status.busy": "2023-03-05T03:57:04.601358Z",
     "iopub.status.idle": "2023-03-05T03:57:04.667332Z",
     "shell.execute_reply": "2023-03-05T03:57:04.665642Z"
    },
    "papermill": {
     "duration": 0.10243,
     "end_time": "2023-03-05T03:57:04.669897",
     "exception": false,
     "start_time": "2023-03-05T03:57:04.567467",
     "status": "completed"
    },
    "tags": []
   },
   "outputs": [
    {
     "name": "stdout",
     "output_type": "stream",
     "text": [
      "========================================\n",
      "(TRAIN) Number of missing values:\n",
      "========================================\n",
      "Series([], dtype: int64)\n",
      "========================================\n",
      "(TEST) Number of missing values:\n",
      "========================================\n",
      "Series([], dtype: int64)\n"
     ]
    }
   ],
   "source": [
    "check_missing_values(X_train, X_test)"
   ]
  },
  {
   "cell_type": "markdown",
   "id": "d09df18a",
   "metadata": {
    "papermill": {
     "duration": 0.032359,
     "end_time": "2023-03-05T03:57:04.734829",
     "exception": false,
     "start_time": "2023-03-05T03:57:04.702470",
     "status": "completed"
    },
    "tags": []
   },
   "source": [
    "---"
   ]
  },
  {
   "cell_type": "markdown",
   "id": "9ea95ef7",
   "metadata": {
    "papermill": {
     "duration": 0.033139,
     "end_time": "2023-03-05T03:57:04.800583",
     "exception": false,
     "start_time": "2023-03-05T03:57:04.767444",
     "status": "completed"
    },
    "tags": []
   },
   "source": [
    "# 3. Feature Engineering"
   ]
  },
  {
   "cell_type": "code",
   "execution_count": 16,
   "id": "3ca714d7",
   "metadata": {
    "execution": {
     "iopub.execute_input": "2023-03-05T03:57:04.868797Z",
     "iopub.status.busy": "2023-03-05T03:57:04.867658Z",
     "iopub.status.idle": "2023-03-05T03:57:05.040508Z",
     "shell.execute_reply": "2023-03-05T03:57:05.039298Z"
    },
    "papermill": {
     "duration": 0.209514,
     "end_time": "2023-03-05T03:57:05.042971",
     "exception": false,
     "start_time": "2023-03-05T03:57:04.833457",
     "status": "completed"
    },
    "tags": []
   },
   "outputs": [
    {
     "data": {
      "text/html": [
       "<div>\n",
       "<style scoped>\n",
       "    .dataframe tbody tr th:only-of-type {\n",
       "        vertical-align: middle;\n",
       "    }\n",
       "\n",
       "    .dataframe tbody tr th {\n",
       "        vertical-align: top;\n",
       "    }\n",
       "\n",
       "    .dataframe thead th {\n",
       "        text-align: right;\n",
       "    }\n",
       "</style>\n",
       "<table border=\"1\" class=\"dataframe\">\n",
       "  <thead>\n",
       "    <tr style=\"text-align: right;\">\n",
       "      <th></th>\n",
       "      <th>tr_mean</th>\n",
       "      <th>tr_std</th>\n",
       "      <th>tr_min</th>\n",
       "      <th>tr_25%</th>\n",
       "      <th>tr_50%</th>\n",
       "      <th>tr_75%</th>\n",
       "      <th>tr_max</th>\n",
       "      <th>tt_mean</th>\n",
       "      <th>tt_std</th>\n",
       "      <th>tt_min</th>\n",
       "      <th>tt_25%</th>\n",
       "      <th>tt_50%</th>\n",
       "      <th>tt_75%</th>\n",
       "      <th>tt_max</th>\n",
       "    </tr>\n",
       "  </thead>\n",
       "  <tbody>\n",
       "    <tr>\n",
       "      <th>LotFrontage</th>\n",
       "      <td>71.176994</td>\n",
       "      <td>25.668941</td>\n",
       "      <td>21.0</td>\n",
       "      <td>60.00</td>\n",
       "      <td>70.0</td>\n",
       "      <td>80.00</td>\n",
       "      <td>313.0</td>\n",
       "      <td>69.419272</td>\n",
       "      <td>22.057460</td>\n",
       "      <td>21.0</td>\n",
       "      <td>60.0</td>\n",
       "      <td>68.232044</td>\n",
       "      <td>80.0</td>\n",
       "      <td>200.0</td>\n",
       "    </tr>\n",
       "    <tr>\n",
       "      <th>LotArea</th>\n",
       "      <td>10516.828082</td>\n",
       "      <td>9981.264932</td>\n",
       "      <td>1300.0</td>\n",
       "      <td>7553.50</td>\n",
       "      <td>9478.5</td>\n",
       "      <td>11601.50</td>\n",
       "      <td>215245.0</td>\n",
       "      <td>9819.161069</td>\n",
       "      <td>4955.517327</td>\n",
       "      <td>1470.0</td>\n",
       "      <td>7391.0</td>\n",
       "      <td>9399.000000</td>\n",
       "      <td>11517.5</td>\n",
       "      <td>56600.0</td>\n",
       "    </tr>\n",
       "    <tr>\n",
       "      <th>MasVnrArea</th>\n",
       "      <td>103.117123</td>\n",
       "      <td>180.731373</td>\n",
       "      <td>0.0</td>\n",
       "      <td>0.00</td>\n",
       "      <td>0.0</td>\n",
       "      <td>164.25</td>\n",
       "      <td>1600.0</td>\n",
       "      <td>99.673749</td>\n",
       "      <td>177.001792</td>\n",
       "      <td>0.0</td>\n",
       "      <td>0.0</td>\n",
       "      <td>0.000000</td>\n",
       "      <td>162.0</td>\n",
       "      <td>1290.0</td>\n",
       "    </tr>\n",
       "    <tr>\n",
       "      <th>BsmtFinSF1</th>\n",
       "      <td>443.639726</td>\n",
       "      <td>456.098091</td>\n",
       "      <td>0.0</td>\n",
       "      <td>0.00</td>\n",
       "      <td>383.5</td>\n",
       "      <td>712.25</td>\n",
       "      <td>5644.0</td>\n",
       "      <td>438.902673</td>\n",
       "      <td>455.257119</td>\n",
       "      <td>0.0</td>\n",
       "      <td>0.0</td>\n",
       "      <td>350.000000</td>\n",
       "      <td>752.0</td>\n",
       "      <td>4010.0</td>\n",
       "    </tr>\n",
       "    <tr>\n",
       "      <th>BsmtFinSF2</th>\n",
       "      <td>46.549315</td>\n",
       "      <td>161.319273</td>\n",
       "      <td>0.0</td>\n",
       "      <td>0.00</td>\n",
       "      <td>0.0</td>\n",
       "      <td>0.00</td>\n",
       "      <td>1474.0</td>\n",
       "      <td>52.583276</td>\n",
       "      <td>176.698671</td>\n",
       "      <td>0.0</td>\n",
       "      <td>0.0</td>\n",
       "      <td>0.000000</td>\n",
       "      <td>0.0</td>\n",
       "      <td>1526.0</td>\n",
       "    </tr>\n",
       "    <tr>\n",
       "      <th>BsmtUnfSF</th>\n",
       "      <td>567.240411</td>\n",
       "      <td>441.866955</td>\n",
       "      <td>0.0</td>\n",
       "      <td>223.00</td>\n",
       "      <td>477.5</td>\n",
       "      <td>808.00</td>\n",
       "      <td>2336.0</td>\n",
       "      <td>553.915010</td>\n",
       "      <td>437.351324</td>\n",
       "      <td>0.0</td>\n",
       "      <td>219.0</td>\n",
       "      <td>460.000000</td>\n",
       "      <td>797.5</td>\n",
       "      <td>2140.0</td>\n",
       "    </tr>\n",
       "    <tr>\n",
       "      <th>TotalBsmtSF</th>\n",
       "      <td>1057.429452</td>\n",
       "      <td>438.705324</td>\n",
       "      <td>0.0</td>\n",
       "      <td>795.75</td>\n",
       "      <td>991.5</td>\n",
       "      <td>1298.25</td>\n",
       "      <td>6110.0</td>\n",
       "      <td>1045.400960</td>\n",
       "      <td>443.592976</td>\n",
       "      <td>0.0</td>\n",
       "      <td>784.0</td>\n",
       "      <td>988.000000</td>\n",
       "      <td>1304.0</td>\n",
       "      <td>5095.0</td>\n",
       "    </tr>\n",
       "    <tr>\n",
       "      <th>1stFlrSF</th>\n",
       "      <td>1162.626712</td>\n",
       "      <td>386.587738</td>\n",
       "      <td>334.0</td>\n",
       "      <td>882.00</td>\n",
       "      <td>1087.0</td>\n",
       "      <td>1391.25</td>\n",
       "      <td>4692.0</td>\n",
       "      <td>1156.534613</td>\n",
       "      <td>398.165820</td>\n",
       "      <td>407.0</td>\n",
       "      <td>873.5</td>\n",
       "      <td>1079.000000</td>\n",
       "      <td>1382.5</td>\n",
       "      <td>5095.0</td>\n",
       "    </tr>\n",
       "    <tr>\n",
       "      <th>2ndFlrSF</th>\n",
       "      <td>346.992466</td>\n",
       "      <td>436.528436</td>\n",
       "      <td>0.0</td>\n",
       "      <td>0.00</td>\n",
       "      <td>0.0</td>\n",
       "      <td>728.00</td>\n",
       "      <td>2065.0</td>\n",
       "      <td>325.967786</td>\n",
       "      <td>420.610226</td>\n",
       "      <td>0.0</td>\n",
       "      <td>0.0</td>\n",
       "      <td>0.000000</td>\n",
       "      <td>676.0</td>\n",
       "      <td>1862.0</td>\n",
       "    </tr>\n",
       "    <tr>\n",
       "      <th>LowQualFinSF</th>\n",
       "      <td>5.844521</td>\n",
       "      <td>48.623081</td>\n",
       "      <td>0.0</td>\n",
       "      <td>0.00</td>\n",
       "      <td>0.0</td>\n",
       "      <td>0.00</td>\n",
       "      <td>572.0</td>\n",
       "      <td>3.543523</td>\n",
       "      <td>44.043251</td>\n",
       "      <td>0.0</td>\n",
       "      <td>0.0</td>\n",
       "      <td>0.000000</td>\n",
       "      <td>0.0</td>\n",
       "      <td>1064.0</td>\n",
       "    </tr>\n",
       "    <tr>\n",
       "      <th>GrLivArea</th>\n",
       "      <td>1515.463699</td>\n",
       "      <td>525.480383</td>\n",
       "      <td>334.0</td>\n",
       "      <td>1129.50</td>\n",
       "      <td>1464.0</td>\n",
       "      <td>1776.75</td>\n",
       "      <td>5642.0</td>\n",
       "      <td>1486.045922</td>\n",
       "      <td>485.566099</td>\n",
       "      <td>407.0</td>\n",
       "      <td>1117.5</td>\n",
       "      <td>1432.000000</td>\n",
       "      <td>1721.0</td>\n",
       "      <td>5095.0</td>\n",
       "    </tr>\n",
       "    <tr>\n",
       "      <th>BsmtFullBath</th>\n",
       "      <td>0.425342</td>\n",
       "      <td>0.518911</td>\n",
       "      <td>0.0</td>\n",
       "      <td>0.00</td>\n",
       "      <td>0.0</td>\n",
       "      <td>1.00</td>\n",
       "      <td>3.0</td>\n",
       "      <td>0.433859</td>\n",
       "      <td>0.530527</td>\n",
       "      <td>0.0</td>\n",
       "      <td>0.0</td>\n",
       "      <td>0.000000</td>\n",
       "      <td>1.0</td>\n",
       "      <td>3.0</td>\n",
       "    </tr>\n",
       "    <tr>\n",
       "      <th>BsmtHalfBath</th>\n",
       "      <td>0.057534</td>\n",
       "      <td>0.238753</td>\n",
       "      <td>0.0</td>\n",
       "      <td>0.00</td>\n",
       "      <td>0.0</td>\n",
       "      <td>0.00</td>\n",
       "      <td>2.0</td>\n",
       "      <td>0.065113</td>\n",
       "      <td>0.252307</td>\n",
       "      <td>0.0</td>\n",
       "      <td>0.0</td>\n",
       "      <td>0.000000</td>\n",
       "      <td>0.0</td>\n",
       "      <td>2.0</td>\n",
       "    </tr>\n",
       "    <tr>\n",
       "      <th>FullBath</th>\n",
       "      <td>1.565068</td>\n",
       "      <td>0.550916</td>\n",
       "      <td>0.0</td>\n",
       "      <td>1.00</td>\n",
       "      <td>2.0</td>\n",
       "      <td>2.00</td>\n",
       "      <td>3.0</td>\n",
       "      <td>1.570939</td>\n",
       "      <td>0.555190</td>\n",
       "      <td>0.0</td>\n",
       "      <td>1.0</td>\n",
       "      <td>2.000000</td>\n",
       "      <td>2.0</td>\n",
       "      <td>4.0</td>\n",
       "    </tr>\n",
       "    <tr>\n",
       "      <th>HalfBath</th>\n",
       "      <td>0.382877</td>\n",
       "      <td>0.502885</td>\n",
       "      <td>0.0</td>\n",
       "      <td>0.00</td>\n",
       "      <td>0.0</td>\n",
       "      <td>1.00</td>\n",
       "      <td>2.0</td>\n",
       "      <td>0.377656</td>\n",
       "      <td>0.503017</td>\n",
       "      <td>0.0</td>\n",
       "      <td>0.0</td>\n",
       "      <td>0.000000</td>\n",
       "      <td>1.0</td>\n",
       "      <td>2.0</td>\n",
       "    </tr>\n",
       "    <tr>\n",
       "      <th>BedroomAbvGr</th>\n",
       "      <td>2.866438</td>\n",
       "      <td>0.815778</td>\n",
       "      <td>0.0</td>\n",
       "      <td>2.00</td>\n",
       "      <td>3.0</td>\n",
       "      <td>3.00</td>\n",
       "      <td>8.0</td>\n",
       "      <td>2.854010</td>\n",
       "      <td>0.829788</td>\n",
       "      <td>0.0</td>\n",
       "      <td>2.0</td>\n",
       "      <td>3.000000</td>\n",
       "      <td>3.0</td>\n",
       "      <td>6.0</td>\n",
       "    </tr>\n",
       "    <tr>\n",
       "      <th>KitchenAbvGr</th>\n",
       "      <td>1.046575</td>\n",
       "      <td>0.220338</td>\n",
       "      <td>0.0</td>\n",
       "      <td>1.00</td>\n",
       "      <td>1.0</td>\n",
       "      <td>1.00</td>\n",
       "      <td>3.0</td>\n",
       "      <td>1.042495</td>\n",
       "      <td>0.208472</td>\n",
       "      <td>0.0</td>\n",
       "      <td>1.0</td>\n",
       "      <td>1.000000</td>\n",
       "      <td>1.0</td>\n",
       "      <td>2.0</td>\n",
       "    </tr>\n",
       "    <tr>\n",
       "      <th>TotRmsAbvGrd</th>\n",
       "      <td>6.517808</td>\n",
       "      <td>1.625393</td>\n",
       "      <td>2.0</td>\n",
       "      <td>5.00</td>\n",
       "      <td>6.0</td>\n",
       "      <td>7.00</td>\n",
       "      <td>14.0</td>\n",
       "      <td>6.385195</td>\n",
       "      <td>1.508895</td>\n",
       "      <td>3.0</td>\n",
       "      <td>5.0</td>\n",
       "      <td>6.000000</td>\n",
       "      <td>7.0</td>\n",
       "      <td>15.0</td>\n",
       "    </tr>\n",
       "    <tr>\n",
       "      <th>Fireplaces</th>\n",
       "      <td>0.613014</td>\n",
       "      <td>0.644666</td>\n",
       "      <td>0.0</td>\n",
       "      <td>0.00</td>\n",
       "      <td>1.0</td>\n",
       "      <td>1.00</td>\n",
       "      <td>3.0</td>\n",
       "      <td>0.581220</td>\n",
       "      <td>0.647420</td>\n",
       "      <td>0.0</td>\n",
       "      <td>0.0</td>\n",
       "      <td>0.000000</td>\n",
       "      <td>1.0</td>\n",
       "      <td>4.0</td>\n",
       "    </tr>\n",
       "    <tr>\n",
       "      <th>GarageCars</th>\n",
       "      <td>1.767123</td>\n",
       "      <td>0.747315</td>\n",
       "      <td>0.0</td>\n",
       "      <td>1.00</td>\n",
       "      <td>2.0</td>\n",
       "      <td>2.00</td>\n",
       "      <td>4.0</td>\n",
       "      <td>1.766278</td>\n",
       "      <td>0.775703</td>\n",
       "      <td>0.0</td>\n",
       "      <td>1.0</td>\n",
       "      <td>2.000000</td>\n",
       "      <td>2.0</td>\n",
       "      <td>5.0</td>\n",
       "    </tr>\n",
       "    <tr>\n",
       "      <th>GarageArea</th>\n",
       "      <td>472.980137</td>\n",
       "      <td>213.804841</td>\n",
       "      <td>0.0</td>\n",
       "      <td>334.50</td>\n",
       "      <td>480.0</td>\n",
       "      <td>576.00</td>\n",
       "      <td>1418.0</td>\n",
       "      <td>472.776559</td>\n",
       "      <td>216.974364</td>\n",
       "      <td>0.0</td>\n",
       "      <td>318.0</td>\n",
       "      <td>480.000000</td>\n",
       "      <td>576.0</td>\n",
       "      <td>1488.0</td>\n",
       "    </tr>\n",
       "    <tr>\n",
       "      <th>WoodDeckSF</th>\n",
       "      <td>94.244521</td>\n",
       "      <td>125.338794</td>\n",
       "      <td>0.0</td>\n",
       "      <td>0.00</td>\n",
       "      <td>0.0</td>\n",
       "      <td>168.00</td>\n",
       "      <td>857.0</td>\n",
       "      <td>93.174777</td>\n",
       "      <td>127.744882</td>\n",
       "      <td>0.0</td>\n",
       "      <td>0.0</td>\n",
       "      <td>0.000000</td>\n",
       "      <td>168.0</td>\n",
       "      <td>1424.0</td>\n",
       "    </tr>\n",
       "    <tr>\n",
       "      <th>OpenPorchSF</th>\n",
       "      <td>46.660274</td>\n",
       "      <td>66.256028</td>\n",
       "      <td>0.0</td>\n",
       "      <td>0.00</td>\n",
       "      <td>25.0</td>\n",
       "      <td>68.00</td>\n",
       "      <td>547.0</td>\n",
       "      <td>48.313914</td>\n",
       "      <td>68.883364</td>\n",
       "      <td>0.0</td>\n",
       "      <td>0.0</td>\n",
       "      <td>28.000000</td>\n",
       "      <td>72.0</td>\n",
       "      <td>742.0</td>\n",
       "    </tr>\n",
       "    <tr>\n",
       "      <th>EnclosedPorch</th>\n",
       "      <td>21.954110</td>\n",
       "      <td>61.119149</td>\n",
       "      <td>0.0</td>\n",
       "      <td>0.00</td>\n",
       "      <td>0.0</td>\n",
       "      <td>0.00</td>\n",
       "      <td>552.0</td>\n",
       "      <td>24.243317</td>\n",
       "      <td>67.227765</td>\n",
       "      <td>0.0</td>\n",
       "      <td>0.0</td>\n",
       "      <td>0.000000</td>\n",
       "      <td>0.0</td>\n",
       "      <td>1012.0</td>\n",
       "    </tr>\n",
       "    <tr>\n",
       "      <th>3SsnPorch</th>\n",
       "      <td>3.409589</td>\n",
       "      <td>29.317331</td>\n",
       "      <td>0.0</td>\n",
       "      <td>0.00</td>\n",
       "      <td>0.0</td>\n",
       "      <td>0.00</td>\n",
       "      <td>508.0</td>\n",
       "      <td>1.794380</td>\n",
       "      <td>20.207842</td>\n",
       "      <td>0.0</td>\n",
       "      <td>0.0</td>\n",
       "      <td>0.000000</td>\n",
       "      <td>0.0</td>\n",
       "      <td>360.0</td>\n",
       "    </tr>\n",
       "    <tr>\n",
       "      <th>ScreenPorch</th>\n",
       "      <td>15.060959</td>\n",
       "      <td>55.757415</td>\n",
       "      <td>0.0</td>\n",
       "      <td>0.00</td>\n",
       "      <td>0.0</td>\n",
       "      <td>0.00</td>\n",
       "      <td>480.0</td>\n",
       "      <td>17.064428</td>\n",
       "      <td>56.609763</td>\n",
       "      <td>0.0</td>\n",
       "      <td>0.0</td>\n",
       "      <td>0.000000</td>\n",
       "      <td>0.0</td>\n",
       "      <td>576.0</td>\n",
       "    </tr>\n",
       "    <tr>\n",
       "      <th>PoolArea</th>\n",
       "      <td>2.758904</td>\n",
       "      <td>40.177307</td>\n",
       "      <td>0.0</td>\n",
       "      <td>0.00</td>\n",
       "      <td>0.0</td>\n",
       "      <td>0.00</td>\n",
       "      <td>738.0</td>\n",
       "      <td>1.744345</td>\n",
       "      <td>30.491646</td>\n",
       "      <td>0.0</td>\n",
       "      <td>0.0</td>\n",
       "      <td>0.000000</td>\n",
       "      <td>0.0</td>\n",
       "      <td>800.0</td>\n",
       "    </tr>\n",
       "    <tr>\n",
       "      <th>MiscVal</th>\n",
       "      <td>43.489041</td>\n",
       "      <td>496.123024</td>\n",
       "      <td>0.0</td>\n",
       "      <td>0.00</td>\n",
       "      <td>0.0</td>\n",
       "      <td>0.00</td>\n",
       "      <td>15500.0</td>\n",
       "      <td>58.167923</td>\n",
       "      <td>630.806978</td>\n",
       "      <td>0.0</td>\n",
       "      <td>0.0</td>\n",
       "      <td>0.000000</td>\n",
       "      <td>0.0</td>\n",
       "      <td>17000.0</td>\n",
       "    </tr>\n",
       "  </tbody>\n",
       "</table>\n",
       "</div>"
      ],
      "text/plain": [
       "                    tr_mean       tr_std  tr_min   tr_25%  tr_50%    tr_75%  \\\n",
       "LotFrontage       71.176994    25.668941    21.0    60.00    70.0     80.00   \n",
       "LotArea        10516.828082  9981.264932  1300.0  7553.50  9478.5  11601.50   \n",
       "MasVnrArea       103.117123   180.731373     0.0     0.00     0.0    164.25   \n",
       "BsmtFinSF1       443.639726   456.098091     0.0     0.00   383.5    712.25   \n",
       "BsmtFinSF2        46.549315   161.319273     0.0     0.00     0.0      0.00   \n",
       "BsmtUnfSF        567.240411   441.866955     0.0   223.00   477.5    808.00   \n",
       "TotalBsmtSF     1057.429452   438.705324     0.0   795.75   991.5   1298.25   \n",
       "1stFlrSF        1162.626712   386.587738   334.0   882.00  1087.0   1391.25   \n",
       "2ndFlrSF         346.992466   436.528436     0.0     0.00     0.0    728.00   \n",
       "LowQualFinSF       5.844521    48.623081     0.0     0.00     0.0      0.00   \n",
       "GrLivArea       1515.463699   525.480383   334.0  1129.50  1464.0   1776.75   \n",
       "BsmtFullBath       0.425342     0.518911     0.0     0.00     0.0      1.00   \n",
       "BsmtHalfBath       0.057534     0.238753     0.0     0.00     0.0      0.00   \n",
       "FullBath           1.565068     0.550916     0.0     1.00     2.0      2.00   \n",
       "HalfBath           0.382877     0.502885     0.0     0.00     0.0      1.00   \n",
       "BedroomAbvGr       2.866438     0.815778     0.0     2.00     3.0      3.00   \n",
       "KitchenAbvGr       1.046575     0.220338     0.0     1.00     1.0      1.00   \n",
       "TotRmsAbvGrd       6.517808     1.625393     2.0     5.00     6.0      7.00   \n",
       "Fireplaces         0.613014     0.644666     0.0     0.00     1.0      1.00   \n",
       "GarageCars         1.767123     0.747315     0.0     1.00     2.0      2.00   \n",
       "GarageArea       472.980137   213.804841     0.0   334.50   480.0    576.00   \n",
       "WoodDeckSF        94.244521   125.338794     0.0     0.00     0.0    168.00   \n",
       "OpenPorchSF       46.660274    66.256028     0.0     0.00    25.0     68.00   \n",
       "EnclosedPorch     21.954110    61.119149     0.0     0.00     0.0      0.00   \n",
       "3SsnPorch          3.409589    29.317331     0.0     0.00     0.0      0.00   \n",
       "ScreenPorch       15.060959    55.757415     0.0     0.00     0.0      0.00   \n",
       "PoolArea           2.758904    40.177307     0.0     0.00     0.0      0.00   \n",
       "MiscVal           43.489041   496.123024     0.0     0.00     0.0      0.00   \n",
       "\n",
       "                 tr_max      tt_mean       tt_std  tt_min  tt_25%  \\\n",
       "LotFrontage       313.0    69.419272    22.057460    21.0    60.0   \n",
       "LotArea        215245.0  9819.161069  4955.517327  1470.0  7391.0   \n",
       "MasVnrArea       1600.0    99.673749   177.001792     0.0     0.0   \n",
       "BsmtFinSF1       5644.0   438.902673   455.257119     0.0     0.0   \n",
       "BsmtFinSF2       1474.0    52.583276   176.698671     0.0     0.0   \n",
       "BsmtUnfSF        2336.0   553.915010   437.351324     0.0   219.0   \n",
       "TotalBsmtSF      6110.0  1045.400960   443.592976     0.0   784.0   \n",
       "1stFlrSF         4692.0  1156.534613   398.165820   407.0   873.5   \n",
       "2ndFlrSF         2065.0   325.967786   420.610226     0.0     0.0   \n",
       "LowQualFinSF      572.0     3.543523    44.043251     0.0     0.0   \n",
       "GrLivArea        5642.0  1486.045922   485.566099   407.0  1117.5   \n",
       "BsmtFullBath        3.0     0.433859     0.530527     0.0     0.0   \n",
       "BsmtHalfBath        2.0     0.065113     0.252307     0.0     0.0   \n",
       "FullBath            3.0     1.570939     0.555190     0.0     1.0   \n",
       "HalfBath            2.0     0.377656     0.503017     0.0     0.0   \n",
       "BedroomAbvGr        8.0     2.854010     0.829788     0.0     2.0   \n",
       "KitchenAbvGr        3.0     1.042495     0.208472     0.0     1.0   \n",
       "TotRmsAbvGrd       14.0     6.385195     1.508895     3.0     5.0   \n",
       "Fireplaces          3.0     0.581220     0.647420     0.0     0.0   \n",
       "GarageCars          4.0     1.766278     0.775703     0.0     1.0   \n",
       "GarageArea       1418.0   472.776559   216.974364     0.0   318.0   \n",
       "WoodDeckSF        857.0    93.174777   127.744882     0.0     0.0   \n",
       "OpenPorchSF       547.0    48.313914    68.883364     0.0     0.0   \n",
       "EnclosedPorch     552.0    24.243317    67.227765     0.0     0.0   \n",
       "3SsnPorch         508.0     1.794380    20.207842     0.0     0.0   \n",
       "ScreenPorch       480.0    17.064428    56.609763     0.0     0.0   \n",
       "PoolArea          738.0     1.744345    30.491646     0.0     0.0   \n",
       "MiscVal         15500.0    58.167923   630.806978     0.0     0.0   \n",
       "\n",
       "                    tt_50%   tt_75%   tt_max  \n",
       "LotFrontage      68.232044     80.0    200.0  \n",
       "LotArea        9399.000000  11517.5  56600.0  \n",
       "MasVnrArea        0.000000    162.0   1290.0  \n",
       "BsmtFinSF1      350.000000    752.0   4010.0  \n",
       "BsmtFinSF2        0.000000      0.0   1526.0  \n",
       "BsmtUnfSF       460.000000    797.5   2140.0  \n",
       "TotalBsmtSF     988.000000   1304.0   5095.0  \n",
       "1stFlrSF       1079.000000   1382.5   5095.0  \n",
       "2ndFlrSF          0.000000    676.0   1862.0  \n",
       "LowQualFinSF      0.000000      0.0   1064.0  \n",
       "GrLivArea      1432.000000   1721.0   5095.0  \n",
       "BsmtFullBath      0.000000      1.0      3.0  \n",
       "BsmtHalfBath      0.000000      0.0      2.0  \n",
       "FullBath          2.000000      2.0      4.0  \n",
       "HalfBath          0.000000      1.0      2.0  \n",
       "BedroomAbvGr      3.000000      3.0      6.0  \n",
       "KitchenAbvGr      1.000000      1.0      2.0  \n",
       "TotRmsAbvGrd      6.000000      7.0     15.0  \n",
       "Fireplaces        0.000000      1.0      4.0  \n",
       "GarageCars        2.000000      2.0      5.0  \n",
       "GarageArea      480.000000    576.0   1488.0  \n",
       "WoodDeckSF        0.000000    168.0   1424.0  \n",
       "OpenPorchSF      28.000000     72.0    742.0  \n",
       "EnclosedPorch     0.000000      0.0   1012.0  \n",
       "3SsnPorch         0.000000      0.0    360.0  \n",
       "ScreenPorch       0.000000      0.0    576.0  \n",
       "PoolArea          0.000000      0.0    800.0  \n",
       "MiscVal           0.000000      0.0  17000.0  "
      ]
     },
     "execution_count": 16,
     "metadata": {},
     "output_type": "execute_result"
    }
   ],
   "source": [
    "pd.concat(\n",
    "    [X_train.describe().T.add_prefix(\"tr_\"),X_test.describe().T.add_prefix(\"tt_\")],\n",
    "    axis=1,\n",
    ").drop(columns=[\"tr_count\", \"tt_count\"])"
   ]
  },
  {
   "cell_type": "markdown",
   "id": "59c22072",
   "metadata": {
    "papermill": {
     "duration": 0.03364,
     "end_time": "2023-03-05T03:57:05.110799",
     "exception": false,
     "start_time": "2023-03-05T03:57:05.077159",
     "status": "completed"
    },
    "tags": []
   },
   "source": [
    "From the statistics of the numerical columns, we observe the following:\n",
    "* Skewed distributions as indicated by the large differences between the maximum and the 75th percentile.\n",
    "* Columns of different scales."
   ]
  },
  {
   "cell_type": "code",
   "execution_count": 17,
   "id": "0ebfee69",
   "metadata": {
    "execution": {
     "iopub.execute_input": "2023-03-05T03:57:05.180328Z",
     "iopub.status.busy": "2023-03-05T03:57:05.179900Z",
     "iopub.status.idle": "2023-03-05T03:57:05.354830Z",
     "shell.execute_reply": "2023-03-05T03:57:05.353891Z"
    },
    "papermill": {
     "duration": 0.212703,
     "end_time": "2023-03-05T03:57:05.357551",
     "exception": false,
     "start_time": "2023-03-05T03:57:05.144848",
     "status": "completed"
    },
    "tags": []
   },
   "outputs": [
    {
     "data": {
      "text/html": [
       "<div>\n",
       "<style scoped>\n",
       "    .dataframe tbody tr th:only-of-type {\n",
       "        vertical-align: middle;\n",
       "    }\n",
       "\n",
       "    .dataframe tbody tr th {\n",
       "        vertical-align: top;\n",
       "    }\n",
       "\n",
       "    .dataframe thead th {\n",
       "        text-align: right;\n",
       "    }\n",
       "</style>\n",
       "<table border=\"1\" class=\"dataframe\">\n",
       "  <thead>\n",
       "    <tr style=\"text-align: right;\">\n",
       "      <th></th>\n",
       "      <th>tr_unique</th>\n",
       "      <th>tr_top</th>\n",
       "      <th>tr_freq</th>\n",
       "      <th>tt_unique</th>\n",
       "      <th>tt_top</th>\n",
       "      <th>tt_freq</th>\n",
       "    </tr>\n",
       "  </thead>\n",
       "  <tbody>\n",
       "    <tr>\n",
       "      <th>MSSubClass</th>\n",
       "      <td>15</td>\n",
       "      <td>20</td>\n",
       "      <td>536</td>\n",
       "      <td>16</td>\n",
       "      <td>20</td>\n",
       "      <td>543</td>\n",
       "    </tr>\n",
       "    <tr>\n",
       "      <th>MSZoning</th>\n",
       "      <td>5</td>\n",
       "      <td>RL</td>\n",
       "      <td>1151</td>\n",
       "      <td>5</td>\n",
       "      <td>RL</td>\n",
       "      <td>1118</td>\n",
       "    </tr>\n",
       "    <tr>\n",
       "      <th>Street</th>\n",
       "      <td>2</td>\n",
       "      <td>Pave</td>\n",
       "      <td>1454</td>\n",
       "      <td>2</td>\n",
       "      <td>Pave</td>\n",
       "      <td>1453</td>\n",
       "    </tr>\n",
       "    <tr>\n",
       "      <th>Alley</th>\n",
       "      <td>3</td>\n",
       "      <td>NA</td>\n",
       "      <td>1369</td>\n",
       "      <td>3</td>\n",
       "      <td>NA</td>\n",
       "      <td>1352</td>\n",
       "    </tr>\n",
       "    <tr>\n",
       "      <th>LotShape</th>\n",
       "      <td>4</td>\n",
       "      <td>Reg</td>\n",
       "      <td>925</td>\n",
       "      <td>4</td>\n",
       "      <td>Reg</td>\n",
       "      <td>934</td>\n",
       "    </tr>\n",
       "    <tr>\n",
       "      <th>LandContour</th>\n",
       "      <td>4</td>\n",
       "      <td>Lvl</td>\n",
       "      <td>1311</td>\n",
       "      <td>4</td>\n",
       "      <td>Lvl</td>\n",
       "      <td>1311</td>\n",
       "    </tr>\n",
       "    <tr>\n",
       "      <th>Utilities</th>\n",
       "      <td>2</td>\n",
       "      <td>AllPub</td>\n",
       "      <td>1459</td>\n",
       "      <td>1</td>\n",
       "      <td>AllPub</td>\n",
       "      <td>1459</td>\n",
       "    </tr>\n",
       "    <tr>\n",
       "      <th>LotConfig</th>\n",
       "      <td>5</td>\n",
       "      <td>Inside</td>\n",
       "      <td>1052</td>\n",
       "      <td>5</td>\n",
       "      <td>Inside</td>\n",
       "      <td>1081</td>\n",
       "    </tr>\n",
       "    <tr>\n",
       "      <th>LandSlope</th>\n",
       "      <td>3</td>\n",
       "      <td>Gtl</td>\n",
       "      <td>1382</td>\n",
       "      <td>3</td>\n",
       "      <td>Gtl</td>\n",
       "      <td>1396</td>\n",
       "    </tr>\n",
       "    <tr>\n",
       "      <th>Neighborhood</th>\n",
       "      <td>25</td>\n",
       "      <td>NAmes</td>\n",
       "      <td>225</td>\n",
       "      <td>25</td>\n",
       "      <td>NAmes</td>\n",
       "      <td>218</td>\n",
       "    </tr>\n",
       "    <tr>\n",
       "      <th>Condition1</th>\n",
       "      <td>9</td>\n",
       "      <td>Norm</td>\n",
       "      <td>1260</td>\n",
       "      <td>9</td>\n",
       "      <td>Norm</td>\n",
       "      <td>1251</td>\n",
       "    </tr>\n",
       "    <tr>\n",
       "      <th>Condition2</th>\n",
       "      <td>8</td>\n",
       "      <td>Norm</td>\n",
       "      <td>1445</td>\n",
       "      <td>5</td>\n",
       "      <td>Norm</td>\n",
       "      <td>1444</td>\n",
       "    </tr>\n",
       "    <tr>\n",
       "      <th>BldgType</th>\n",
       "      <td>5</td>\n",
       "      <td>1Fam</td>\n",
       "      <td>1220</td>\n",
       "      <td>5</td>\n",
       "      <td>1Fam</td>\n",
       "      <td>1205</td>\n",
       "    </tr>\n",
       "    <tr>\n",
       "      <th>HouseStyle</th>\n",
       "      <td>8</td>\n",
       "      <td>1Story</td>\n",
       "      <td>726</td>\n",
       "      <td>7</td>\n",
       "      <td>1Story</td>\n",
       "      <td>745</td>\n",
       "    </tr>\n",
       "    <tr>\n",
       "      <th>OverallQual</th>\n",
       "      <td>10</td>\n",
       "      <td>5</td>\n",
       "      <td>397</td>\n",
       "      <td>10</td>\n",
       "      <td>5</td>\n",
       "      <td>428</td>\n",
       "    </tr>\n",
       "    <tr>\n",
       "      <th>OverallCond</th>\n",
       "      <td>9</td>\n",
       "      <td>5</td>\n",
       "      <td>821</td>\n",
       "      <td>9</td>\n",
       "      <td>5</td>\n",
       "      <td>824</td>\n",
       "    </tr>\n",
       "    <tr>\n",
       "      <th>YearBuilt</th>\n",
       "      <td>112</td>\n",
       "      <td>2006</td>\n",
       "      <td>67</td>\n",
       "      <td>106</td>\n",
       "      <td>2005</td>\n",
       "      <td>78</td>\n",
       "    </tr>\n",
       "    <tr>\n",
       "      <th>YearRemodAdd</th>\n",
       "      <td>61</td>\n",
       "      <td>1950</td>\n",
       "      <td>178</td>\n",
       "      <td>61</td>\n",
       "      <td>1950</td>\n",
       "      <td>183</td>\n",
       "    </tr>\n",
       "    <tr>\n",
       "      <th>RoofStyle</th>\n",
       "      <td>6</td>\n",
       "      <td>Gable</td>\n",
       "      <td>1141</td>\n",
       "      <td>6</td>\n",
       "      <td>Gable</td>\n",
       "      <td>1169</td>\n",
       "    </tr>\n",
       "    <tr>\n",
       "      <th>RoofMatl</th>\n",
       "      <td>8</td>\n",
       "      <td>CompShg</td>\n",
       "      <td>1434</td>\n",
       "      <td>4</td>\n",
       "      <td>CompShg</td>\n",
       "      <td>1442</td>\n",
       "    </tr>\n",
       "    <tr>\n",
       "      <th>Exterior1st</th>\n",
       "      <td>15</td>\n",
       "      <td>VinylSd</td>\n",
       "      <td>515</td>\n",
       "      <td>13</td>\n",
       "      <td>VinylSd</td>\n",
       "      <td>511</td>\n",
       "    </tr>\n",
       "    <tr>\n",
       "      <th>Exterior2nd</th>\n",
       "      <td>16</td>\n",
       "      <td>VinylSd</td>\n",
       "      <td>504</td>\n",
       "      <td>15</td>\n",
       "      <td>VinylSd</td>\n",
       "      <td>511</td>\n",
       "    </tr>\n",
       "    <tr>\n",
       "      <th>MasVnrType</th>\n",
       "      <td>4</td>\n",
       "      <td>NA</td>\n",
       "      <td>872</td>\n",
       "      <td>4</td>\n",
       "      <td>NA</td>\n",
       "      <td>893</td>\n",
       "    </tr>\n",
       "    <tr>\n",
       "      <th>ExterQual</th>\n",
       "      <td>4</td>\n",
       "      <td>TA</td>\n",
       "      <td>906</td>\n",
       "      <td>4</td>\n",
       "      <td>TA</td>\n",
       "      <td>892</td>\n",
       "    </tr>\n",
       "    <tr>\n",
       "      <th>ExterCond</th>\n",
       "      <td>5</td>\n",
       "      <td>TA</td>\n",
       "      <td>1282</td>\n",
       "      <td>5</td>\n",
       "      <td>TA</td>\n",
       "      <td>1256</td>\n",
       "    </tr>\n",
       "    <tr>\n",
       "      <th>Foundation</th>\n",
       "      <td>6</td>\n",
       "      <td>PConc</td>\n",
       "      <td>647</td>\n",
       "      <td>6</td>\n",
       "      <td>PConc</td>\n",
       "      <td>661</td>\n",
       "    </tr>\n",
       "    <tr>\n",
       "      <th>BsmtQual</th>\n",
       "      <td>5</td>\n",
       "      <td>TA</td>\n",
       "      <td>649</td>\n",
       "      <td>5</td>\n",
       "      <td>TA</td>\n",
       "      <td>636</td>\n",
       "    </tr>\n",
       "    <tr>\n",
       "      <th>BsmtCond</th>\n",
       "      <td>5</td>\n",
       "      <td>TA</td>\n",
       "      <td>1311</td>\n",
       "      <td>5</td>\n",
       "      <td>TA</td>\n",
       "      <td>1298</td>\n",
       "    </tr>\n",
       "    <tr>\n",
       "      <th>BsmtExposure</th>\n",
       "      <td>5</td>\n",
       "      <td>No</td>\n",
       "      <td>954</td>\n",
       "      <td>5</td>\n",
       "      <td>No</td>\n",
       "      <td>953</td>\n",
       "    </tr>\n",
       "    <tr>\n",
       "      <th>BsmtFinType1</th>\n",
       "      <td>7</td>\n",
       "      <td>Unf</td>\n",
       "      <td>430</td>\n",
       "      <td>7</td>\n",
       "      <td>GLQ</td>\n",
       "      <td>431</td>\n",
       "    </tr>\n",
       "    <tr>\n",
       "      <th>BsmtFinType2</th>\n",
       "      <td>7</td>\n",
       "      <td>Unf</td>\n",
       "      <td>1257</td>\n",
       "      <td>7</td>\n",
       "      <td>Unf</td>\n",
       "      <td>1237</td>\n",
       "    </tr>\n",
       "    <tr>\n",
       "      <th>Heating</th>\n",
       "      <td>6</td>\n",
       "      <td>GasA</td>\n",
       "      <td>1428</td>\n",
       "      <td>4</td>\n",
       "      <td>GasA</td>\n",
       "      <td>1446</td>\n",
       "    </tr>\n",
       "    <tr>\n",
       "      <th>HeatingQC</th>\n",
       "      <td>5</td>\n",
       "      <td>Ex</td>\n",
       "      <td>741</td>\n",
       "      <td>5</td>\n",
       "      <td>Ex</td>\n",
       "      <td>752</td>\n",
       "    </tr>\n",
       "    <tr>\n",
       "      <th>CentralAir</th>\n",
       "      <td>2</td>\n",
       "      <td>Y</td>\n",
       "      <td>1365</td>\n",
       "      <td>2</td>\n",
       "      <td>Y</td>\n",
       "      <td>1358</td>\n",
       "    </tr>\n",
       "    <tr>\n",
       "      <th>Electrical</th>\n",
       "      <td>5</td>\n",
       "      <td>SBrkr</td>\n",
       "      <td>1335</td>\n",
       "      <td>4</td>\n",
       "      <td>SBrkr</td>\n",
       "      <td>1337</td>\n",
       "    </tr>\n",
       "    <tr>\n",
       "      <th>KitchenQual</th>\n",
       "      <td>4</td>\n",
       "      <td>TA</td>\n",
       "      <td>735</td>\n",
       "      <td>4</td>\n",
       "      <td>TA</td>\n",
       "      <td>758</td>\n",
       "    </tr>\n",
       "    <tr>\n",
       "      <th>Functional</th>\n",
       "      <td>7</td>\n",
       "      <td>Typ</td>\n",
       "      <td>1360</td>\n",
       "      <td>7</td>\n",
       "      <td>Typ</td>\n",
       "      <td>1359</td>\n",
       "    </tr>\n",
       "    <tr>\n",
       "      <th>FireplaceQu</th>\n",
       "      <td>6</td>\n",
       "      <td>NA</td>\n",
       "      <td>690</td>\n",
       "      <td>6</td>\n",
       "      <td>NA</td>\n",
       "      <td>730</td>\n",
       "    </tr>\n",
       "    <tr>\n",
       "      <th>GarageType</th>\n",
       "      <td>7</td>\n",
       "      <td>Attchd</td>\n",
       "      <td>870</td>\n",
       "      <td>7</td>\n",
       "      <td>Attchd</td>\n",
       "      <td>853</td>\n",
       "    </tr>\n",
       "    <tr>\n",
       "      <th>GarageYrBlt</th>\n",
       "      <td>102.0</td>\n",
       "      <td>2005.0</td>\n",
       "      <td>65.0</td>\n",
       "      <td>103.0</td>\n",
       "      <td>2005.0</td>\n",
       "      <td>80.0</td>\n",
       "    </tr>\n",
       "    <tr>\n",
       "      <th>GarageFinish</th>\n",
       "      <td>4</td>\n",
       "      <td>Unf</td>\n",
       "      <td>605</td>\n",
       "      <td>4</td>\n",
       "      <td>Unf</td>\n",
       "      <td>627</td>\n",
       "    </tr>\n",
       "    <tr>\n",
       "      <th>GarageQual</th>\n",
       "      <td>6</td>\n",
       "      <td>TA</td>\n",
       "      <td>1311</td>\n",
       "      <td>5</td>\n",
       "      <td>TA</td>\n",
       "      <td>1295</td>\n",
       "    </tr>\n",
       "    <tr>\n",
       "      <th>GarageCond</th>\n",
       "      <td>6</td>\n",
       "      <td>TA</td>\n",
       "      <td>1326</td>\n",
       "      <td>6</td>\n",
       "      <td>TA</td>\n",
       "      <td>1330</td>\n",
       "    </tr>\n",
       "    <tr>\n",
       "      <th>PavedDrive</th>\n",
       "      <td>3</td>\n",
       "      <td>Y</td>\n",
       "      <td>1340</td>\n",
       "      <td>3</td>\n",
       "      <td>Y</td>\n",
       "      <td>1301</td>\n",
       "    </tr>\n",
       "    <tr>\n",
       "      <th>PoolQC</th>\n",
       "      <td>4</td>\n",
       "      <td>NA</td>\n",
       "      <td>1453</td>\n",
       "      <td>3</td>\n",
       "      <td>NA</td>\n",
       "      <td>1453</td>\n",
       "    </tr>\n",
       "    <tr>\n",
       "      <th>Fence</th>\n",
       "      <td>5</td>\n",
       "      <td>NA</td>\n",
       "      <td>1179</td>\n",
       "      <td>5</td>\n",
       "      <td>NA</td>\n",
       "      <td>1169</td>\n",
       "    </tr>\n",
       "    <tr>\n",
       "      <th>MiscFeature</th>\n",
       "      <td>5</td>\n",
       "      <td>NA</td>\n",
       "      <td>1406</td>\n",
       "      <td>4</td>\n",
       "      <td>NA</td>\n",
       "      <td>1407</td>\n",
       "    </tr>\n",
       "    <tr>\n",
       "      <th>MoSold</th>\n",
       "      <td>12</td>\n",
       "      <td>6</td>\n",
       "      <td>253</td>\n",
       "      <td>12</td>\n",
       "      <td>6</td>\n",
       "      <td>250</td>\n",
       "    </tr>\n",
       "    <tr>\n",
       "      <th>YrSold</th>\n",
       "      <td>5</td>\n",
       "      <td>2009</td>\n",
       "      <td>338</td>\n",
       "      <td>5</td>\n",
       "      <td>2007</td>\n",
       "      <td>363</td>\n",
       "    </tr>\n",
       "    <tr>\n",
       "      <th>SaleType</th>\n",
       "      <td>9</td>\n",
       "      <td>WD</td>\n",
       "      <td>1267</td>\n",
       "      <td>9</td>\n",
       "      <td>WD</td>\n",
       "      <td>1259</td>\n",
       "    </tr>\n",
       "    <tr>\n",
       "      <th>SaleCondition</th>\n",
       "      <td>6</td>\n",
       "      <td>Normal</td>\n",
       "      <td>1198</td>\n",
       "      <td>6</td>\n",
       "      <td>Normal</td>\n",
       "      <td>1204</td>\n",
       "    </tr>\n",
       "  </tbody>\n",
       "</table>\n",
       "</div>"
      ],
      "text/plain": [
       "              tr_unique   tr_top tr_freq tt_unique   tt_top tt_freq\n",
       "MSSubClass           15       20     536        16       20     543\n",
       "MSZoning              5       RL    1151         5       RL    1118\n",
       "Street                2     Pave    1454         2     Pave    1453\n",
       "Alley                 3       NA    1369         3       NA    1352\n",
       "LotShape              4      Reg     925         4      Reg     934\n",
       "LandContour           4      Lvl    1311         4      Lvl    1311\n",
       "Utilities             2   AllPub    1459         1   AllPub    1459\n",
       "LotConfig             5   Inside    1052         5   Inside    1081\n",
       "LandSlope             3      Gtl    1382         3      Gtl    1396\n",
       "Neighborhood         25    NAmes     225        25    NAmes     218\n",
       "Condition1            9     Norm    1260         9     Norm    1251\n",
       "Condition2            8     Norm    1445         5     Norm    1444\n",
       "BldgType              5     1Fam    1220         5     1Fam    1205\n",
       "HouseStyle            8   1Story     726         7   1Story     745\n",
       "OverallQual          10        5     397        10        5     428\n",
       "OverallCond           9        5     821         9        5     824\n",
       "YearBuilt           112     2006      67       106     2005      78\n",
       "YearRemodAdd         61     1950     178        61     1950     183\n",
       "RoofStyle             6    Gable    1141         6    Gable    1169\n",
       "RoofMatl              8  CompShg    1434         4  CompShg    1442\n",
       "Exterior1st          15  VinylSd     515        13  VinylSd     511\n",
       "Exterior2nd          16  VinylSd     504        15  VinylSd     511\n",
       "MasVnrType            4       NA     872         4       NA     893\n",
       "ExterQual             4       TA     906         4       TA     892\n",
       "ExterCond             5       TA    1282         5       TA    1256\n",
       "Foundation            6    PConc     647         6    PConc     661\n",
       "BsmtQual              5       TA     649         5       TA     636\n",
       "BsmtCond              5       TA    1311         5       TA    1298\n",
       "BsmtExposure          5       No     954         5       No     953\n",
       "BsmtFinType1          7      Unf     430         7      GLQ     431\n",
       "BsmtFinType2          7      Unf    1257         7      Unf    1237\n",
       "Heating               6     GasA    1428         4     GasA    1446\n",
       "HeatingQC             5       Ex     741         5       Ex     752\n",
       "CentralAir            2        Y    1365         2        Y    1358\n",
       "Electrical            5    SBrkr    1335         4    SBrkr    1337\n",
       "KitchenQual           4       TA     735         4       TA     758\n",
       "Functional            7      Typ    1360         7      Typ    1359\n",
       "FireplaceQu           6       NA     690         6       NA     730\n",
       "GarageType            7   Attchd     870         7   Attchd     853\n",
       "GarageYrBlt       102.0   2005.0    65.0     103.0   2005.0    80.0\n",
       "GarageFinish          4      Unf     605         4      Unf     627\n",
       "GarageQual            6       TA    1311         5       TA    1295\n",
       "GarageCond            6       TA    1326         6       TA    1330\n",
       "PavedDrive            3        Y    1340         3        Y    1301\n",
       "PoolQC                4       NA    1453         3       NA    1453\n",
       "Fence                 5       NA    1179         5       NA    1169\n",
       "MiscFeature           5       NA    1406         4       NA    1407\n",
       "MoSold               12        6     253        12        6     250\n",
       "YrSold                5     2009     338         5     2007     363\n",
       "SaleType              9       WD    1267         9       WD    1259\n",
       "SaleCondition         6   Normal    1198         6   Normal    1204"
      ]
     },
     "execution_count": 17,
     "metadata": {},
     "output_type": "execute_result"
    }
   ],
   "source": [
    "pd.concat(\n",
    "    [X_train.describe(include=object).T.add_prefix(\"tr_\"), X_test.describe(include=object).T.add_prefix(\"tt_\")],\n",
    "    axis=1,\n",
    ").drop(columns=[\"tr_count\", \"tt_count\"])"
   ]
  },
  {
   "cell_type": "markdown",
   "id": "5e185b70",
   "metadata": {
    "papermill": {
     "duration": 0.034045,
     "end_time": "2023-03-05T03:57:05.427233",
     "exception": false,
     "start_time": "2023-03-05T03:57:05.393188",
     "status": "completed"
    },
    "tags": []
   },
   "source": [
    "From the statistics of the categorical columns, we note the following: \n",
    "* Many columns like `PoolQC` and `Utilities` have dominant categories that take up most of the observations.\n",
    "* Many columns have a lot of unique categories."
   ]
  },
  {
   "cell_type": "markdown",
   "id": "298debd1",
   "metadata": {
    "papermill": {
     "duration": 0.033992,
     "end_time": "2023-03-05T03:57:05.495723",
     "exception": false,
     "start_time": "2023-03-05T03:57:05.461731",
     "status": "completed"
    },
    "tags": []
   },
   "source": [
    "Before moving on, we can check that the maximum `GarageYrBlt` for the testing data is 2207, which is most likely mislabeled."
   ]
  },
  {
   "cell_type": "code",
   "execution_count": 18,
   "id": "6b8f0490",
   "metadata": {
    "execution": {
     "iopub.execute_input": "2023-03-05T03:57:05.567485Z",
     "iopub.status.busy": "2023-03-05T03:57:05.566280Z",
     "iopub.status.idle": "2023-03-05T03:57:05.579638Z",
     "shell.execute_reply": "2023-03-05T03:57:05.578838Z"
    },
    "papermill": {
     "duration": 0.051074,
     "end_time": "2023-03-05T03:57:05.581688",
     "exception": false,
     "start_time": "2023-03-05T03:57:05.530614",
     "status": "completed"
    },
    "tags": []
   },
   "outputs": [
    {
     "data": {
      "text/html": [
       "<div>\n",
       "<style scoped>\n",
       "    .dataframe tbody tr th:only-of-type {\n",
       "        vertical-align: middle;\n",
       "    }\n",
       "\n",
       "    .dataframe tbody tr th {\n",
       "        vertical-align: top;\n",
       "    }\n",
       "\n",
       "    .dataframe thead th {\n",
       "        text-align: right;\n",
       "    }\n",
       "</style>\n",
       "<table border=\"1\" class=\"dataframe\">\n",
       "  <thead>\n",
       "    <tr style=\"text-align: right;\">\n",
       "      <th></th>\n",
       "      <th>YearBuilt</th>\n",
       "      <th>YearRemodAdd</th>\n",
       "      <th>GarageYrBlt</th>\n",
       "      <th>MoSold</th>\n",
       "      <th>YrSold</th>\n",
       "    </tr>\n",
       "  </thead>\n",
       "  <tbody>\n",
       "    <tr>\n",
       "      <th>1132</th>\n",
       "      <td>2006</td>\n",
       "      <td>2007</td>\n",
       "      <td>2207.0</td>\n",
       "      <td>9</td>\n",
       "      <td>2007</td>\n",
       "    </tr>\n",
       "  </tbody>\n",
       "</table>\n",
       "</div>"
      ],
      "text/plain": [
       "     YearBuilt YearRemodAdd GarageYrBlt MoSold YrSold\n",
       "1132      2006         2007      2207.0      9   2007"
      ]
     },
     "execution_count": 18,
     "metadata": {},
     "output_type": "execute_result"
    }
   ],
   "source": [
    "X_test[X_test.GarageYrBlt==X_test.GarageYrBlt.max()][DATE_COL]"
   ]
  },
  {
   "cell_type": "markdown",
   "id": "fc303932",
   "metadata": {
    "papermill": {
     "duration": 0.034292,
     "end_time": "2023-03-05T03:57:05.650715",
     "exception": false,
     "start_time": "2023-03-05T03:57:05.616423",
     "status": "completed"
    },
    "tags": []
   },
   "source": [
    "Judging from the other date columns, we make a guess that the correct value is most likely 2007."
   ]
  },
  {
   "cell_type": "code",
   "execution_count": 19,
   "id": "8ac97628",
   "metadata": {
    "execution": {
     "iopub.execute_input": "2023-03-05T03:57:05.722408Z",
     "iopub.status.busy": "2023-03-05T03:57:05.721610Z",
     "iopub.status.idle": "2023-03-05T03:57:05.728099Z",
     "shell.execute_reply": "2023-03-05T03:57:05.726859Z"
    },
    "papermill": {
     "duration": 0.04561,
     "end_time": "2023-03-05T03:57:05.730892",
     "exception": false,
     "start_time": "2023-03-05T03:57:05.685282",
     "status": "completed"
    },
    "tags": []
   },
   "outputs": [],
   "source": [
    "X_test.loc[X_test.GarageYrBlt==2207, \"GarageYrBlt\"] = 2007"
   ]
  },
  {
   "cell_type": "markdown",
   "id": "ef86507b",
   "metadata": {
    "papermill": {
     "duration": 0.034897,
     "end_time": "2023-03-05T03:57:05.800938",
     "exception": false,
     "start_time": "2023-03-05T03:57:05.766041",
     "status": "completed"
    },
    "tags": []
   },
   "source": [
    "### Ordinal encoding."
   ]
  },
  {
   "cell_type": "markdown",
   "id": "d7f39f09",
   "metadata": {
    "papermill": {
     "duration": 0.034521,
     "end_time": "2023-03-05T03:57:05.871848",
     "exception": false,
     "start_time": "2023-03-05T03:57:05.837327",
     "status": "completed"
    },
    "tags": []
   },
   "source": [
    "There are a number of columns with natural ordered categories, like `OverallQual` ranging from 1 (Very Poor) to 10 (Very Excellent). The data description text file has the categories sorted in order already. We make use of the this to perform ordinal encoding to make analysis easier."
   ]
  },
  {
   "cell_type": "code",
   "execution_count": 20,
   "id": "2f5aedfb",
   "metadata": {
    "execution": {
     "iopub.execute_input": "2023-03-05T03:57:05.944088Z",
     "iopub.status.busy": "2023-03-05T03:57:05.943085Z",
     "iopub.status.idle": "2023-03-05T03:57:05.951250Z",
     "shell.execute_reply": "2023-03-05T03:57:05.950069Z"
    },
    "papermill": {
     "duration": 0.047095,
     "end_time": "2023-03-05T03:57:05.953664",
     "exception": false,
     "start_time": "2023-03-05T03:57:05.906569",
     "status": "completed"
    },
    "tags": []
   },
   "outputs": [
    {
     "name": "stdout",
     "output_type": "stream",
     "text": [
      "[['IR3', 'IR2', 'IR1', 'Reg'], ['Low', 'HLS', 'Bnk', 'Lvl'], ['ELO', 'NoSeWa', 'NoSewr', 'AllPub'], ['Sev', 'Mod', 'Gtl'], ['1', '2', '3', '4', '5', '6', '7', '8', '9', '10'], ['1', '2', '3', '4', '5', '6', '7', '8', '9', '10'], ['Po', 'Fa', 'TA', 'Gd', 'Ex'], ['Po', 'Fa', 'TA', 'Gd', 'Ex'], ['NA', 'Po', 'Fa', 'TA', 'Gd', 'Ex'], ['NA', 'Po', 'Fa', 'TA', 'Gd', 'Ex'], ['NA', 'No', 'Mn', 'Av', 'Gd'], ['NA', 'Unf', 'LwQ', 'Rec', 'BLQ', 'ALQ', 'GLQ'], ['NA', 'Unf', 'LwQ', 'Rec', 'BLQ', 'ALQ', 'GLQ'], ['Po', 'Fa', 'TA', 'Gd', 'Ex'], ['Mix', 'FuseP', 'FuseF', 'FuseA', 'SBrkr'], ['Po', 'Fa', 'TA', 'Gd', 'Ex'], ['Sal', 'Sev', 'Maj2', 'Maj1', 'Mod', 'Min2', 'Min1', 'Typ'], ['NA', 'Po', 'Fa', 'TA', 'Gd', 'Ex'], ['NA', 'Unf', 'RFn', 'Fin'], ['NA', 'Po', 'Fa', 'TA', 'Gd', 'Ex'], ['NA', 'Po', 'Fa', 'TA', 'Gd', 'Ex'], ['N', 'P', 'Y'], ['NA', 'Fa', 'TA', 'Gd', 'Ex'], ['NA', 'MnWw', 'GdWo', 'MnPrv', 'GdPrv']]\n"
     ]
    }
   ],
   "source": [
    "# ordinal columns manually selected\n",
    "ORDINAL_COL = [\n",
    "    \"LotShape\", \"LandContour\", \"Utilities\", \"LandSlope\", \"OverallQual\",\n",
    "    \"OverallCond\", \"ExterQual\", \"ExterCond\", \"BsmtQual\", \"BsmtCond\",\n",
    "    \"BsmtExposure\", \"BsmtFinType1\", \"BsmtFinType2\", \"HeatingQC\", \"Electrical\",\n",
    "    \"KitchenQual\", \"Functional\", \"FireplaceQu\", \"GarageFinish\", \"GarageQual\", \n",
    "    \"GarageCond\", \"PavedDrive\", \"PoolQC\", \"Fence\",\n",
    "]\n",
    "\n",
    "ORDINAL_CAT = [\n",
    "    val[::-1] for key, val in data_descr.items()\n",
    "    if key in ORDINAL_COL\n",
    "]\n",
    "\n",
    "print(ORDINAL_CAT)"
   ]
  },
  {
   "cell_type": "code",
   "execution_count": 21,
   "id": "8e557867",
   "metadata": {
    "execution": {
     "iopub.execute_input": "2023-03-05T03:57:06.026942Z",
     "iopub.status.busy": "2023-03-05T03:57:06.025604Z",
     "iopub.status.idle": "2023-03-05T03:57:06.094959Z",
     "shell.execute_reply": "2023-03-05T03:57:06.094024Z"
    },
    "papermill": {
     "duration": 0.108505,
     "end_time": "2023-03-05T03:57:06.097538",
     "exception": false,
     "start_time": "2023-03-05T03:57:05.989033",
     "status": "completed"
    },
    "tags": []
   },
   "outputs": [],
   "source": [
    "ordinal_enc = OrdinalEncoder(categories=ORDINAL_CAT)\n",
    "X_train[ORDINAL_COL] = ordinal_enc.fit_transform(X_train[ORDINAL_COL].astype(str))\n",
    "X_test[ORDINAL_COL] = ordinal_enc.transform(X_test[ORDINAL_COL].astype(str))"
   ]
  },
  {
   "cell_type": "markdown",
   "id": "280d23e6",
   "metadata": {
    "papermill": {
     "duration": 0.036024,
     "end_time": "2023-03-05T03:57:06.168622",
     "exception": false,
     "start_time": "2023-03-05T03:57:06.132598",
     "status": "completed"
    },
    "tags": []
   },
   "source": [
    "### Feature creation and transformation."
   ]
  },
  {
   "cell_type": "markdown",
   "id": "f1957821",
   "metadata": {
    "papermill": {
     "duration": 0.035505,
     "end_time": "2023-03-05T03:57:06.239084",
     "exception": false,
     "start_time": "2023-03-05T03:57:06.203579",
     "status": "completed"
    },
    "tags": []
   },
   "source": [
    "We look at creating/transforming features in the following sections to convey more useful information. To better support our analysis, we use statistical tests to determine whether or not the feature is relevant to our models. In particular, we use the Pearson's correlation coefficient/F-test statistics to measure linear correlation, and mutual information to capture nonlinear behavior. We note that these are univariate tests so they do not take into account any interaction effects between the features.\n",
    "\n",
    "Due to large number of columns in the data, we look at each group of features separately in each section. At the beginning of each section we provide a summary of the following:\n",
    "* __Features transformed__ — generally involves reducing the number of categories in each feature.\n",
    "\n",
    "* __Features added__ — new features created from existing features and the reasoning behind it.\n",
    "\n",
    "* __Features removed__ — feature has one dominant value, performs poorly in the univariate statistical tests, or provides similar information to other features."
   ]
  },
  {
   "cell_type": "markdown",
   "id": "f0a528ac",
   "metadata": {
    "papermill": {
     "duration": 0.034663,
     "end_time": "2023-03-05T03:57:06.395869",
     "exception": false,
     "start_time": "2023-03-05T03:57:06.361206",
     "status": "completed"
    },
    "tags": []
   },
   "source": [
    "### Target column: `SalePrice`."
   ]
  },
  {
   "cell_type": "markdown",
   "id": "bd32ca0c",
   "metadata": {
    "papermill": {
     "duration": 0.03471,
     "end_time": "2023-03-05T03:57:06.465690",
     "exception": false,
     "start_time": "2023-03-05T03:57:06.430980",
     "status": "completed"
    },
    "tags": []
   },
   "source": [
    "The target column seems to follow a log-normal distribution. We consider using the log of `SalePrice` instead so that the errors in predicting cheap and expensive houses are more even. Predicting log of `SalePrice` (which now takes both positive and negative values) also make certain models like linear regression viable. This is supported by the normal Q-Q plot below."
   ]
  },
  {
   "cell_type": "code",
   "execution_count": 22,
   "id": "d87b3a57",
   "metadata": {
    "execution": {
     "iopub.execute_input": "2023-03-05T03:57:06.538597Z",
     "iopub.status.busy": "2023-03-05T03:57:06.538137Z",
     "iopub.status.idle": "2023-03-05T03:57:07.241813Z",
     "shell.execute_reply": "2023-03-05T03:57:07.240540Z"
    },
    "papermill": {
     "duration": 0.744406,
     "end_time": "2023-03-05T03:57:07.244762",
     "exception": false,
     "start_time": "2023-03-05T03:57:06.500356",
     "status": "completed"
    },
    "tags": []
   },
   "outputs": [
    {
     "data": {
      "image/png": "[encoded data removed]",
      "text/plain": [
       "<Figure size 1800x450 with 2 Axes>"
      ]
     },
     "metadata": {},
     "output_type": "display_data"
    }
   ],
   "source": [
    "plt.figure(figsize=(18, 4.5))\n",
    "\n",
    "plt.subplot(121)\n",
    "sns.histplot(y_train, bins=20, kde=True)\n",
    "plt.title(\"Distribution of SalePrice\", fontsize=\"large\")\n",
    "\n",
    "plt.subplot(122)\n",
    "sns.histplot(np.log1p(y_train), bins=20, kde=True, color=\"orange\")\n",
    "plt.xlabel(\"log(SalePrice)\")\n",
    "plt.title(\"Distribution of log(SalePrice)\", fontsize=\"large\")\n",
    "\n",
    "plt.tight_layout()\n",
    "plt.show()"
   ]
  },
  {
   "cell_type": "code",
   "execution_count": 23,
   "id": "d368d9be",
   "metadata": {
    "execution": {
     "iopub.execute_input": "2023-03-05T03:57:07.319124Z",
     "iopub.status.busy": "2023-03-05T03:57:07.318083Z",
     "iopub.status.idle": "2023-03-05T03:57:07.757316Z",
     "shell.execute_reply": "2023-03-05T03:57:07.755944Z"
    },
    "papermill": {
     "duration": 0.479321,
     "end_time": "2023-03-05T03:57:07.760151",
     "exception": false,
     "start_time": "2023-03-05T03:57:07.280830",
     "status": "completed"
    },
    "tags": []
   },
   "outputs": [
    {
     "data": {
      "image/png": "[encoded data removed]",
      "text/plain": [
       "<Figure size 1800x450 with 2 Axes>"
      ]
     },
     "metadata": {},
     "output_type": "display_data"
    }
   ],
   "source": [
    "fig = plt.figure(figsize=(18, 4.5))\n",
    "\n",
    "ax = fig.add_subplot(121)\n",
    "probplot(y_train, plot=ax)\n",
    "plt.title(\"Normal Q-Q Plot of SalePrice\", fontsize=\"large\")\n",
    "\n",
    "ax = fig.add_subplot(122)\n",
    "probplot(np.log1p(y_train), plot=ax)\n",
    "plt.title(\"Normal Q-Q Plot of log(SalePrice)\", fontsize=\"large\")\n",
    "\n",
    "plt.tight_layout()\n",
    "plt.show()"
   ]
  },
  {
   "cell_type": "code",
   "execution_count": 24,
   "id": "7e98b8ba",
   "metadata": {
    "execution": {
     "iopub.execute_input": "2023-03-05T03:57:07.837709Z",
     "iopub.status.busy": "2023-03-05T03:57:07.837283Z",
     "iopub.status.idle": "2023-03-05T03:57:07.843163Z",
     "shell.execute_reply": "2023-03-05T03:57:07.841976Z"
    },
    "papermill": {
     "duration": 0.047442,
     "end_time": "2023-03-05T03:57:07.845601",
     "exception": false,
     "start_time": "2023-03-05T03:57:07.798159",
     "status": "completed"
    },
    "scrolled": true,
    "tags": []
   },
   "outputs": [],
   "source": [
    "y_train = np.log1p(y_train).rename(\"LogSalePrice\")"
   ]
  },
  {
   "cell_type": "markdown",
   "id": "17336be0",
   "metadata": {
    "papermill": {
     "duration": 0.036488,
     "end_time": "2023-03-05T03:57:07.919963",
     "exception": false,
     "start_time": "2023-03-05T03:57:07.883475",
     "status": "completed"
    },
    "tags": []
   },
   "source": [
    "### Date features."
   ]
  },
  {
   "cell_type": "markdown",
   "id": "05098cc0",
   "metadata": {
    "papermill": {
     "duration": 0.036907,
     "end_time": "2023-03-05T03:57:07.994911",
     "exception": false,
     "start_time": "2023-03-05T03:57:07.958004",
     "status": "completed"
    },
    "tags": []
   },
   "source": [
    "__Features transformed__\n",
    "* None.\n",
    "\n",
    "__Features added__\n",
    "* (`BltToSold`, `RemodToSold`, `GrgBltToSold`) — computed by taking the difference between `YrSold` and each of (`YearBuilt`, `YearRemodAdd`, `GarageYrBlt`) respectively. We expect that newer houses or houses that are recently remodeled are more expensive. The same applies for newer garages.\n",
    "\n",
    "* `SeasSold` — computed by grouping the months into the corresponding seasons: spring, summer, autumn, winter. We expect that house sales may have seasonal patterns, and this also helps reduce the number of categories.\n",
    "\n",
    "__Features removed__\n",
    "* `YearBuilt`, `YearRemodAdd`, `GarageYrBlt`, `MoSold`, `SeasSold`, `YrSold`."
   ]
  },
  {
   "cell_type": "code",
   "execution_count": null,
   "id": "de63bfcf",
   "metadata": {
    "execution": {
     "iopub.execute_input": "2023-03-05T03:57:08.072484Z",
     "iopub.status.busy": "2023-03-05T03:57:08.071351Z",
     "iopub.status.idle": "2023-03-05T03:57:09.657615Z",
     "shell.execute_reply": "2023-03-05T03:57:09.656174Z"
    },
    "papermill": {
     "duration": 1.628181,
     "end_time": "2023-03-05T03:57:09.661168",
     "exception": false,
     "start_time": "2023-03-05T03:57:08.032987",
     "status": "completed"
    },
    "tags": []
   },
   "outputs": [],
   "source": [
    "YR_COL = [\"YearBuilt\", \"YearRemodAdd\", \"GarageYrBlt\"]\n",
    "RENAME_YR = {\n",
    "    \"YearBuilt\": \"BltToSold\",\n",
    "    \"YearRemodAdd\": \"RemodToSold\",\n",
    "    \"GarageYrBlt\": \"GrgBltToSold\",\n",
    "}\n",
    "\n",
    "X_train[YR_COL] = (-X_train[YR_COL].sub(X_train.YrSold, axis=0)).astype(float)\n",
    "X_test[YR_COL] = (-X_test[YR_COL].sub(X_test.YrSold, axis=0)).astype(float)\n",
    "\n",
    "X_train = X_train.rename(columns=RENAME_YR)\n",
    "X_test = X_test.rename(columns=RENAME_YR)\n",
    "\n",
    "multi_regplot(X_train, y_train, cols=RENAME_YR.values())"
   ]
  },
  {
   "cell_type": "code",
   "execution_count": null,
   "id": "c61c350d",
   "metadata": {
    "execution": {
     "iopub.execute_input": "2023-03-05T03:57:09.745447Z",
     "iopub.status.busy": "2023-03-05T03:57:09.745025Z",
     "iopub.status.idle": "2023-03-05T03:57:09.751386Z",
     "shell.execute_reply": "2023-03-05T03:57:09.749995Z"
    },
    "papermill": {
     "duration": 0.050467,
     "end_time": "2023-03-05T03:57:09.753703",
     "exception": false,
     "start_time": "2023-03-05T03:57:09.703236",
     "status": "completed"
    },
    "tags": []
   },
   "outputs": [],
   "source": [
    "def month_to_season(mth):\n",
    "    assert mth>=0 and mth<=12\n",
    "    if mth==12 or mth<=2:\n",
    "        return \"winter\"\n",
    "    elif mth<=5:\n",
    "        return \"spring\"\n",
    "    elif mth<=8:\n",
    "        return \"summer\"\n",
    "    else:\n",
    "        return \"autumn\""
   ]
  },
  {
   "cell_type": "code",
   "execution_count": null,
   "id": "7ec5da84",
   "metadata": {
    "execution": {
     "iopub.execute_input": "2023-03-05T03:57:09.838056Z",
     "iopub.status.busy": "2023-03-05T03:57:09.837073Z",
     "iopub.status.idle": "2023-03-05T03:57:11.319231Z",
     "shell.execute_reply": "2023-03-05T03:57:11.318305Z"
    },
    "papermill": {
     "duration": 1.526928,
     "end_time": "2023-03-05T03:57:11.321403",
     "exception": false,
     "start_time": "2023-03-05T03:57:09.794475",
     "status": "completed"
    },
    "tags": []
   },
   "outputs": [],
   "source": [
    "X_train[\"SeasSold\"] = X_train.MoSold.apply(month_to_season)\n",
    "X_test[\"SeasSold\"] = X_test.MoSold.apply(month_to_season)\n",
    "\n",
    "multi_catplot(X_train, y_train, cols=[\"MoSold\", \"SeasSold\"])"
   ]
  },
  {
   "cell_type": "code",
   "execution_count": null,
   "id": "adb20862",
   "metadata": {
    "execution": {
     "iopub.execute_input": "2023-03-05T03:57:11.409290Z",
     "iopub.status.busy": "2023-03-05T03:57:11.408453Z",
     "iopub.status.idle": "2023-03-05T03:57:11.420206Z",
     "shell.execute_reply": "2023-03-05T03:57:11.419202Z"
    },
    "papermill": {
     "duration": 0.058337,
     "end_time": "2023-03-05T03:57:11.422874",
     "exception": false,
     "start_time": "2023-03-05T03:57:11.364537",
     "status": "completed"
    },
    "tags": []
   },
   "outputs": [],
   "source": [
    "X_train = X_train.drop(columns=[\"MoSold\", \"SeasSold\"], errors=\"ignore\")\n",
    "X_test = X_test.drop(columns=[\"MoSold\", \"SeasSold\"], errors=\"ignore\")"
   ]
  },
  {
   "cell_type": "code",
   "execution_count": null,
   "id": "be22ad44",
   "metadata": {
    "execution": {
     "iopub.execute_input": "2023-03-05T03:57:11.508652Z",
     "iopub.status.busy": "2023-03-05T03:57:11.508189Z",
     "iopub.status.idle": "2023-03-05T03:57:12.044904Z",
     "shell.execute_reply": "2023-03-05T03:57:12.043637Z"
    },
    "papermill": {
     "duration": 0.583216,
     "end_time": "2023-03-05T03:57:12.047767",
     "exception": false,
     "start_time": "2023-03-05T03:57:11.464551",
     "status": "completed"
    },
    "tags": []
   },
   "outputs": [],
   "source": [
    "multi_catplot(X_train, y_train, cols=[\"YrSold\"])"
   ]
  },
  {
   "cell_type": "code",
   "execution_count": null,
   "id": "30bde75b",
   "metadata": {
    "execution": {
     "iopub.execute_input": "2023-03-05T03:57:12.137430Z",
     "iopub.status.busy": "2023-03-05T03:57:12.136100Z",
     "iopub.status.idle": "2023-03-05T03:57:12.144489Z",
     "shell.execute_reply": "2023-03-05T03:57:12.143648Z"
    },
    "papermill": {
     "duration": 0.055658,
     "end_time": "2023-03-05T03:57:12.146810",
     "exception": false,
     "start_time": "2023-03-05T03:57:12.091152",
     "status": "completed"
    },
    "tags": []
   },
   "outputs": [],
   "source": [
    "X_train = X_train.drop(columns=[\"YrSold\"], errors=\"ignore\")\n",
    "X_test = X_test.drop(columns=[\"YrSold\"], errors=\"ignore\")"
   ]
  },
  {
   "cell_type": "markdown",
   "id": "eb78f958",
   "metadata": {
    "papermill": {
     "duration": 0.042565,
     "end_time": "2023-03-05T03:57:12.233701",
     "exception": false,
     "start_time": "2023-03-05T03:57:12.191136",
     "status": "completed"
    },
    "tags": []
   },
   "source": [
    "### Outdoor area features."
   ]
  },
  {
   "cell_type": "markdown",
   "id": "3e66398d",
   "metadata": {
    "papermill": {
     "duration": 0.042504,
     "end_time": "2023-03-05T03:57:12.319049",
     "exception": false,
     "start_time": "2023-03-05T03:57:12.276545",
     "status": "completed"
    },
    "tags": []
   },
   "source": [
    "__Features transformed__\n",
    "* None.\n",
    "\n",
    "__Features added__\n",
    "* `OutArea` — computed by summing (`OpenPorchSF`, `EnclosedPorch`, `3SsnPorch`, `ScreenPorch`, `WoodDeckSF`) to indicate the total outdoor area of the house.\n",
    "\n",
    "* `NumOutType` — computed by counting how many of each (`OpenPorchSF`, `EnclosedPorch`, `3SsnPorch`, `ScreenPorch`, `WoodDeckSF`) are greater than 0. This is an alternative to `OutArea`; instead of looking at the exact area, we count the types of outdoor structures the house has.\n",
    "\n",
    "* (`HasOpenPorch`, `HasEnclosedPorch`, `Has3SsnPorch`, `HasScreenPorch`, `HasWoodDeck`) — indicator columns for each of (`OpenPorchSF`, `EnclosedPorch`, `3SsnPorch`, `ScreenPorch`, `WoodDeckSF`) respectively.\n",
    "\n",
    "__Features removed__\n",
    "* `OpenPorchSF`, `EnclosedPorch`, `3SsnPorch`, `ScreenPorch`, `WoodDeckSF`, `Has3SsnPorch`."
   ]
  },
  {
   "cell_type": "code",
   "execution_count": null,
   "id": "2143c78a",
   "metadata": {
    "execution": {
     "iopub.execute_input": "2023-03-05T03:57:12.406162Z",
     "iopub.status.busy": "2023-03-05T03:57:12.405717Z",
     "iopub.status.idle": "2023-03-05T03:57:15.316151Z",
     "shell.execute_reply": "2023-03-05T03:57:15.314782Z"
    },
    "papermill": {
     "duration": 2.95736,
     "end_time": "2023-03-05T03:57:15.319093",
     "exception": false,
     "start_time": "2023-03-05T03:57:12.361733",
     "status": "completed"
    },
    "tags": []
   },
   "outputs": [],
   "source": [
    "OUT_COL = [col for col in X_train.columns if \"Porch\" in col] + [\"WoodDeckSF\"]\n",
    "print(OUT_COL)\n",
    "\n",
    "X_train[\"OutArea\"] = X_train[OUT_COL].sum(axis=1)\n",
    "X_test[\"OutArea\"] = X_test[OUT_COL].sum(axis=1)\n",
    "\n",
    "multi_regplot(X_train, y_train, cols=OUT_COL+[\"OutArea\"])"
   ]
  },
  {
   "cell_type": "code",
   "execution_count": null,
   "id": "53eaa544",
   "metadata": {
    "execution": {
     "iopub.execute_input": "2023-03-05T03:57:15.420467Z",
     "iopub.status.busy": "2023-03-05T03:57:15.419997Z",
     "iopub.status.idle": "2023-03-05T03:57:15.929695Z",
     "shell.execute_reply": "2023-03-05T03:57:15.928468Z"
    },
    "papermill": {
     "duration": 0.562503,
     "end_time": "2023-03-05T03:57:15.932456",
     "exception": false,
     "start_time": "2023-03-05T03:57:15.369953",
     "status": "completed"
    },
    "tags": []
   },
   "outputs": [],
   "source": [
    "X_train[\"NumOutType\"] = (X_train[OUT_COL]>0).sum(axis=1)\n",
    "X_test[\"NumOutType\"] = (X_test[OUT_COL]>0).sum(axis=1)\n",
    "\n",
    "multi_catplot(X_train, y_train, cols=[\"NumOutType\"])"
   ]
  },
  {
   "cell_type": "code",
   "execution_count": null,
   "id": "4a122fa1",
   "metadata": {
    "execution": {
     "iopub.execute_input": "2023-03-05T03:57:16.030670Z",
     "iopub.status.busy": "2023-03-05T03:57:16.029939Z",
     "iopub.status.idle": "2023-03-05T03:57:18.221906Z",
     "shell.execute_reply": "2023-03-05T03:57:18.220623Z"
    },
    "papermill": {
     "duration": 2.24385,
     "end_time": "2023-03-05T03:57:18.224673",
     "exception": false,
     "start_time": "2023-03-05T03:57:15.980823",
     "status": "completed"
    },
    "tags": []
   },
   "outputs": [],
   "source": [
    "OUT_REPLACE = {\n",
    "    \"OpenPorchSF\": \"HasOpenPorch\",\n",
    "    \"EnclosedPorch\": \"HasEnclosedPorch\",\n",
    "    \"3SsnPorch\": \"Has3SsnPorch\",\n",
    "    \"ScreenPorch\": \"HasScreenPorch\",\n",
    "    \"WoodDeckSF\": \"HasWoodDeck\",\n",
    "}\n",
    "\n",
    "X_train[OUT_COL] = (X_train[OUT_COL]>0).replace({True: \"Yes\", False: \"No\"})\n",
    "X_test[OUT_COL] = (X_test[OUT_COL]>0).replace({True: \"Yes\", False: \"No\"})\n",
    "\n",
    "X_train = X_train.rename(columns=OUT_REPLACE)\n",
    "X_test = X_test.rename(columns=OUT_REPLACE)\n",
    "\n",
    "multi_catplot(X_train, y_train, cols=OUT_REPLACE.values())"
   ]
  },
  {
   "cell_type": "code",
   "execution_count": null,
   "id": "38cbc8dc",
   "metadata": {
    "execution": {
     "iopub.execute_input": "2023-03-05T03:57:18.331358Z",
     "iopub.status.busy": "2023-03-05T03:57:18.330200Z",
     "iopub.status.idle": "2023-03-05T03:57:18.339665Z",
     "shell.execute_reply": "2023-03-05T03:57:18.338681Z"
    },
    "papermill": {
     "duration": 0.064883,
     "end_time": "2023-03-05T03:57:18.342150",
     "exception": false,
     "start_time": "2023-03-05T03:57:18.277267",
     "status": "completed"
    },
    "tags": []
   },
   "outputs": [],
   "source": [
    "X_train = X_train.drop(columns=[\"Has3SsnPorch\"], errors=\"ignore\")\n",
    "X_test = X_test.drop(columns=[\"Has3SsnPorch\"], errors=\"ignore\")"
   ]
  },
  {
   "cell_type": "markdown",
   "id": "d0eed9e9",
   "metadata": {
    "papermill": {
     "duration": 0.050805,
     "end_time": "2023-03-05T03:57:18.444212",
     "exception": false,
     "start_time": "2023-03-05T03:57:18.393407",
     "status": "completed"
    },
    "tags": []
   },
   "source": [
    "### Pool features."
   ]
  },
  {
   "cell_type": "markdown",
   "id": "e8718132",
   "metadata": {
    "papermill": {
     "duration": 0.050922,
     "end_time": "2023-03-05T03:57:18.546287",
     "exception": false,
     "start_time": "2023-03-05T03:57:18.495365",
     "status": "completed"
    },
    "tags": []
   },
   "source": [
    "__Features transformed__\n",
    "* None.\n",
    "\n",
    "__Features added__\n",
    "* None.\n",
    "\n",
    "__Features removed__\n",
    "* `PoolArea`, `PoolQC`."
   ]
  },
  {
   "cell_type": "code",
   "execution_count": null,
   "id": "3dfbebf8",
   "metadata": {
    "execution": {
     "iopub.execute_input": "2023-03-05T03:57:18.651639Z",
     "iopub.status.busy": "2023-03-05T03:57:18.651222Z",
     "iopub.status.idle": "2023-03-05T03:57:19.927181Z",
     "shell.execute_reply": "2023-03-05T03:57:19.926263Z"
    },
    "papermill": {
     "duration": 1.331427,
     "end_time": "2023-03-05T03:57:19.929418",
     "exception": false,
     "start_time": "2023-03-05T03:57:18.597991",
     "status": "completed"
    },
    "tags": []
   },
   "outputs": [],
   "source": [
    "multi_regplot(X_train, y_train, cols=[\"PoolArea\"])\n",
    "multi_catplot(X_train, y_train, cols=[\"PoolQC\"])"
   ]
  },
  {
   "cell_type": "code",
   "execution_count": null,
   "id": "fe10bc5d",
   "metadata": {
    "execution": {
     "iopub.execute_input": "2023-03-05T03:57:20.038435Z",
     "iopub.status.busy": "2023-03-05T03:57:20.037958Z",
     "iopub.status.idle": "2023-03-05T03:57:20.047100Z",
     "shell.execute_reply": "2023-03-05T03:57:20.046259Z"
    },
    "papermill": {
     "duration": 0.06544,
     "end_time": "2023-03-05T03:57:20.049411",
     "exception": false,
     "start_time": "2023-03-05T03:57:19.983971",
     "status": "completed"
    },
    "tags": []
   },
   "outputs": [],
   "source": [
    "X_train = X_train.drop(columns=[\"PoolArea\", \"PoolQC\"], errors=\"ignore\")\n",
    "X_test = X_test.drop(columns=[\"PoolArea\", \"PoolQC\"], errors=\"ignore\")"
   ]
  },
  {
   "cell_type": "markdown",
   "id": "812fb33c",
   "metadata": {
    "papermill": {
     "duration": 0.052641,
     "end_time": "2023-03-05T03:57:20.156771",
     "exception": false,
     "start_time": "2023-03-05T03:57:20.104130",
     "status": "completed"
    },
    "tags": []
   },
   "source": [
    "### Indoor area features."
   ]
  },
  {
   "cell_type": "markdown",
   "id": "75c27b92",
   "metadata": {
    "papermill": {
     "duration": 0.05183,
     "end_time": "2023-03-05T03:57:20.264530",
     "exception": false,
     "start_time": "2023-03-05T03:57:20.212700",
     "status": "completed"
    },
    "tags": []
   },
   "source": [
    "It is worth noting that `TotalBsmtSF`=`BsmtFinSF1`+`BsmtFinSF2`+`BsmtUnfSF` and `GrLivArea`=`1stFlrSF`+`2ndFlrSF`+`LowQualFinSF`.\n",
    "\n",
    "__Features transformed__\n",
    "* None.\n",
    "\n",
    "__Features added__\n",
    "* (`Has2ndFlr`, `HasBsmt`) — indicator columns for each of (`2ndFlrSF`, `TotalBsmtSF`) respectively.\n",
    "\n",
    "__Features removed__\n",
    "* `BsmtFinSF2`, `LowQualFinSF`."
   ]
  },
  {
   "cell_type": "code",
   "execution_count": null,
   "id": "01351c07",
   "metadata": {
    "execution": {
     "iopub.execute_input": "2023-03-05T03:57:20.372355Z",
     "iopub.status.busy": "2023-03-05T03:57:20.371575Z",
     "iopub.status.idle": "2023-03-05T03:57:24.314246Z",
     "shell.execute_reply": "2023-03-05T03:57:24.312933Z"
    },
    "papermill": {
     "duration": 4.000545,
     "end_time": "2023-03-05T03:57:24.317334",
     "exception": false,
     "start_time": "2023-03-05T03:57:20.316789",
     "status": "completed"
    },
    "tags": []
   },
   "outputs": [],
   "source": [
    "IN_COL = [col for col in X_train if \"SF\" in col and not col in OUT_COL] + [\"GrLivArea\"]\n",
    "print(IN_COL)\n",
    "\n",
    "multi_regplot(X_train, y_train, cols=IN_COL)"
   ]
  },
  {
   "cell_type": "code",
   "execution_count": null,
   "id": "7791ad28",
   "metadata": {
    "execution": {
     "iopub.execute_input": "2023-03-05T03:57:24.441773Z",
     "iopub.status.busy": "2023-03-05T03:57:24.441335Z",
     "iopub.status.idle": "2023-03-05T03:57:25.331527Z",
     "shell.execute_reply": "2023-03-05T03:57:25.330610Z"
    },
    "papermill": {
     "duration": 0.953599,
     "end_time": "2023-03-05T03:57:25.333814",
     "exception": false,
     "start_time": "2023-03-05T03:57:24.380215",
     "status": "completed"
    },
    "tags": []
   },
   "outputs": [],
   "source": [
    "X_train[\"Has2ndFlr\"] = X_train[\"2ndFlrSF\"].apply(lambda x: \"Yes\" if x>0 else \"No\")\n",
    "X_test[\"Has2ndFlr\"] = X_test[\"2ndFlrSF\"].apply(lambda x: \"Yes\" if x>0 else \"No\")\n",
    "\n",
    "X_train[\"HasBsmt\"] = X_train.TotalBsmtSF.apply(lambda x: \"Yes\" if x>0 else \"No\")\n",
    "X_test[\"HasBsmt\"] = X_test.TotalBsmtSF.apply(lambda x: \"Yes\" if x>0 else \"No\")\n",
    "\n",
    "multi_catplot(X_train, y_train, cols=[\"Has2ndFlr\", \"HasBsmt\"])"
   ]
  },
  {
   "cell_type": "code",
   "execution_count": null,
   "id": "326f6c02",
   "metadata": {
    "execution": {
     "iopub.execute_input": "2023-03-05T03:57:25.459770Z",
     "iopub.status.busy": "2023-03-05T03:57:25.458970Z",
     "iopub.status.idle": "2023-03-05T03:57:25.469405Z",
     "shell.execute_reply": "2023-03-05T03:57:25.468472Z"
    },
    "papermill": {
     "duration": 0.074555,
     "end_time": "2023-03-05T03:57:25.471870",
     "exception": false,
     "start_time": "2023-03-05T03:57:25.397315",
     "status": "completed"
    },
    "tags": []
   },
   "outputs": [],
   "source": [
    "X_train = X_train.drop(columns=[\"BsmtFinSF2\", \"LowQualFinSF\"], errors=\"ignore\")\n",
    "X_test = X_test.drop(columns=[\"BsmtFinSF2\", \"LowQualFinSF\"], errors=\"ignore\")"
   ]
  },
  {
   "cell_type": "markdown",
   "id": "df19b3a8",
   "metadata": {
    "papermill": {
     "duration": 0.058812,
     "end_time": "2023-03-05T03:57:25.591644",
     "exception": false,
     "start_time": "2023-03-05T03:57:25.532832",
     "status": "completed"
    },
    "tags": []
   },
   "source": [
    "### Other basement features."
   ]
  },
  {
   "cell_type": "markdown",
   "id": "51866d03",
   "metadata": {
    "papermill": {
     "duration": 0.060145,
     "end_time": "2023-03-05T03:57:25.711327",
     "exception": false,
     "start_time": "2023-03-05T03:57:25.651182",
     "status": "completed"
    },
    "tags": []
   },
   "source": [
    "__Features transformed__\n",
    "* None.\n",
    "\n",
    "__Features added__\n",
    "* None.\n",
    "\n",
    "__Features removed__\n",
    "* None."
   ]
  },
  {
   "cell_type": "code",
   "execution_count": null,
   "id": "654b533e",
   "metadata": {
    "execution": {
     "iopub.execute_input": "2023-03-05T03:57:25.835292Z",
     "iopub.status.busy": "2023-03-05T03:57:25.834523Z",
     "iopub.status.idle": "2023-03-05T03:57:28.909573Z",
     "shell.execute_reply": "2023-03-05T03:57:28.908422Z"
    },
    "papermill": {
     "duration": 3.138855,
     "end_time": "2023-03-05T03:57:28.912022",
     "exception": false,
     "start_time": "2023-03-05T03:57:25.773167",
     "status": "completed"
    },
    "tags": []
   },
   "outputs": [],
   "source": [
    "BSMT_COL = [\n",
    "    col for col in X_train.columns \n",
    "    if (not col in IN_COL+[\"HasBsmt\"])\n",
    "    and (\"Bsmt\" in col)\n",
    "    and (not \"Bath\" in col)\n",
    "]\n",
    "print(BSMT_COL)\n",
    "\n",
    "multi_catplot(X_train, y_train, BSMT_COL)"
   ]
  },
  {
   "cell_type": "markdown",
   "id": "96394583",
   "metadata": {
    "papermill": {
     "duration": 0.133093,
     "end_time": "2023-03-05T03:57:29.111343",
     "exception": false,
     "start_time": "2023-03-05T03:57:28.978250",
     "status": "completed"
    },
    "tags": []
   },
   "source": [
    "### Bathroom features."
   ]
  },
  {
   "cell_type": "markdown",
   "id": "9b078b60",
   "metadata": {
    "papermill": {
     "duration": 0.067923,
     "end_time": "2023-03-05T03:57:29.243635",
     "exception": false,
     "start_time": "2023-03-05T03:57:29.175712",
     "status": "completed"
    },
    "tags": []
   },
   "source": [
    "__Features transformed__\n",
    "* None.\n",
    "\n",
    "__Features added__\n",
    "* (`TtlFullBath`, `TtlHalfBath`) — computed by summing (`FullBath`, `BsmtFullBath`) and (`HalfBath`, `BsmtHalfBath`) respectively.\n",
    "\n",
    "* `TtlBath` — computed by summing `TtlFullBath` and `TtlHalfBath`. We multiply 0.5 to `TtlHalfBath` because full bathrooms and half bathrooms are fundamentally different. This acts as an approximation.\n",
    "\n",
    "* `HasHalfBath` — indicator column for `TtlHalfBath`. Having half bathrooms may be seen as additional feature that is good to have in a house.\n",
    "\n",
    "* `HasBsmtBath` — indicator column computed by checking if the sum of (`BsmtFullBath`, `BsmtHalfBath`) is greater than 0. Similarly, this may be seen as an additional feature.\n",
    "\n",
    "__Features removed__\n",
    "* `BsmtFullBath`, `BsmtHalfBath`."
   ]
  },
  {
   "cell_type": "code",
   "execution_count": null,
   "id": "fba75110",
   "metadata": {
    "execution": {
     "iopub.execute_input": "2023-03-05T03:57:29.375466Z",
     "iopub.status.busy": "2023-03-05T03:57:29.374434Z",
     "iopub.status.idle": "2023-03-05T03:57:32.843110Z",
     "shell.execute_reply": "2023-03-05T03:57:32.841874Z"
    },
    "papermill": {
     "duration": 3.536215,
     "end_time": "2023-03-05T03:57:32.845716",
     "exception": false,
     "start_time": "2023-03-05T03:57:29.309501",
     "status": "completed"
    },
    "scrolled": false,
    "tags": []
   },
   "outputs": [],
   "source": [
    "FULLBATH_COL = [\"FullBath\", \"BsmtFullBath\"]\n",
    "HALFBATH_COL = [\"HalfBath\", \"BsmtHalfBath\"]\n",
    "\n",
    "X_train[\"TtlFullBath\"] = X_train[FULLBATH_COL].sum(axis=1)\n",
    "X_test[\"TtlFullBath\"] = X_test[FULLBATH_COL].sum(axis=1)\n",
    "\n",
    "X_train[\"TtlHalfBath\"] = X_train[HALFBATH_COL].sum(axis=1)\n",
    "X_test[\"TtlHalfBath\"] = X_test[HALFBATH_COL].sum(axis=1)\n",
    "\n",
    "X_train[\"TtlBath\"] = X_train.TtlFullBath + 0.5*X_train.TtlHalfBath\n",
    "X_test[\"TtlBath\"] = X_test.TtlFullBath + 0.5*X_test.TtlHalfBath\n",
    "\n",
    "BATH_COL = [col for col in X_train.columns if \"Bath\" in col]\n",
    "print(BATH_COL)\n",
    "\n",
    "multi_catplot(X_train, y_train, cols=BATH_COL)"
   ]
  },
  {
   "cell_type": "code",
   "execution_count": null,
   "id": "4250a390",
   "metadata": {
    "execution": {
     "iopub.execute_input": "2023-03-05T03:57:32.990024Z",
     "iopub.status.busy": "2023-03-05T03:57:32.988736Z",
     "iopub.status.idle": "2023-03-05T03:57:33.719498Z",
     "shell.execute_reply": "2023-03-05T03:57:33.718147Z"
    },
    "papermill": {
     "duration": 0.803706,
     "end_time": "2023-03-05T03:57:33.722220",
     "exception": false,
     "start_time": "2023-03-05T03:57:32.918514",
     "status": "completed"
    },
    "tags": []
   },
   "outputs": [],
   "source": [
    "X_train[\"HasHalfBath\"] = X_train[HALFBATH_COL].sum(axis=1).apply(lambda x: \"Yes\" if x>0 else \"No\")\n",
    "X_test[\"HasHalfBath\"] = X_test[HALFBATH_COL].sum(axis=1).apply(lambda x: \"Yes\" if x>0 else \"No\")\n",
    "\n",
    "X_train[\"HasBsmtBath\"] = X_train[[\"BsmtFullBath\", \"BsmtHalfBath\"]].sum(axis=1).apply(lambda x: \"Yes\" if x>0 else \"No\")\n",
    "X_test[\"HasBsmtBath\"] = X_test[[\"BsmtFullBath\", \"BsmtHalfBath\"]].sum(axis=1).apply(lambda x: \"Yes\" if x>0 else \"No\")\n",
    "\n",
    "multi_catplot(X_train, y_train, cols=[\"HasHalfBath\", \"HasBsmtBath\"])"
   ]
  },
  {
   "cell_type": "code",
   "execution_count": null,
   "id": "82736849",
   "metadata": {
    "execution": {
     "iopub.execute_input": "2023-03-05T03:57:33.869409Z",
     "iopub.status.busy": "2023-03-05T03:57:33.868985Z",
     "iopub.status.idle": "2023-03-05T03:57:33.880597Z",
     "shell.execute_reply": "2023-03-05T03:57:33.879590Z"
    },
    "papermill": {
     "duration": 0.086686,
     "end_time": "2023-03-05T03:57:33.883013",
     "exception": false,
     "start_time": "2023-03-05T03:57:33.796327",
     "status": "completed"
    },
    "tags": []
   },
   "outputs": [],
   "source": [
    "X_train = X_train.drop(columns=[\"BsmtFullBath\", \"BsmtHalfBath\"], errors=\"ignore\")\n",
    "X_test = X_test.drop(columns=[\"BsmtFullBath\", \"BsmtHalfBath\"], errors=\"ignore\")"
   ]
  },
  {
   "cell_type": "markdown",
   "id": "80a37ac6",
   "metadata": {
    "papermill": {
     "duration": 0.072504,
     "end_time": "2023-03-05T03:57:34.026556",
     "exception": false,
     "start_time": "2023-03-05T03:57:33.954052",
     "status": "completed"
    },
    "tags": []
   },
   "source": [
    "### Room features (excluding bathrooms)."
   ]
  },
  {
   "cell_type": "markdown",
   "id": "573df835",
   "metadata": {
    "papermill": {
     "duration": 0.068755,
     "end_time": "2023-03-05T03:57:34.165728",
     "exception": false,
     "start_time": "2023-03-05T03:57:34.096973",
     "status": "completed"
    },
    "tags": []
   },
   "source": [
    "__Features transformed__\n",
    "* None.\n",
    "\n",
    "__Features added__\n",
    "* `OtherRms` — computed by subtracting `BedroomAbvGr` and `KitchenAbvGr` from `TotRmsAbvGrd`. Because kitchens and bedrooms are essentials in houses, may be good to know how many additional rooms there are instead.\n",
    "\n",
    "__Features removed__\n",
    "* `KitchenAbvGr`."
   ]
  },
  {
   "cell_type": "code",
   "execution_count": null,
   "id": "6c9c7ce9",
   "metadata": {
    "execution": {
     "iopub.execute_input": "2023-03-05T03:57:34.308648Z",
     "iopub.status.busy": "2023-03-05T03:57:34.307918Z",
     "iopub.status.idle": "2023-03-05T03:57:36.792618Z",
     "shell.execute_reply": "2023-03-05T03:57:36.791440Z"
    },
    "papermill": {
     "duration": 2.559115,
     "end_time": "2023-03-05T03:57:36.795079",
     "exception": false,
     "start_time": "2023-03-05T03:57:34.235964",
     "status": "completed"
    },
    "tags": []
   },
   "outputs": [],
   "source": [
    "ROOM_COL = [\"TotRmsAbvGrd\", \"BedroomAbvGr\", \"KitchenAbvGr\"]\n",
    "\n",
    "X_train[\"OtherRms\"] = X_train.TotRmsAbvGrd-X_train.BedroomAbvGr-X_train.KitchenAbvGr\n",
    "X_test[\"OtherRms\"] = X_test.TotRmsAbvGrd-X_test.BedroomAbvGr-X_test.KitchenAbvGr\n",
    "\n",
    "multi_catplot(X_train, y_train, cols=ROOM_COL+[\"OtherRms\"])"
   ]
  },
  {
   "cell_type": "code",
   "execution_count": null,
   "id": "88ab5b94",
   "metadata": {
    "execution": {
     "iopub.execute_input": "2023-03-05T03:57:36.945825Z",
     "iopub.status.busy": "2023-03-05T03:57:36.944799Z",
     "iopub.status.idle": "2023-03-05T03:57:36.956104Z",
     "shell.execute_reply": "2023-03-05T03:57:36.955129Z"
    },
    "papermill": {
     "duration": 0.087956,
     "end_time": "2023-03-05T03:57:36.958694",
     "exception": false,
     "start_time": "2023-03-05T03:57:36.870738",
     "status": "completed"
    },
    "tags": []
   },
   "outputs": [],
   "source": [
    "X_train = X_train.drop(columns=[\"KitchenAbvGr\"], errors=\"ignore\")\n",
    "X_test = X_test.drop(columns=[\"KitchenAbvGr\"], errors=\"ignore\")"
   ]
  },
  {
   "cell_type": "code",
   "execution_count": null,
   "id": "1cd59bef",
   "metadata": {
    "execution": {
     "iopub.execute_input": "2023-03-05T03:57:37.106750Z",
     "iopub.status.busy": "2023-03-05T03:57:37.105931Z",
     "iopub.status.idle": "2023-03-05T03:57:37.515522Z",
     "shell.execute_reply": "2023-03-05T03:57:37.514224Z"
    },
    "papermill": {
     "duration": 0.485867,
     "end_time": "2023-03-05T03:57:37.518282",
     "exception": false,
     "start_time": "2023-03-05T03:57:37.032415",
     "status": "completed"
    },
    "tags": []
   },
   "outputs": [],
   "source": [
    "multi_catplot(X_train, y_train, cols=[\"KitchenQual\"])"
   ]
  },
  {
   "cell_type": "markdown",
   "id": "2608cadb",
   "metadata": {
    "papermill": {
     "duration": 0.07756,
     "end_time": "2023-03-05T03:57:37.677983",
     "exception": false,
     "start_time": "2023-03-05T03:57:37.600423",
     "status": "completed"
    },
    "tags": []
   },
   "source": [
    "### Heating features."
   ]
  },
  {
   "cell_type": "markdown",
   "id": "14eba10b",
   "metadata": {
    "papermill": {
     "duration": 0.07387,
     "end_time": "2023-03-05T03:57:37.824578",
     "exception": false,
     "start_time": "2023-03-05T03:57:37.750708",
     "status": "completed"
    },
    "tags": []
   },
   "source": [
    "__Features transformed__\n",
    "* None.\n",
    "\n",
    "__Features added__\n",
    "* None.\n",
    "\n",
    "__Features removed__\n",
    "* `Heating`."
   ]
  },
  {
   "cell_type": "code",
   "execution_count": null,
   "id": "ef41bc21",
   "metadata": {
    "execution": {
     "iopub.execute_input": "2023-03-05T03:57:37.977507Z",
     "iopub.status.busy": "2023-03-05T03:57:37.976851Z",
     "iopub.status.idle": "2023-03-05T03:57:39.084156Z",
     "shell.execute_reply": "2023-03-05T03:57:39.082967Z"
    },
    "papermill": {
     "duration": 1.187511,
     "end_time": "2023-03-05T03:57:39.086924",
     "exception": false,
     "start_time": "2023-03-05T03:57:37.899413",
     "status": "completed"
    },
    "tags": []
   },
   "outputs": [],
   "source": [
    "HEATING_COL = [\"Heating\", \"HeatingQC\"]\n",
    "\n",
    "multi_catplot(X_train, y_train, cols=HEATING_COL)"
   ]
  },
  {
   "cell_type": "code",
   "execution_count": null,
   "id": "61b2a4a1",
   "metadata": {
    "execution": {
     "iopub.execute_input": "2023-03-05T03:57:39.242406Z",
     "iopub.status.busy": "2023-03-05T03:57:39.241943Z",
     "iopub.status.idle": "2023-03-05T03:57:39.251550Z",
     "shell.execute_reply": "2023-03-05T03:57:39.250488Z"
    },
    "papermill": {
     "duration": 0.088338,
     "end_time": "2023-03-05T03:57:39.253803",
     "exception": false,
     "start_time": "2023-03-05T03:57:39.165465",
     "status": "completed"
    },
    "tags": []
   },
   "outputs": [],
   "source": [
    "X_train = X_train.drop(columns=[\"Heating\"], errors=\"ignore\")\n",
    "X_test = X_test.drop(columns=[\"Heating\"], errors=\"ignore\")"
   ]
  },
  {
   "cell_type": "markdown",
   "id": "b8513f01",
   "metadata": {
    "papermill": {
     "duration": 0.073131,
     "end_time": "2023-03-05T03:57:39.400483",
     "exception": false,
     "start_time": "2023-03-05T03:57:39.327352",
     "status": "completed"
    },
    "tags": []
   },
   "source": [
    "### Fireplace features."
   ]
  },
  {
   "cell_type": "markdown",
   "id": "e070eee5",
   "metadata": {
    "papermill": {
     "duration": 0.07317,
     "end_time": "2023-03-05T03:57:39.546957",
     "exception": false,
     "start_time": "2023-03-05T03:57:39.473787",
     "status": "completed"
    },
    "tags": []
   },
   "source": [
    "__Features transformed__\n",
    "* None.\n",
    "\n",
    "__Features added__\n",
    "* `HasFirePlace` — indicator column for `Fireplaces`.\n",
    "\n",
    "__Features removed__\n",
    "* None."
   ]
  },
  {
   "cell_type": "code",
   "execution_count": null,
   "id": "878c8cf0",
   "metadata": {
    "execution": {
     "iopub.execute_input": "2023-03-05T03:57:39.696408Z",
     "iopub.status.busy": "2023-03-05T03:57:39.695979Z",
     "iopub.status.idle": "2023-03-05T03:57:41.482314Z",
     "shell.execute_reply": "2023-03-05T03:57:41.481432Z"
    },
    "papermill": {
     "duration": 1.864744,
     "end_time": "2023-03-05T03:57:41.484987",
     "exception": false,
     "start_time": "2023-03-05T03:57:39.620243",
     "status": "completed"
    },
    "tags": []
   },
   "outputs": [],
   "source": [
    "FIREPLACE_COL = [\"Fireplaces\", \"FireplaceQu\"]\n",
    "\n",
    "X_train[\"HasFirePlace\"] = X_train.Fireplaces.apply(lambda x: \"Yes\" if x else \"No\")\n",
    "X_test[\"HasFirePlace\"] = X_test.Fireplaces.apply(lambda x: \"Yes\" if x else \"No\")\n",
    "\n",
    "multi_catplot(X_train, y_train, cols=FIREPLACE_COL+[\"HasFirePlace\"])"
   ]
  },
  {
   "cell_type": "markdown",
   "id": "28a137b1",
   "metadata": {
    "papermill": {
     "duration": 0.075578,
     "end_time": "2023-03-05T03:57:41.640578",
     "exception": false,
     "start_time": "2023-03-05T03:57:41.565000",
     "status": "completed"
    },
    "tags": []
   },
   "source": [
    "### Garage features."
   ]
  },
  {
   "cell_type": "markdown",
   "id": "5b2f291d",
   "metadata": {
    "papermill": {
     "duration": 0.076853,
     "end_time": "2023-03-05T03:57:41.793599",
     "exception": false,
     "start_time": "2023-03-05T03:57:41.716746",
     "status": "completed"
    },
    "tags": []
   },
   "source": [
    "__Features transformed__\n",
    "* `GarageType` — grouped some categories together.\n",
    "\n",
    "__Features added__\n",
    "* None.\n",
    "\n",
    "__Features removed__\n",
    "* `GarageCars` — removed because it gives the same information as `GarageArea`. `GarageArea` is kept as it is better at assuming continuous values."
   ]
  },
  {
   "cell_type": "code",
   "execution_count": null,
   "id": "6c5d5a25",
   "metadata": {
    "execution": {
     "iopub.execute_input": "2023-03-05T03:57:41.948562Z",
     "iopub.status.busy": "2023-03-05T03:57:41.947813Z",
     "iopub.status.idle": "2023-03-05T03:57:44.223108Z",
     "shell.execute_reply": "2023-03-05T03:57:44.221631Z"
    },
    "papermill": {
     "duration": 2.355793,
     "end_time": "2023-03-05T03:57:44.225978",
     "exception": false,
     "start_time": "2023-03-05T03:57:41.870185",
     "status": "completed"
    },
    "tags": []
   },
   "outputs": [],
   "source": [
    "GARAGE_COL = [\n",
    "    col for col in X_train.columns \n",
    "    if \"Garage\" in col and not col in [\"GarageCars\", \"GarageArea\"]\n",
    "]\n",
    "print(GARAGE_COL)\n",
    "\n",
    "multi_catplot(X_train, y_train, cols=GARAGE_COL)"
   ]
  },
  {
   "cell_type": "code",
   "execution_count": null,
   "id": "0e6dc18d",
   "metadata": {
    "execution": {
     "iopub.execute_input": "2023-03-05T03:57:44.391560Z",
     "iopub.status.busy": "2023-03-05T03:57:44.390240Z",
     "iopub.status.idle": "2023-03-05T03:57:44.399259Z",
     "shell.execute_reply": "2023-03-05T03:57:44.398400Z"
    },
    "papermill": {
     "duration": 0.091889,
     "end_time": "2023-03-05T03:57:44.401782",
     "exception": false,
     "start_time": "2023-03-05T03:57:44.309893",
     "status": "completed"
    },
    "tags": []
   },
   "outputs": [],
   "source": [
    "GARAGETYPE_KEEP = [\"Attchd\", \"Detchd\", \"BuiltIn\", \"NA\"]\n",
    "\n",
    "X_train.GarageType = X_train.GarageType.apply(lambda x: x if x in GARAGETYPE_KEEP else \"Others\")\n",
    "X_test.GarageType = X_test.GarageType.apply(lambda x: x if x in GARAGETYPE_KEEP else \"Others\")"
   ]
  },
  {
   "cell_type": "code",
   "execution_count": null,
   "id": "58cc22c5",
   "metadata": {
    "execution": {
     "iopub.execute_input": "2023-03-05T03:57:44.562215Z",
     "iopub.status.busy": "2023-03-05T03:57:44.561362Z",
     "iopub.status.idle": "2023-03-05T03:57:45.642250Z",
     "shell.execute_reply": "2023-03-05T03:57:45.640788Z"
    },
    "papermill": {
     "duration": 1.165123,
     "end_time": "2023-03-05T03:57:45.645462",
     "exception": false,
     "start_time": "2023-03-05T03:57:44.480339",
     "status": "completed"
    },
    "tags": []
   },
   "outputs": [],
   "source": [
    "multi_regplot(X_train, y_train, cols=[\"GarageCars\", \"GarageArea\"])"
   ]
  },
  {
   "cell_type": "code",
   "execution_count": null,
   "id": "c2c0f000",
   "metadata": {
    "execution": {
     "iopub.execute_input": "2023-03-05T03:57:45.819828Z",
     "iopub.status.busy": "2023-03-05T03:57:45.818995Z",
     "iopub.status.idle": "2023-03-05T03:57:46.404265Z",
     "shell.execute_reply": "2023-03-05T03:57:46.403037Z"
    },
    "papermill": {
     "duration": 0.671649,
     "end_time": "2023-03-05T03:57:46.406839",
     "exception": false,
     "start_time": "2023-03-05T03:57:45.735190",
     "status": "completed"
    },
    "tags": []
   },
   "outputs": [],
   "source": [
    "multi_regplot(X_train, X_train.GarageArea, cols=[\"GarageCars\"])"
   ]
  },
  {
   "cell_type": "code",
   "execution_count": null,
   "id": "4e094ef4",
   "metadata": {
    "execution": {
     "iopub.execute_input": "2023-03-05T03:57:46.576805Z",
     "iopub.status.busy": "2023-03-05T03:57:46.576018Z",
     "iopub.status.idle": "2023-03-05T03:57:46.587703Z",
     "shell.execute_reply": "2023-03-05T03:57:46.586629Z"
    },
    "papermill": {
     "duration": 0.096873,
     "end_time": "2023-03-05T03:57:46.590478",
     "exception": false,
     "start_time": "2023-03-05T03:57:46.493605",
     "status": "completed"
    },
    "tags": []
   },
   "outputs": [],
   "source": [
    "X_train = X_train.drop(columns=[\"GarageCars\"], errors=\"ignore\")\n",
    "X_test = X_test.drop(columns=[\"GarageCars\"], errors=\"ignore\")"
   ]
  },
  {
   "cell_type": "markdown",
   "id": "358e180e",
   "metadata": {
    "papermill": {
     "duration": 0.081312,
     "end_time": "2023-03-05T03:57:46.753836",
     "exception": false,
     "start_time": "2023-03-05T03:57:46.672524",
     "status": "completed"
    },
    "tags": []
   },
   "source": [
    "### Roof features."
   ]
  },
  {
   "cell_type": "markdown",
   "id": "1de642f8",
   "metadata": {
    "papermill": {
     "duration": 0.080436,
     "end_time": "2023-03-05T03:57:46.918205",
     "exception": false,
     "start_time": "2023-03-05T03:57:46.837769",
     "status": "completed"
    },
    "tags": []
   },
   "source": [
    "__Features transformed__\n",
    "* `RoofStyle` — grouped some categories together.\n",
    "\n",
    "__Features added__\n",
    "* None.\n",
    "\n",
    "__Features removed__\n",
    "* `RoofMatl`."
   ]
  },
  {
   "cell_type": "code",
   "execution_count": null,
   "id": "1fc52658",
   "metadata": {
    "execution": {
     "iopub.execute_input": "2023-03-05T03:57:47.083778Z",
     "iopub.status.busy": "2023-03-05T03:57:47.083045Z",
     "iopub.status.idle": "2023-03-05T03:57:48.334788Z",
     "shell.execute_reply": "2023-03-05T03:57:48.333325Z"
    },
    "papermill": {
     "duration": 1.338102,
     "end_time": "2023-03-05T03:57:48.337559",
     "exception": false,
     "start_time": "2023-03-05T03:57:46.999457",
     "status": "completed"
    },
    "tags": []
   },
   "outputs": [],
   "source": [
    "ROOF_COL = [\"RoofStyle\", \"RoofMatl\"]\n",
    "\n",
    "multi_catplot(X_train, y_train, cols=ROOF_COL)"
   ]
  },
  {
   "cell_type": "code",
   "execution_count": null,
   "id": "97c05cb3",
   "metadata": {
    "execution": {
     "iopub.execute_input": "2023-03-05T03:57:48.509780Z",
     "iopub.status.busy": "2023-03-05T03:57:48.509330Z",
     "iopub.status.idle": "2023-03-05T03:57:48.522167Z",
     "shell.execute_reply": "2023-03-05T03:57:48.520809Z"
    },
    "papermill": {
     "duration": 0.100189,
     "end_time": "2023-03-05T03:57:48.524803",
     "exception": false,
     "start_time": "2023-03-05T03:57:48.424614",
     "status": "completed"
    },
    "tags": []
   },
   "outputs": [],
   "source": [
    "X_train.RoofStyle = X_train.RoofStyle.apply(lambda x: x if x in [\"Gable\", \"Hip\"] else \"Others\")\n",
    "X_test.RoofStyle = X_test.RoofStyle.apply(lambda x: x if x in [\"Gable\", \"Hip\"] else \"Others\")\n",
    "\n",
    "X_train = X_train.drop(columns=[\"RoofMatl\"], errors=\"ignore\")\n",
    "X_test = X_test.drop(columns=[\"RoofMatl\"], errors=\"ignore\")"
   ]
  },
  {
   "cell_type": "markdown",
   "id": "0d76118b",
   "metadata": {
    "papermill": {
     "duration": 0.082434,
     "end_time": "2023-03-05T03:57:48.689790",
     "exception": false,
     "start_time": "2023-03-05T03:57:48.607356",
     "status": "completed"
    },
    "tags": []
   },
   "source": [
    "### Exterior covering features."
   ]
  },
  {
   "cell_type": "markdown",
   "id": "3bc887b9",
   "metadata": {
    "papermill": {
     "duration": 0.083387,
     "end_time": "2023-03-05T03:57:48.856589",
     "exception": false,
     "start_time": "2023-03-05T03:57:48.773202",
     "status": "completed"
    },
    "tags": []
   },
   "source": [
    "__Features transformed__\n",
    "* `Exterior1st` — grouped some categories together.\n",
    "\n",
    "* `Exterior2nd` — transformed into an indicator column by comparing against `Exterior1st`. `Exterior1st` denotes the material used for exterior covering and `Exterior2nd` indicates if more than one material is used. Since 1245 out of 1460 houses are the same, we believe that this indicates only one material is used for the 1245 houses. The remaining houses use two materials.\n",
    "\n",
    "__Features added__\n",
    "* None.\n",
    "\n",
    "__Features removed__\n",
    "* `Exterior2nd`."
   ]
  },
  {
   "cell_type": "code",
   "execution_count": null,
   "id": "d0dfb4fb",
   "metadata": {
    "execution": {
     "iopub.execute_input": "2023-03-05T03:57:49.024071Z",
     "iopub.status.busy": "2023-03-05T03:57:49.023669Z",
     "iopub.status.idle": "2023-03-05T03:57:49.032934Z",
     "shell.execute_reply": "2023-03-05T03:57:49.031719Z"
    },
    "papermill": {
     "duration": 0.095239,
     "end_time": "2023-03-05T03:57:49.035190",
     "exception": false,
     "start_time": "2023-03-05T03:57:48.939951",
     "status": "completed"
    },
    "tags": []
   },
   "outputs": [],
   "source": [
    "(X_train.Exterior1st==X_train.Exterior2nd).sum()"
   ]
  },
  {
   "cell_type": "code",
   "execution_count": null,
   "id": "7e610898",
   "metadata": {
    "execution": {
     "iopub.execute_input": "2023-03-05T03:57:49.206350Z",
     "iopub.status.busy": "2023-03-05T03:57:49.205033Z",
     "iopub.status.idle": "2023-03-05T03:57:49.213546Z",
     "shell.execute_reply": "2023-03-05T03:57:49.212597Z"
    },
    "papermill": {
     "duration": 0.09688,
     "end_time": "2023-03-05T03:57:49.216037",
     "exception": false,
     "start_time": "2023-03-05T03:57:49.119157",
     "status": "completed"
    },
    "tags": []
   },
   "outputs": [],
   "source": [
    "X_train.Exterior2nd = (X_train.Exterior1st!=X_train.Exterior2nd).astype(object)\n",
    "X_test.Exterior2nd = (X_test.Exterior1st!=X_test.Exterior2nd).astype(object)"
   ]
  },
  {
   "cell_type": "code",
   "execution_count": null,
   "id": "dd7e079d",
   "metadata": {
    "execution": {
     "iopub.execute_input": "2023-03-05T03:57:49.386848Z",
     "iopub.status.busy": "2023-03-05T03:57:49.386407Z",
     "iopub.status.idle": "2023-03-05T03:57:51.987721Z",
     "shell.execute_reply": "2023-03-05T03:57:51.986271Z"
    },
    "papermill": {
     "duration": 2.689625,
     "end_time": "2023-03-05T03:57:51.990463",
     "exception": false,
     "start_time": "2023-03-05T03:57:49.300838",
     "status": "completed"
    },
    "tags": []
   },
   "outputs": [],
   "source": [
    "EXTER_COL = [col for col in X_train.columns if \"Exter\" in col]\n",
    "print(EXTER_COL)\n",
    "\n",
    "multi_catplot(X_train, y_train, cols=EXTER_COL)"
   ]
  },
  {
   "cell_type": "code",
   "execution_count": null,
   "id": "b27755ed",
   "metadata": {
    "execution": {
     "iopub.execute_input": "2023-03-05T03:57:52.173863Z",
     "iopub.status.busy": "2023-03-05T03:57:52.173426Z",
     "iopub.status.idle": "2023-03-05T03:57:52.186620Z",
     "shell.execute_reply": "2023-03-05T03:57:52.185664Z"
    },
    "papermill": {
     "duration": 0.104909,
     "end_time": "2023-03-05T03:57:52.189246",
     "exception": false,
     "start_time": "2023-03-05T03:57:52.084337",
     "status": "completed"
    },
    "tags": []
   },
   "outputs": [],
   "source": [
    "EXT1_KEEP = [\"VinylSd\",  \"MetalSd\", \"Wd Sdng\", \"HdBoard\", \"Plywood\"]\n",
    "\n",
    "X_train.Exterior1st = X_train.Exterior1st.apply(lambda x: x if x in EXT1_KEEP else \"Others\")\n",
    "X_test.Exterior1st = X_test.Exterior1st.apply(lambda x: x if x in EXT1_KEEP else \"Others\")\n",
    "\n",
    "X_train = X_train.drop(columns=[\"Exterior2nd\"], errors=\"ignore\")\n",
    "X_test = X_test.drop(columns=[\"Exterior2nd\"], errors=\"ignore\")"
   ]
  },
  {
   "cell_type": "markdown",
   "id": "d762cc66",
   "metadata": {
    "papermill": {
     "duration": 0.089783,
     "end_time": "2023-03-05T03:57:52.381822",
     "exception": false,
     "start_time": "2023-03-05T03:57:52.292039",
     "status": "completed"
    },
    "tags": []
   },
   "source": [
    "### Masonry veneer features."
   ]
  },
  {
   "cell_type": "markdown",
   "id": "a843ea7e",
   "metadata": {
    "papermill": {
     "duration": 0.085228,
     "end_time": "2023-03-05T03:57:52.553281",
     "exception": false,
     "start_time": "2023-03-05T03:57:52.468053",
     "status": "completed"
    },
    "tags": []
   },
   "source": [
    "__Features transformed__\n",
    "* None.\n",
    "\n",
    "__Features added__\n",
    "* None.\n",
    "\n",
    "__Features removed__\n",
    "* None."
   ]
  },
  {
   "cell_type": "code",
   "execution_count": null,
   "id": "fb0270f0",
   "metadata": {
    "execution": {
     "iopub.execute_input": "2023-03-05T03:57:52.732136Z",
     "iopub.status.busy": "2023-03-05T03:57:52.731722Z",
     "iopub.status.idle": "2023-03-05T03:57:53.786026Z",
     "shell.execute_reply": "2023-03-05T03:57:53.784721Z"
    },
    "papermill": {
     "duration": 1.148429,
     "end_time": "2023-03-05T03:57:53.788914",
     "exception": false,
     "start_time": "2023-03-05T03:57:52.640485",
     "status": "completed"
    },
    "tags": []
   },
   "outputs": [],
   "source": [
    "multi_regplot(X_train, y_train, cols=[\"MasVnrArea\"])\n",
    "multi_catplot(X_train, y_train, cols=[\"MasVnrType\"])"
   ]
  },
  {
   "cell_type": "markdown",
   "id": "bd3eb034",
   "metadata": {
    "papermill": {
     "duration": 0.087632,
     "end_time": "2023-03-05T03:57:53.970672",
     "exception": false,
     "start_time": "2023-03-05T03:57:53.883040",
     "status": "completed"
    },
    "tags": []
   },
   "source": [
    "### Proximity condition features."
   ]
  },
  {
   "cell_type": "markdown",
   "id": "176f943b",
   "metadata": {
    "papermill": {
     "duration": 0.088754,
     "end_time": "2023-03-05T03:57:54.147636",
     "exception": false,
     "start_time": "2023-03-05T03:57:54.058882",
     "status": "completed"
    },
    "tags": []
   },
   "source": [
    "__Features transformed__\n",
    "* `Condition1` — grouped some categories together.\n",
    "\n",
    "* `Condition2` — transformed into an indicator column by comparing against `Condition1`. `Condition1` refers to the proximity to various conditions while `Condition2` indicates if more than one condition is present. Since 1265 out of 1460 houses are the same, we believe that this indicates that the 1265 houses only face one condition. The remaining houses face two conditions.\n",
    "\n",
    "__Features added__\n",
    "* None.\n",
    "\n",
    "__Features removed__\n",
    "* None."
   ]
  },
  {
   "cell_type": "code",
   "execution_count": null,
   "id": "05d29b41",
   "metadata": {
    "execution": {
     "iopub.execute_input": "2023-03-05T03:57:54.328636Z",
     "iopub.status.busy": "2023-03-05T03:57:54.328134Z",
     "iopub.status.idle": "2023-03-05T03:57:54.336832Z",
     "shell.execute_reply": "2023-03-05T03:57:54.335611Z"
    },
    "papermill": {
     "duration": 0.105,
     "end_time": "2023-03-05T03:57:54.339732",
     "exception": false,
     "start_time": "2023-03-05T03:57:54.234732",
     "status": "completed"
    },
    "tags": []
   },
   "outputs": [],
   "source": [
    "(X_train.Condition1==X_train.Condition2).sum()"
   ]
  },
  {
   "cell_type": "code",
   "execution_count": null,
   "id": "514c8d1d",
   "metadata": {
    "execution": {
     "iopub.execute_input": "2023-03-05T03:57:54.524808Z",
     "iopub.status.busy": "2023-03-05T03:57:54.524394Z",
     "iopub.status.idle": "2023-03-05T03:57:55.652694Z",
     "shell.execute_reply": "2023-03-05T03:57:55.651430Z"
    },
    "papermill": {
     "duration": 1.224033,
     "end_time": "2023-03-05T03:57:55.655312",
     "exception": false,
     "start_time": "2023-03-05T03:57:54.431279",
     "status": "completed"
    },
    "tags": []
   },
   "outputs": [],
   "source": [
    "X_train.Condition2 = (X_train.Condition1!=X_train.Condition2).astype(object)\n",
    "X_test.Condition2 = (X_test.Condition1!=X_test.Condition2).astype(object)\n",
    "\n",
    "multi_catplot(X_train, y_train, cols=[\"Condition1\", \"Condition2\"])"
   ]
  },
  {
   "cell_type": "code",
   "execution_count": null,
   "id": "51278acf",
   "metadata": {
    "execution": {
     "iopub.execute_input": "2023-03-05T03:57:55.844323Z",
     "iopub.status.busy": "2023-03-05T03:57:55.843882Z",
     "iopub.status.idle": "2023-03-05T03:57:55.854302Z",
     "shell.execute_reply": "2023-03-05T03:57:55.853453Z"
    },
    "papermill": {
     "duration": 0.103276,
     "end_time": "2023-03-05T03:57:55.856624",
     "exception": false,
     "start_time": "2023-03-05T03:57:55.753348",
     "status": "completed"
    },
    "tags": []
   },
   "outputs": [],
   "source": [
    "COND1_REPLACE = {\n",
    "    \"RRNn\": \"RR\", \"RRAn\": \"RR\",\n",
    "    \"PosN\": \"Pos\", \"PosA\": \"Pos\",\n",
    "    \"RRNe\": \"RR\", \"RRAe\": \"RR\",\n",
    "}\n",
    "\n",
    "X_train.Condition1 = X_train.Condition1.replace(COND1_REPLACE)\n",
    "X_test.Condition1 = X_test.Condition1.replace(COND1_REPLACE)"
   ]
  },
  {
   "cell_type": "markdown",
   "id": "141d2c8b",
   "metadata": {
    "papermill": {
     "duration": 0.089792,
     "end_time": "2023-03-05T03:57:56.035712",
     "exception": false,
     "start_time": "2023-03-05T03:57:55.945920",
     "status": "completed"
    },
    "tags": []
   },
   "source": [
    "### House lot features."
   ]
  },
  {
   "cell_type": "markdown",
   "id": "2d12205c",
   "metadata": {
    "papermill": {
     "duration": 0.088785,
     "end_time": "2023-03-05T03:57:56.213455",
     "exception": false,
     "start_time": "2023-03-05T03:57:56.124670",
     "status": "completed"
    },
    "tags": []
   },
   "source": [
    "__Features transformed__\n",
    "* `LotConfig` — grouped some categories together.\n",
    "\n",
    "__Features added__\n",
    "* None.\n",
    "\n",
    "__Features removed__\n",
    "* None."
   ]
  },
  {
   "cell_type": "code",
   "execution_count": null,
   "id": "ae71d309",
   "metadata": {
    "execution": {
     "iopub.execute_input": "2023-03-05T03:57:56.394898Z",
     "iopub.status.busy": "2023-03-05T03:57:56.393529Z",
     "iopub.status.idle": "2023-03-05T03:57:57.397060Z",
     "shell.execute_reply": "2023-03-05T03:57:57.395652Z"
    },
    "papermill": {
     "duration": 1.097849,
     "end_time": "2023-03-05T03:57:57.400533",
     "exception": false,
     "start_time": "2023-03-05T03:57:56.302684",
     "status": "completed"
    },
    "tags": []
   },
   "outputs": [],
   "source": [
    "LOT_NUM_COL = [\"LotFrontage\", \"LotArea\"]\n",
    "\n",
    "multi_regplot(X_train, y_train, cols=LOT_NUM_COL)"
   ]
  },
  {
   "cell_type": "code",
   "execution_count": null,
   "id": "a19447e3",
   "metadata": {
    "execution": {
     "iopub.execute_input": "2023-03-05T03:57:57.647109Z",
     "iopub.status.busy": "2023-03-05T03:57:57.646713Z",
     "iopub.status.idle": "2023-03-05T03:57:58.941527Z",
     "shell.execute_reply": "2023-03-05T03:57:58.940428Z"
    },
    "papermill": {
     "duration": 1.448407,
     "end_time": "2023-03-05T03:57:58.943992",
     "exception": false,
     "start_time": "2023-03-05T03:57:57.495585",
     "status": "completed"
    },
    "tags": []
   },
   "outputs": [],
   "source": [
    "LOT_COL = [\"LotShape\", \"LotConfig\"]\n",
    "\n",
    "multi_catplot(X_train, y_train, cols=LOT_COL)"
   ]
  },
  {
   "cell_type": "code",
   "execution_count": null,
   "id": "f60e8698",
   "metadata": {
    "execution": {
     "iopub.execute_input": "2023-03-05T03:57:59.139954Z",
     "iopub.status.busy": "2023-03-05T03:57:59.138732Z",
     "iopub.status.idle": "2023-03-05T03:57:59.147158Z",
     "shell.execute_reply": "2023-03-05T03:57:59.145851Z"
    },
    "papermill": {
     "duration": 0.105901,
     "end_time": "2023-03-05T03:57:59.149892",
     "exception": false,
     "start_time": "2023-03-05T03:57:59.043991",
     "status": "completed"
    },
    "tags": []
   },
   "outputs": [],
   "source": [
    "LOTCONFIG_KEEP = [\"Inside\", \"Corner\", \"CulDSac\"]\n",
    "\n",
    "X_train.LotConfig = X_train.LotConfig.apply(lambda x: x if x in LOTCONFIG_KEEP else \"FR\")\n",
    "X_test.LotConfig = X_test.LotConfig.apply(lambda x: x if x in LOTCONFIG_KEEP else \"FR\")"
   ]
  },
  {
   "cell_type": "markdown",
   "id": "7f1c8a67",
   "metadata": {
    "papermill": {
     "duration": 0.092019,
     "end_time": "2023-03-05T03:57:59.333359",
     "exception": false,
     "start_time": "2023-03-05T03:57:59.241340",
     "status": "completed"
    },
    "tags": []
   },
   "source": [
    "### House sale features."
   ]
  },
  {
   "cell_type": "markdown",
   "id": "65b394e7",
   "metadata": {
    "papermill": {
     "duration": 0.091583,
     "end_time": "2023-03-05T03:57:59.517190",
     "exception": false,
     "start_time": "2023-03-05T03:57:59.425607",
     "status": "completed"
    },
    "tags": []
   },
   "source": [
    "__Features transformed__\n",
    "* (`SaleType`, `SaleCondition`) — grouped some categories together for each feature.\n",
    "\n",
    "__Features added__\n",
    "* None.\n",
    "\n",
    "__Features removed__\n",
    "* None."
   ]
  },
  {
   "cell_type": "code",
   "execution_count": null,
   "id": "67c9286f",
   "metadata": {
    "execution": {
     "iopub.execute_input": "2023-03-05T03:57:59.703494Z",
     "iopub.status.busy": "2023-03-05T03:57:59.702132Z",
     "iopub.status.idle": "2023-03-05T03:58:00.858089Z",
     "shell.execute_reply": "2023-03-05T03:58:00.856948Z"
    },
    "papermill": {
     "duration": 1.251598,
     "end_time": "2023-03-05T03:58:00.860563",
     "exception": false,
     "start_time": "2023-03-05T03:57:59.608965",
     "status": "completed"
    },
    "tags": []
   },
   "outputs": [],
   "source": [
    "SALE_COL = [\"SaleType\", \"SaleCondition\"]\n",
    "\n",
    "multi_catplot(X_train, y_train, cols=SALE_COL)"
   ]
  },
  {
   "cell_type": "code",
   "execution_count": null,
   "id": "d1e599f5",
   "metadata": {
    "execution": {
     "iopub.execute_input": "2023-03-05T03:58:01.054282Z",
     "iopub.status.busy": "2023-03-05T03:58:01.053266Z",
     "iopub.status.idle": "2023-03-05T03:58:01.066911Z",
     "shell.execute_reply": "2023-03-05T03:58:01.065620Z"
    },
    "papermill": {
     "duration": 0.111393,
     "end_time": "2023-03-05T03:58:01.069630",
     "exception": false,
     "start_time": "2023-03-05T03:58:00.958237",
     "status": "completed"
    },
    "tags": []
   },
   "outputs": [],
   "source": [
    "SALETYPE_REPLACE = {\n",
    "    \"CWD\": \"WD\", \"VWD\": \"WD\",\n",
    "    \"Con\": \"Others\", \"ConLw\": \"Others\", \"ConLI\": \"Others\", \"ConLD\": \"Others\", \"Oth\": \"Others\"\n",
    "}\n",
    "\n",
    "X_train.SaleType = X_train.SaleType.replace(SALETYPE_REPLACE)\n",
    "X_test.SaleType = X_test.SaleType.replace(SALETYPE_REPLACE)\n",
    "\n",
    "SALE_COND_KEEP = [\"Normal\", \"Partial\", \"Abnorml\"]\n",
    "\n",
    "X_train.SaleCondition = X_train.SaleCondition.apply(lambda x: x if x in SALE_COND_KEEP else \"Others\")\n",
    "X_test.SaleCondition = X_test.SaleCondition.apply(lambda x: x if x in SALE_COND_KEEP else \"Others\")"
   ]
  },
  {
   "cell_type": "markdown",
   "id": "f3ff4ea5",
   "metadata": {
    "papermill": {
     "duration": 0.092394,
     "end_time": "2023-03-05T03:58:01.255164",
     "exception": false,
     "start_time": "2023-03-05T03:58:01.162770",
     "status": "completed"
    },
    "tags": []
   },
   "source": [
    "### Misc features."
   ]
  },
  {
   "cell_type": "markdown",
   "id": "3b3ab326",
   "metadata": {
    "papermill": {
     "duration": 0.09417,
     "end_time": "2023-03-05T03:58:01.443046",
     "exception": false,
     "start_time": "2023-03-05T03:58:01.348876",
     "status": "completed"
    },
    "tags": []
   },
   "source": [
    "__Features transformed__\n",
    "* None.\n",
    "\n",
    "__Features added__\n",
    "* None.\n",
    "\n",
    "__Features removed__\n",
    "* `MiscVal`, `MiscFeature`."
   ]
  },
  {
   "cell_type": "code",
   "execution_count": null,
   "id": "bb5c1d39",
   "metadata": {
    "execution": {
     "iopub.execute_input": "2023-03-05T03:58:01.636392Z",
     "iopub.status.busy": "2023-03-05T03:58:01.635946Z",
     "iopub.status.idle": "2023-03-05T03:58:02.716174Z",
     "shell.execute_reply": "2023-03-05T03:58:02.715155Z"
    },
    "papermill": {
     "duration": 1.180421,
     "end_time": "2023-03-05T03:58:02.718538",
     "exception": false,
     "start_time": "2023-03-05T03:58:01.538117",
     "status": "completed"
    },
    "tags": []
   },
   "outputs": [],
   "source": [
    "multi_regplot(X_train, y_train, cols=[\"MiscVal\"])\n",
    "multi_catplot(X_train, y_train, cols=[\"MiscFeature\"])"
   ]
  },
  {
   "cell_type": "code",
   "execution_count": null,
   "id": "f391f4b0",
   "metadata": {
    "execution": {
     "iopub.execute_input": "2023-03-05T03:58:02.915828Z",
     "iopub.status.busy": "2023-03-05T03:58:02.915020Z",
     "iopub.status.idle": "2023-03-05T03:58:02.924208Z",
     "shell.execute_reply": "2023-03-05T03:58:02.923313Z"
    },
    "papermill": {
     "duration": 0.108071,
     "end_time": "2023-03-05T03:58:02.926854",
     "exception": false,
     "start_time": "2023-03-05T03:58:02.818783",
     "status": "completed"
    },
    "tags": []
   },
   "outputs": [],
   "source": [
    "X_train = X_train.drop(columns=[\"MiscVal\", \"MiscFeature\"], errors=\"ignore\")\n",
    "X_test = X_test.drop(columns=[\"MiscVal\", \"MiscFeature\"], errors=\"ignore\")"
   ]
  },
  {
   "cell_type": "markdown",
   "id": "2535d7c3",
   "metadata": {
    "papermill": {
     "duration": 0.095027,
     "end_time": "2023-03-05T03:58:03.116844",
     "exception": false,
     "start_time": "2023-03-05T03:58:03.021817",
     "status": "completed"
    },
    "tags": []
   },
   "source": [
    "### Other location features."
   ]
  },
  {
   "cell_type": "markdown",
   "id": "af5b8a5c",
   "metadata": {
    "papermill": {
     "duration": 0.118307,
     "end_time": "2023-03-05T03:58:03.330803",
     "exception": false,
     "start_time": "2023-03-05T03:58:03.212496",
     "status": "completed"
    },
    "tags": []
   },
   "source": [
    "__Features transformed__\n",
    "* `Alley` — grouped some categories together.\n",
    "\n",
    "__Features added__\n",
    "* None.\n",
    "\n",
    "__Features removed__\n",
    "* `Street`, `LandSlope`."
   ]
  },
  {
   "cell_type": "code",
   "execution_count": null,
   "id": "9b5a0ed8",
   "metadata": {
    "execution": {
     "iopub.execute_input": "2023-03-05T03:58:03.525961Z",
     "iopub.status.busy": "2023-03-05T03:58:03.524854Z",
     "iopub.status.idle": "2023-03-05T03:58:07.533231Z",
     "shell.execute_reply": "2023-03-05T03:58:07.531890Z"
    },
    "papermill": {
     "duration": 4.109577,
     "end_time": "2023-03-05T03:58:07.536180",
     "exception": false,
     "start_time": "2023-03-05T03:58:03.426603",
     "status": "completed"
    },
    "tags": []
   },
   "outputs": [],
   "source": [
    "OTHER_LOC_COL = [\"MSZoning\", \"Street\", \"Alley\", \"LandContour\", \"LandSlope\", \"Neighborhood\"]\n",
    "\n",
    "multi_catplot(X_train, y_train, cols=OTHER_LOC_COL)"
   ]
  },
  {
   "cell_type": "code",
   "execution_count": null,
   "id": "f564b1c4",
   "metadata": {
    "execution": {
     "iopub.execute_input": "2023-03-05T03:58:07.742806Z",
     "iopub.status.busy": "2023-03-05T03:58:07.741931Z",
     "iopub.status.idle": "2023-03-05T03:58:07.754182Z",
     "shell.execute_reply": "2023-03-05T03:58:07.753181Z"
    },
    "papermill": {
     "duration": 0.116168,
     "end_time": "2023-03-05T03:58:07.756914",
     "exception": false,
     "start_time": "2023-03-05T03:58:07.640746",
     "status": "completed"
    },
    "tags": []
   },
   "outputs": [],
   "source": [
    "X_train.Alley = X_train.Alley.apply(lambda x: \"No\" if x==\"NA\" else \"Yes\")\n",
    "X_test.Alley = X_test.Alley.apply(lambda x: \"No\" if x==\"NA\" else \"Yes\")\n",
    "\n",
    "X_train = X_train.drop(columns=[\"Street\", \"LandSlope\"], errors=\"ignore\")\n",
    "X_test = X_test.drop(columns=[\"Street\", \"LandSlope\"], errors=\"ignore\")"
   ]
  },
  {
   "cell_type": "markdown",
   "id": "0754853c",
   "metadata": {
    "papermill": {
     "duration": 0.098812,
     "end_time": "2023-03-05T03:58:07.956928",
     "exception": false,
     "start_time": "2023-03-05T03:58:07.858116",
     "status": "completed"
    },
    "tags": []
   },
   "source": [
    "### Other house features."
   ]
  },
  {
   "cell_type": "markdown",
   "id": "6e1579f1",
   "metadata": {
    "papermill": {
     "duration": 0.099166,
     "end_time": "2023-03-05T03:58:08.155514",
     "exception": false,
     "start_time": "2023-03-05T03:58:08.056348",
     "status": "completed"
    },
    "tags": []
   },
   "source": [
    "__Features transformed__\n",
    "* (`BldgTyp`, `HouseStyle`, `OverallQual`, `OverallCond`, `CentralAir`,\n",
    "    `Electrical`, `Functional`, `PavedDrive`, `Fence`, `Foundation`) — grouped some categories together for each feature.\n",
    "\n",
    "__Features added__\n",
    "* None.\n",
    "\n",
    "__Features removed__\n",
    "* `MSSubClass` — removed because it seems to be a combination of the `BldgType`, `HouseStyle` and `YearBuilt`, want to avoid having too many columns after dummy encoding later, and also not have columns with repeated information."
   ]
  },
  {
   "cell_type": "code",
   "execution_count": null,
   "id": "cb9c55fc",
   "metadata": {
    "execution": {
     "iopub.execute_input": "2023-03-05T03:58:08.357691Z",
     "iopub.status.busy": "2023-03-05T03:58:08.357281Z",
     "iopub.status.idle": "2023-03-05T03:58:08.366153Z",
     "shell.execute_reply": "2023-03-05T03:58:08.365297Z"
    },
    "papermill": {
     "duration": 0.114479,
     "end_time": "2023-03-05T03:58:08.368659",
     "exception": false,
     "start_time": "2023-03-05T03:58:08.254180",
     "status": "completed"
    },
    "tags": []
   },
   "outputs": [],
   "source": [
    "X_train = X_train.drop(columns=[\"MSSubClass\"], errors=\"ignore\")\n",
    "X_test = X_test.drop(columns=[\"MSSubClass\"], errors=\"ignore\")"
   ]
  },
  {
   "cell_type": "code",
   "execution_count": null,
   "id": "709739c2",
   "metadata": {
    "execution": {
     "iopub.execute_input": "2023-03-05T03:58:08.569133Z",
     "iopub.status.busy": "2023-03-05T03:58:08.568710Z",
     "iopub.status.idle": "2023-03-05T03:58:14.981973Z",
     "shell.execute_reply": "2023-03-05T03:58:14.980785Z"
    },
    "papermill": {
     "duration": 6.51708,
     "end_time": "2023-03-05T03:58:14.984530",
     "exception": false,
     "start_time": "2023-03-05T03:58:08.467450",
     "status": "completed"
    },
    "scrolled": false,
    "tags": []
   },
   "outputs": [],
   "source": [
    "OTHER_HSE_COL = [\n",
    "    \"BldgType\", \"HouseStyle\", \"OverallQual\", \"OverallCond\", \"CentralAir\",\n",
    "    \"Electrical\", \"Functional\", \"PavedDrive\", \"Fence\", \"Foundation\",\n",
    "    \"Utilities\",\n",
    "]\n",
    "\n",
    "multi_catplot(X_train, y_train, cols=OTHER_HSE_COL)"
   ]
  },
  {
   "cell_type": "code",
   "execution_count": null,
   "id": "eb2cc89b",
   "metadata": {
    "execution": {
     "iopub.execute_input": "2023-03-05T03:58:15.214962Z",
     "iopub.status.busy": "2023-03-05T03:58:15.214549Z",
     "iopub.status.idle": "2023-03-05T03:58:15.248737Z",
     "shell.execute_reply": "2023-03-05T03:58:15.246978Z"
    },
    "papermill": {
     "duration": 0.149435,
     "end_time": "2023-03-05T03:58:15.251425",
     "exception": false,
     "start_time": "2023-03-05T03:58:15.101990",
     "status": "completed"
    },
    "tags": []
   },
   "outputs": [],
   "source": [
    "BLDGTYPE_REPLACE = {\n",
    "    \"2fmCon\": \"2Fam\",\n",
    "    \"Duplex\": \"2Fam\",\n",
    "    \"TwnhsE\": \"Twnhs\",\n",
    "}\n",
    "\n",
    "X_train.BldgType = X_train.BldgType.replace(BLDGTYPE_REPLACE)\n",
    "X_test.BldgType = X_test.BldgType.replace(BLDGTYPE_REPLACE)\n",
    "\n",
    "HOUSESTYLE_REPLACE = {\n",
    "    \"1.5Fin\": \"1.5Story\", \"1.5Unf\": \"1.5Story\",\n",
    "    \"2.5Unf\": \"Others\", \"2.5Fin\": \"Others\",\n",
    "    \"SLvl\": \"Others\", \"SFoyer\": \"Others\",\n",
    "}\n",
    "\n",
    "X_train.HouseStyle = X_train.HouseStyle.replace(HOUSESTYLE_REPLACE)\n",
    "X_test.HouseStyle = X_test.HouseStyle.replace(HOUSESTYLE_REPLACE)\n",
    "\n",
    "X_train.Electrical = X_train.Electrical.apply(lambda x: \"Yes\" if x==4 else \"No\")\n",
    "X_test.Electrical = X_test.Electrical.apply(lambda x: \"Yes\" if x==4 else \"No\")\n",
    "\n",
    "X_train.Functional = X_train.Functional.apply(lambda x: \"Yes\" if x==7 else \"No\")\n",
    "X_test.Functional = X_test.Functional.apply(lambda x: \"Yes\" if x==7 else \"No\")\n",
    "\n",
    "X_train.PavedDrive = X_train.PavedDrive.apply(lambda x: \"No\" if x==0 else \"Yes\")\n",
    "X_test.PavedDrive = X_test.PavedDrive.apply(lambda x: \"No\" if x==0 else \"Yes\")\n",
    "\n",
    "X_train.Fence = X_train.Fence.apply(lambda x: \"Yes\" if x else \"No\")\n",
    "X_test.Fence = X_test.Fence.apply(lambda x: \"Yes\" if x else \"No\")\n",
    "\n",
    "X_train.Foundation = X_train.Foundation.apply(lambda x: x if x in [\"PConc\", \"CBlock\", \"BrkTil\"] else \"Others\")\n",
    "X_test.Foundation = X_test.Foundation.apply(lambda x: x if x in [\"PConc\", \"CBlock\", \"BrkTil\"] else \"Others\")\n",
    "\n",
    "X_train = X_train.drop(columns=[\"Utilities\"], errors=\"ignore\")\n",
    "X_test = X_test.drop(columns=[\"Utilities\"], errors=\"ignore\")"
   ]
  },
  {
   "cell_type": "markdown",
   "id": "10d7d5a5",
   "metadata": {
    "papermill": {
     "duration": 0.106786,
     "end_time": "2023-03-05T03:58:15.470037",
     "exception": false,
     "start_time": "2023-03-05T03:58:15.363251",
     "status": "completed"
    },
    "tags": []
   },
   "source": [
    "### Recording columns by types."
   ]
  },
  {
   "cell_type": "code",
   "execution_count": 77,
   "id": "a4b449a0",
   "metadata": {
    "execution": {
     "iopub.execute_input": "2023-03-05T03:58:15.689144Z",
     "iopub.status.busy": "2023-03-05T03:58:15.687873Z",
     "iopub.status.idle": "2023-03-05T03:58:15.700792Z",
     "shell.execute_reply": "2023-03-05T03:58:15.699406Z"
    },
    "papermill": {
     "duration": 0.126145,
     "end_time": "2023-03-05T03:58:15.703550",
     "exception": false,
     "start_time": "2023-03-05T03:58:15.577405",
     "status": "completed"
    },
    "tags": []
   },
   "outputs": [
    {
     "name": "stdout",
     "output_type": "stream",
     "text": [
      "========================================\n",
      "List of nominal columns:\n",
      "========================================\n",
      "['MSZoning', 'Alley', 'LotConfig', 'Neighborhood', 'Condition1', 'Condition2', 'BldgType', 'HouseStyle', 'RoofStyle', 'Exterior1st', 'MasVnrType', 'Foundation', 'CentralAir', 'Electrical', 'Functional', 'GarageType', 'PavedDrive', 'HasWoodDeck', 'HasOpenPorch', 'HasEnclosedPorch', 'HasScreenPorch', 'Fence', 'SaleType', 'SaleCondition', 'Has2ndFlr', 'HasBsmt', 'HasHalfBath', 'HasBsmtBath', 'HasFirePlace']\n",
      "========================================\n",
      "List of ordinal columns:\n",
      "========================================\n",
      "['LotShape', 'LandContour', 'OverallQual', 'OverallCond', 'ExterQual', 'ExterCond', 'BsmtQual', 'BsmtCond', 'BsmtExposure', 'BsmtFinType1', 'BsmtFinType2', 'HeatingQC', 'KitchenQual', 'FireplaceQu', 'GarageFinish', 'GarageQual', 'GarageCond']\n",
      "========================================\n",
      "List of numerical columns:\n",
      "========================================\n",
      "['LotFrontage', 'LotArea', 'BltToSold', 'RemodToSold', 'MasVnrArea', 'BsmtFinSF1', 'BsmtUnfSF', 'TotalBsmtSF', '1stFlrSF', '2ndFlrSF', 'GrLivArea', 'FullBath', 'HalfBath', 'BedroomAbvGr', 'TotRmsAbvGrd', 'Fireplaces', 'GrgBltToSold', 'GarageArea', 'OutArea', 'NumOutType', 'TtlFullBath', 'TtlHalfBath', 'TtlBath', 'OtherRms']\n"
     ]
    }
   ],
   "source": [
    "NOMINAL_COL = X_train.select_dtypes(include=object).columns.to_list()\n",
    "print(\"=\"*40)\n",
    "print(\"List of nominal columns:\")\n",
    "print(\"=\"*40)\n",
    "print(NOMINAL_COL)\n",
    "\n",
    "ORDINAL_COL = [col for col in X_train.columns if not col in NOMINAL_COL and col in ORDINAL_COL]\n",
    "print(\"=\"*40)\n",
    "print(\"List of ordinal columns:\")\n",
    "print(\"=\"*40)\n",
    "print(ORDINAL_COL)\n",
    "\n",
    "NUMERICAL_COL = [col for col in X_train.columns if not col in NOMINAL_COL and not col in ORDINAL_COL]\n",
    "print(\"=\"*40)\n",
    "print(\"List of numerical columns:\")\n",
    "print(\"=\"*40)\n",
    "print(NUMERICAL_COL)"
   ]
  },
  {
   "cell_type": "markdown",
   "id": "1794cd0b",
   "metadata": {
    "papermill": {
     "duration": 0.107731,
     "end_time": "2023-03-05T03:58:15.919295",
     "exception": false,
     "start_time": "2023-03-05T03:58:15.811564",
     "status": "completed"
    },
    "tags": []
   },
   "source": [
    "### Dummy encoding."
   ]
  },
  {
   "cell_type": "markdown",
   "id": "f3cbd8f7",
   "metadata": {
    "papermill": {
     "duration": 0.110538,
     "end_time": "2023-03-05T03:58:16.137592",
     "exception": false,
     "start_time": "2023-03-05T03:58:16.027054",
     "status": "completed"
    },
    "tags": []
   },
   "source": [
    "We perform dummy encoding on the categorical columns. We first combine the training data and testing data together before generating the dummy columns. This ensures that all possible categories in the columns will not be left out."
   ]
  },
  {
   "cell_type": "code",
   "execution_count": 78,
   "id": "e845e5ab",
   "metadata": {
    "execution": {
     "iopub.execute_input": "2023-03-05T03:58:16.589335Z",
     "iopub.status.busy": "2023-03-05T03:58:16.588402Z",
     "iopub.status.idle": "2023-03-05T03:58:16.688547Z",
     "shell.execute_reply": "2023-03-05T03:58:16.686991Z"
    },
    "papermill": {
     "duration": 0.213934,
     "end_time": "2023-03-05T03:58:16.691497",
     "exception": false,
     "start_time": "2023-03-05T03:58:16.477563",
     "status": "completed"
    },
    "tags": []
   },
   "outputs": [
    {
     "name": "stdout",
     "output_type": "stream",
     "text": [
      "Dimensions of training data from (1460, 70) to (1460, 120)\n",
      "Dimensions of testing data from (1459, 70) to (1459, 120)\n"
     ]
    }
   ],
   "source": [
    "X_train, X_test = dummy_encoder(X_train, X_test)"
   ]
  },
  {
   "cell_type": "markdown",
   "id": "d73df25f",
   "metadata": {
    "papermill": {
     "duration": 0.109858,
     "end_time": "2023-03-05T03:58:16.908210",
     "exception": false,
     "start_time": "2023-03-05T03:58:16.798352",
     "status": "completed"
    },
    "tags": []
   },
   "source": [
    "### Scaling data."
   ]
  },
  {
   "cell_type": "markdown",
   "id": "600fee8e",
   "metadata": {
    "papermill": {
     "duration": 0.10924,
     "end_time": "2023-03-05T03:58:17.126955",
     "exception": false,
     "start_time": "2023-03-05T03:58:17.017715",
     "status": "completed"
    },
    "tags": []
   },
   "source": [
    "Before we move on to train our regression models, we scale the data to let the models treat them with equal importance (needed for some models). It does not make sense to standardize nominal columns because there is no intrinsic ordering. Here we treat the ordinal columns as numerical, that is we assume the difference between categories 0 and 1 and the difference between categories 1 and 2 are equal. Thus, we scale only the numerical and ordinal columns."
   ]
  },
  {
   "cell_type": "code",
   "execution_count": 79,
   "id": "cbda1be3",
   "metadata": {
    "execution": {
     "iopub.execute_input": "2023-03-05T03:58:17.351895Z",
     "iopub.status.busy": "2023-03-05T03:58:17.350878Z",
     "iopub.status.idle": "2023-03-05T03:58:17.372101Z",
     "shell.execute_reply": "2023-03-05T03:58:17.371029Z"
    },
    "papermill": {
     "duration": 0.138125,
     "end_time": "2023-03-05T03:58:17.374890",
     "exception": false,
     "start_time": "2023-03-05T03:58:17.236765",
     "status": "completed"
    },
    "tags": []
   },
   "outputs": [],
   "source": [
    "scaler = StandardScaler()\n",
    "\n",
    "X_train[NUMERICAL_COL+ORDINAL_COL] = scaler.fit_transform(X_train[NUMERICAL_COL+ORDINAL_COL])\n",
    "X_test[NUMERICAL_COL+ORDINAL_COL] = scaler.transform(X_test[NUMERICAL_COL+ORDINAL_COL])"
   ]
  },
  {
   "cell_type": "markdown",
   "id": "5682ddb4",
   "metadata": {
    "papermill": {
     "duration": 0.110605,
     "end_time": "2023-03-05T03:58:17.593820",
     "exception": false,
     "start_time": "2023-03-05T03:58:17.483215",
     "status": "completed"
    },
    "tags": []
   },
   "source": [
    "---"
   ]
  },
  {
   "cell_type": "markdown",
   "id": "be28a3b0",
   "metadata": {
    "papermill": {
     "duration": 0.110125,
     "end_time": "2023-03-05T03:58:17.814294",
     "exception": false,
     "start_time": "2023-03-05T03:58:17.704169",
     "status": "completed"
    },
    "tags": []
   },
   "source": [
    "# 4. Model Training"
   ]
  },
  {
   "cell_type": "markdown",
   "id": "0ae7d7f4",
   "metadata": {
    "papermill": {
     "duration": 0.109152,
     "end_time": "2023-03-05T03:58:18.032556",
     "exception": false,
     "start_time": "2023-03-05T03:58:17.923404",
     "status": "completed"
    },
    "tags": []
   },
   "source": [
    "We look at the performance of the following individual models:\n",
    "* __Linear models__ — Ridge and Linear SVR.\n",
    "\n",
    "* __Kernel methods__ — Kernel Ridge and Kernel SVR.\n",
    "\n",
    "* __Tree models__ — Random Forest and Gradient Boosting.\n",
    "\n",
    "The linear models will be used as a benchmark against the more sophisticated models. To tune the models, we perform a simple cross-validated grid search."
   ]
  },
  {
   "cell_type": "code",
   "execution_count": 80,
   "id": "16062fd7",
   "metadata": {
    "execution": {
     "iopub.execute_input": "2023-03-05T03:58:18.508762Z",
     "iopub.status.busy": "2023-03-05T03:58:18.507997Z",
     "iopub.status.idle": "2023-03-05T03:58:18.516679Z",
     "shell.execute_reply": "2023-03-05T03:58:18.515263Z"
    },
    "papermill": {
     "duration": 0.122571,
     "end_time": "2023-03-05T03:58:18.519075",
     "exception": false,
     "start_time": "2023-03-05T03:58:18.396504",
     "status": "completed"
    },
    "tags": []
   },
   "outputs": [],
   "source": [
    "kfold = KFold(n_splits=10, shuffle=True, random_state=SEED)\n",
    "\n",
    "MODELS = {\n",
    "    \"Ridge\": Ridge(random_state=SEED),\n",
    "    \"Linear SVR\": LinearSVR(random_state=SEED),\n",
    "    \"Kernel Ridge\": KernelRidge(),\n",
    "    \"Kernel SVR\": SVR(),\n",
    "    \"Random Forest\": RandomForestRegressor(random_state=SEED),\n",
    "    \"Gradient Boosting\": GradientBoostingRegressor(random_state=SEED),\n",
    "}\n",
    "\n",
    "tuner = ModelTuner(MODELS, X=X_train, y=y_train, cv=kfold, loss=rmse_loss)"
   ]
  },
  {
   "cell_type": "markdown",
   "id": "b72e734d",
   "metadata": {
    "papermill": {
     "duration": 0.110179,
     "end_time": "2023-03-05T03:58:18.739716",
     "exception": false,
     "start_time": "2023-03-05T03:58:18.629537",
     "status": "completed"
    },
    "tags": []
   },
   "source": [
    "### Ridge."
   ]
  },
  {
   "cell_type": "code",
   "execution_count": 81,
   "id": "b8221257",
   "metadata": {
    "execution": {
     "iopub.execute_input": "2023-03-05T03:58:18.964041Z",
     "iopub.status.busy": "2023-03-05T03:58:18.963132Z",
     "iopub.status.idle": "2023-03-05T03:58:21.237789Z",
     "shell.execute_reply": "2023-03-05T03:58:21.235070Z"
    },
    "papermill": {
     "duration": 2.392252,
     "end_time": "2023-03-05T03:58:21.242244",
     "exception": false,
     "start_time": "2023-03-05T03:58:18.849992",
     "status": "completed"
    },
    "tags": []
   },
   "outputs": [
    {
     "name": "stdout",
     "output_type": "stream",
     "text": [
      "Fitting 10 folds for each of 6 candidates, totalling 60 fits\n",
      "========================================\n",
      "Model: Ridge(alpha=10.0, random_state=0)\n",
      "Train RMSE: 0.12125\n",
      "Valid RMSE: 0.13694\n",
      "========================================\n"
     ]
    },
    {
     "data": {
      "text/html": [
       "<div>\n",
       "<style scoped>\n",
       "    .dataframe tbody tr th:only-of-type {\n",
       "        vertical-align: middle;\n",
       "    }\n",
       "\n",
       "    .dataframe tbody tr th {\n",
       "        vertical-align: top;\n",
       "    }\n",
       "\n",
       "    .dataframe thead th {\n",
       "        text-align: right;\n",
       "    }\n",
       "</style>\n",
       "<table border=\"1\" class=\"dataframe\">\n",
       "  <thead>\n",
       "    <tr style=\"text-align: right;\">\n",
       "      <th></th>\n",
       "      <th>param_alpha</th>\n",
       "      <th>mean_train_RMSE</th>\n",
       "      <th>mean_valid_RMSE</th>\n",
       "    </tr>\n",
       "  </thead>\n",
       "  <tbody>\n",
       "    <tr>\n",
       "      <th>0</th>\n",
       "      <td>10.0</td>\n",
       "      <td>0.121249</td>\n",
       "      <td>0.136935</td>\n",
       "    </tr>\n",
       "    <tr>\n",
       "      <th>1</th>\n",
       "      <td>1.0</td>\n",
       "      <td>0.117973</td>\n",
       "      <td>0.138046</td>\n",
       "    </tr>\n",
       "    <tr>\n",
       "      <th>2</th>\n",
       "      <td>0.1</td>\n",
       "      <td>0.117506</td>\n",
       "      <td>0.139439</td>\n",
       "    </tr>\n",
       "    <tr>\n",
       "      <th>3</th>\n",
       "      <td>0.01</td>\n",
       "      <td>0.117494</td>\n",
       "      <td>0.139790</td>\n",
       "    </tr>\n",
       "    <tr>\n",
       "      <th>4</th>\n",
       "      <td>0.001</td>\n",
       "      <td>0.117494</td>\n",
       "      <td>0.139831</td>\n",
       "    </tr>\n",
       "    <tr>\n",
       "      <th>5</th>\n",
       "      <td>0.0001</td>\n",
       "      <td>0.117494</td>\n",
       "      <td>0.139835</td>\n",
       "    </tr>\n",
       "  </tbody>\n",
       "</table>\n",
       "</div>"
      ],
      "text/plain": [
       "  param_alpha  mean_train_RMSE  mean_valid_RMSE\n",
       "0        10.0         0.121249         0.136935\n",
       "1         1.0         0.117973         0.138046\n",
       "2         0.1         0.117506         0.139439\n",
       "3        0.01         0.117494         0.139790\n",
       "4       0.001         0.117494         0.139831\n",
       "5      0.0001         0.117494         0.139835"
      ]
     },
     "execution_count": 81,
     "metadata": {},
     "output_type": "execute_result"
    }
   ],
   "source": [
    "RR_PARAM = {\n",
    "    \"alpha\": [1e-4, 1e-3, 1e-2, 1e-1, 1., 1e1],\n",
    "}\n",
    "\n",
    "rr_results = tuner.tune_model(\"Ridge\", grid=RR_PARAM)\n",
    "\n",
    "rr_results"
   ]
  },
  {
   "cell_type": "markdown",
   "id": "65cef53d",
   "metadata": {
    "papermill": {
     "duration": 0.106458,
     "end_time": "2023-03-05T03:58:21.476905",
     "exception": false,
     "start_time": "2023-03-05T03:58:21.370447",
     "status": "completed"
    },
    "tags": []
   },
   "source": [
    "### Linear SVR."
   ]
  },
  {
   "cell_type": "code",
   "execution_count": 82,
   "id": "19427174",
   "metadata": {
    "execution": {
     "iopub.execute_input": "2023-03-05T03:58:21.693235Z",
     "iopub.status.busy": "2023-03-05T03:58:21.692809Z",
     "iopub.status.idle": "2023-03-05T03:58:27.449102Z",
     "shell.execute_reply": "2023-03-05T03:58:27.447335Z"
    },
    "papermill": {
     "duration": 5.867987,
     "end_time": "2023-03-05T03:58:27.452281",
     "exception": false,
     "start_time": "2023-03-05T03:58:21.584294",
     "status": "completed"
    },
    "tags": []
   },
   "outputs": [
    {
     "name": "stdout",
     "output_type": "stream",
     "text": [
      "Fitting 10 folds for each of 18 candidates, totalling 180 fits\n",
      "========================================\n",
      "Model: LinearSVR(C=10.0, dual=False, loss='squared_epsilon_insensitive',\n",
      "          random_state=0, tol=1e-07)\n",
      "Train RMSE: 0.11852\n",
      "Valid RMSE: 0.14118\n",
      "========================================\n"
     ]
    },
    {
     "data": {
      "text/html": [
       "<div>\n",
       "<style scoped>\n",
       "    .dataframe tbody tr th:only-of-type {\n",
       "        vertical-align: middle;\n",
       "    }\n",
       "\n",
       "    .dataframe tbody tr th {\n",
       "        vertical-align: top;\n",
       "    }\n",
       "\n",
       "    .dataframe thead th {\n",
       "        text-align: right;\n",
       "    }\n",
       "</style>\n",
       "<table border=\"1\" class=\"dataframe\">\n",
       "  <thead>\n",
       "    <tr style=\"text-align: right;\">\n",
       "      <th></th>\n",
       "      <th>param_C</th>\n",
       "      <th>param_epsilon</th>\n",
       "      <th>mean_train_RMSE</th>\n",
       "      <th>mean_valid_RMSE</th>\n",
       "    </tr>\n",
       "  </thead>\n",
       "  <tbody>\n",
       "    <tr>\n",
       "      <th>0</th>\n",
       "      <td>10.0</td>\n",
       "      <td>0.0</td>\n",
       "      <td>0.118523</td>\n",
       "      <td>0.141182</td>\n",
       "    </tr>\n",
       "    <tr>\n",
       "      <th>1</th>\n",
       "      <td>10.0</td>\n",
       "      <td>0.01</td>\n",
       "      <td>0.118672</td>\n",
       "      <td>0.141910</td>\n",
       "    </tr>\n",
       "    <tr>\n",
       "      <th>2</th>\n",
       "      <td>10.0</td>\n",
       "      <td>0.1</td>\n",
       "      <td>0.126271</td>\n",
       "      <td>0.153841</td>\n",
       "    </tr>\n",
       "    <tr>\n",
       "      <th>3</th>\n",
       "      <td>1.0</td>\n",
       "      <td>0.0</td>\n",
       "      <td>0.149818</td>\n",
       "      <td>0.177681</td>\n",
       "    </tr>\n",
       "    <tr>\n",
       "      <th>4</th>\n",
       "      <td>1.0</td>\n",
       "      <td>0.01</td>\n",
       "      <td>0.151471</td>\n",
       "      <td>0.180085</td>\n",
       "    </tr>\n",
       "    <tr>\n",
       "      <th>5</th>\n",
       "      <td>1.0</td>\n",
       "      <td>0.1</td>\n",
       "      <td>0.172729</td>\n",
       "      <td>0.207909</td>\n",
       "    </tr>\n",
       "    <tr>\n",
       "      <th>6</th>\n",
       "      <td>0.1</td>\n",
       "      <td>0.0</td>\n",
       "      <td>0.260565</td>\n",
       "      <td>0.295316</td>\n",
       "    </tr>\n",
       "    <tr>\n",
       "      <th>7</th>\n",
       "      <td>0.1</td>\n",
       "      <td>0.01</td>\n",
       "      <td>0.262418</td>\n",
       "      <td>0.297518</td>\n",
       "    </tr>\n",
       "    <tr>\n",
       "      <th>8</th>\n",
       "      <td>0.1</td>\n",
       "      <td>0.1</td>\n",
       "      <td>0.281471</td>\n",
       "      <td>0.319630</td>\n",
       "    </tr>\n",
       "    <tr>\n",
       "      <th>9</th>\n",
       "      <td>0.01</td>\n",
       "      <td>0.0</td>\n",
       "      <td>0.459613</td>\n",
       "      <td>0.493152</td>\n",
       "    </tr>\n",
       "    <tr>\n",
       "      <th>10</th>\n",
       "      <td>0.01</td>\n",
       "      <td>0.01</td>\n",
       "      <td>0.461540</td>\n",
       "      <td>0.495137</td>\n",
       "    </tr>\n",
       "    <tr>\n",
       "      <th>11</th>\n",
       "      <td>0.01</td>\n",
       "      <td>0.1</td>\n",
       "      <td>0.480305</td>\n",
       "      <td>0.514322</td>\n",
       "    </tr>\n",
       "    <tr>\n",
       "      <th>12</th>\n",
       "      <td>0.001</td>\n",
       "      <td>0.0</td>\n",
       "      <td>0.833315</td>\n",
       "      <td>0.855819</td>\n",
       "    </tr>\n",
       "    <tr>\n",
       "      <th>13</th>\n",
       "      <td>0.001</td>\n",
       "      <td>0.01</td>\n",
       "      <td>0.835967</td>\n",
       "      <td>0.858468</td>\n",
       "    </tr>\n",
       "    <tr>\n",
       "      <th>14</th>\n",
       "      <td>0.001</td>\n",
       "      <td>0.1</td>\n",
       "      <td>0.861620</td>\n",
       "      <td>0.884134</td>\n",
       "    </tr>\n",
       "    <tr>\n",
       "      <th>15</th>\n",
       "      <td>0.0001</td>\n",
       "      <td>0.0</td>\n",
       "      <td>3.080237</td>\n",
       "      <td>3.100696</td>\n",
       "    </tr>\n",
       "    <tr>\n",
       "      <th>16</th>\n",
       "      <td>0.0001</td>\n",
       "      <td>0.01</td>\n",
       "      <td>3.087361</td>\n",
       "      <td>3.107802</td>\n",
       "    </tr>\n",
       "    <tr>\n",
       "      <th>17</th>\n",
       "      <td>0.0001</td>\n",
       "      <td>0.1</td>\n",
       "      <td>3.151568</td>\n",
       "      <td>3.171844</td>\n",
       "    </tr>\n",
       "  </tbody>\n",
       "</table>\n",
       "</div>"
      ],
      "text/plain": [
       "   param_C param_epsilon  mean_train_RMSE  mean_valid_RMSE\n",
       "0     10.0           0.0         0.118523         0.141182\n",
       "1     10.0          0.01         0.118672         0.141910\n",
       "2     10.0           0.1         0.126271         0.153841\n",
       "3      1.0           0.0         0.149818         0.177681\n",
       "4      1.0          0.01         0.151471         0.180085\n",
       "5      1.0           0.1         0.172729         0.207909\n",
       "6      0.1           0.0         0.260565         0.295316\n",
       "7      0.1          0.01         0.262418         0.297518\n",
       "8      0.1           0.1         0.281471         0.319630\n",
       "9     0.01           0.0         0.459613         0.493152\n",
       "10    0.01          0.01         0.461540         0.495137\n",
       "11    0.01           0.1         0.480305         0.514322\n",
       "12   0.001           0.0         0.833315         0.855819\n",
       "13   0.001          0.01         0.835967         0.858468\n",
       "14   0.001           0.1         0.861620         0.884134\n",
       "15  0.0001           0.0         3.080237         3.100696\n",
       "16  0.0001          0.01         3.087361         3.107802\n",
       "17  0.0001           0.1         3.151568         3.171844"
      ]
     },
     "execution_count": 82,
     "metadata": {},
     "output_type": "execute_result"
    }
   ],
   "source": [
    "SVR_PARAM = {\n",
    "    \"C\": [1e-4, 1e-3, 1e-2, 1e-1, 1., 1e1],\n",
    "    \"epsilon\": [0., 1e-2, 1e-1],\n",
    "    \"dual\": [False],\n",
    "    \"loss\": [\"squared_epsilon_insensitive\"],\n",
    "    \"tol\": [1e-7],\n",
    "\n",
    "}\n",
    "\n",
    "svr_results = tuner.tune_model(\"Linear SVR\", grid=SVR_PARAM)\n",
    "\n",
    "svr_results"
   ]
  },
  {
   "cell_type": "markdown",
   "id": "89918523",
   "metadata": {
    "papermill": {
     "duration": 0.109009,
     "end_time": "2023-03-05T03:58:27.670575",
     "exception": false,
     "start_time": "2023-03-05T03:58:27.561566",
     "status": "completed"
    },
    "tags": []
   },
   "source": [
    "### Kernel Ridge."
   ]
  },
  {
   "cell_type": "code",
   "execution_count": 83,
   "id": "89506553",
   "metadata": {
    "execution": {
     "iopub.execute_input": "2023-03-05T03:58:27.891249Z",
     "iopub.status.busy": "2023-03-05T03:58:27.890814Z",
     "iopub.status.idle": "2023-03-05T03:59:05.307951Z",
     "shell.execute_reply": "2023-03-05T03:59:05.306346Z"
    },
    "papermill": {
     "duration": 37.672065,
     "end_time": "2023-03-05T03:59:05.450673",
     "exception": false,
     "start_time": "2023-03-05T03:58:27.778608",
     "status": "completed"
    },
    "tags": []
   },
   "outputs": [
    {
     "name": "stdout",
     "output_type": "stream",
     "text": [
      "Fitting 10 folds for each of 48 candidates, totalling 480 fits\n",
      "========================================\n",
      "Model: KernelRidge(alpha=0.01, gamma=0.001, kernel='poly')\n",
      "Train RMSE: 0.07811\n",
      "Valid RMSE: 0.11616\n",
      "========================================\n"
     ]
    },
    {
     "data": {
      "text/html": [
       "<div>\n",
       "<style scoped>\n",
       "    .dataframe tbody tr th:only-of-type {\n",
       "        vertical-align: middle;\n",
       "    }\n",
       "\n",
       "    .dataframe tbody tr th {\n",
       "        vertical-align: top;\n",
       "    }\n",
       "\n",
       "    .dataframe thead th {\n",
       "        text-align: right;\n",
       "    }\n",
       "</style>\n",
       "<table border=\"1\" class=\"dataframe\">\n",
       "  <thead>\n",
       "    <tr style=\"text-align: right;\">\n",
       "      <th></th>\n",
       "      <th>param_alpha</th>\n",
       "      <th>param_gamma</th>\n",
       "      <th>param_kernel</th>\n",
       "      <th>mean_train_RMSE</th>\n",
       "      <th>mean_valid_RMSE</th>\n",
       "    </tr>\n",
       "  </thead>\n",
       "  <tbody>\n",
       "    <tr>\n",
       "      <th>0</th>\n",
       "      <td>0.01</td>\n",
       "      <td>0.001</td>\n",
       "      <td>poly</td>\n",
       "      <td>0.078110</td>\n",
       "      <td>0.116160</td>\n",
       "    </tr>\n",
       "    <tr>\n",
       "      <th>1</th>\n",
       "      <td>0.0001</td>\n",
       "      <td>0.0001</td>\n",
       "      <td>poly</td>\n",
       "      <td>0.077581</td>\n",
       "      <td>0.116226</td>\n",
       "    </tr>\n",
       "    <tr>\n",
       "      <th>2</th>\n",
       "      <td>0.0001</td>\n",
       "      <td>0.0001</td>\n",
       "      <td>rbf</td>\n",
       "      <td>0.082239</td>\n",
       "      <td>0.116293</td>\n",
       "    </tr>\n",
       "    <tr>\n",
       "      <th>3</th>\n",
       "      <td>0.1</td>\n",
       "      <td>0.001</td>\n",
       "      <td>poly</td>\n",
       "      <td>0.101885</td>\n",
       "      <td>0.117502</td>\n",
       "    </tr>\n",
       "    <tr>\n",
       "      <th>4</th>\n",
       "      <td>0.001</td>\n",
       "      <td>0.0001</td>\n",
       "      <td>poly</td>\n",
       "      <td>0.097855</td>\n",
       "      <td>0.117993</td>\n",
       "    </tr>\n",
       "    <tr>\n",
       "      <th>5</th>\n",
       "      <td>0.001</td>\n",
       "      <td>0.0001</td>\n",
       "      <td>rbf</td>\n",
       "      <td>0.101131</td>\n",
       "      <td>0.118938</td>\n",
       "    </tr>\n",
       "    <tr>\n",
       "      <th>6</th>\n",
       "      <td>0.001</td>\n",
       "      <td>0.001</td>\n",
       "      <td>poly</td>\n",
       "      <td>0.046937</td>\n",
       "      <td>0.126837</td>\n",
       "    </tr>\n",
       "    <tr>\n",
       "      <th>7</th>\n",
       "      <td>0.01</td>\n",
       "      <td>0.0001</td>\n",
       "      <td>rbf</td>\n",
       "      <td>0.116431</td>\n",
       "      <td>0.127655</td>\n",
       "    </tr>\n",
       "    <tr>\n",
       "      <th>8</th>\n",
       "      <td>0.01</td>\n",
       "      <td>0.0001</td>\n",
       "      <td>poly</td>\n",
       "      <td>0.114069</td>\n",
       "      <td>0.129204</td>\n",
       "    </tr>\n",
       "    <tr>\n",
       "      <th>9</th>\n",
       "      <td>0.1</td>\n",
       "      <td>0.01</td>\n",
       "      <td>poly</td>\n",
       "      <td>0.041007</td>\n",
       "      <td>0.133244</td>\n",
       "    </tr>\n",
       "    <tr>\n",
       "      <th>10</th>\n",
       "      <td>1.0</td>\n",
       "      <td>0.001</td>\n",
       "      <td>poly</td>\n",
       "      <td>0.126054</td>\n",
       "      <td>0.136599</td>\n",
       "    </tr>\n",
       "    <tr>\n",
       "      <th>11</th>\n",
       "      <td>0.1</td>\n",
       "      <td>0.0001</td>\n",
       "      <td>rbf</td>\n",
       "      <td>0.136093</td>\n",
       "      <td>0.139639</td>\n",
       "    </tr>\n",
       "    <tr>\n",
       "      <th>12</th>\n",
       "      <td>1.0</td>\n",
       "      <td>0.01</td>\n",
       "      <td>poly</td>\n",
       "      <td>0.090311</td>\n",
       "      <td>0.140071</td>\n",
       "    </tr>\n",
       "    <tr>\n",
       "      <th>13</th>\n",
       "      <td>0.1</td>\n",
       "      <td>0.0001</td>\n",
       "      <td>poly</td>\n",
       "      <td>0.136304</td>\n",
       "      <td>0.142001</td>\n",
       "    </tr>\n",
       "    <tr>\n",
       "      <th>14</th>\n",
       "      <td>0.001</td>\n",
       "      <td>0.001</td>\n",
       "      <td>rbf</td>\n",
       "      <td>0.054860</td>\n",
       "      <td>0.142217</td>\n",
       "    </tr>\n",
       "    <tr>\n",
       "      <th>15</th>\n",
       "      <td>0.0001</td>\n",
       "      <td>0.001</td>\n",
       "      <td>poly</td>\n",
       "      <td>0.019372</td>\n",
       "      <td>0.147063</td>\n",
       "    </tr>\n",
       "    <tr>\n",
       "      <th>16</th>\n",
       "      <td>0.01</td>\n",
       "      <td>0.001</td>\n",
       "      <td>rbf</td>\n",
       "      <td>0.093847</td>\n",
       "      <td>0.147216</td>\n",
       "    </tr>\n",
       "    <tr>\n",
       "      <th>17</th>\n",
       "      <td>0.01</td>\n",
       "      <td>0.01</td>\n",
       "      <td>poly</td>\n",
       "      <td>0.013292</td>\n",
       "      <td>0.148215</td>\n",
       "    </tr>\n",
       "    <tr>\n",
       "      <th>18</th>\n",
       "      <td>0.0001</td>\n",
       "      <td>0.001</td>\n",
       "      <td>rbf</td>\n",
       "      <td>0.023317</td>\n",
       "      <td>0.151268</td>\n",
       "    </tr>\n",
       "    <tr>\n",
       "      <th>19</th>\n",
       "      <td>0.001</td>\n",
       "      <td>0.01</td>\n",
       "      <td>poly</td>\n",
       "      <td>0.002914</td>\n",
       "      <td>0.163591</td>\n",
       "    </tr>\n",
       "    <tr>\n",
       "      <th>20</th>\n",
       "      <td>0.0001</td>\n",
       "      <td>0.01</td>\n",
       "      <td>poly</td>\n",
       "      <td>0.001175</td>\n",
       "      <td>0.166195</td>\n",
       "    </tr>\n",
       "    <tr>\n",
       "      <th>21</th>\n",
       "      <td>1.0</td>\n",
       "      <td>0.0001</td>\n",
       "      <td>poly</td>\n",
       "      <td>0.167491</td>\n",
       "      <td>0.167447</td>\n",
       "    </tr>\n",
       "    <tr>\n",
       "      <th>22</th>\n",
       "      <td>0.1</td>\n",
       "      <td>0.001</td>\n",
       "      <td>rbf</td>\n",
       "      <td>0.139997</td>\n",
       "      <td>0.169305</td>\n",
       "    </tr>\n",
       "    <tr>\n",
       "      <th>23</th>\n",
       "      <td>1.0</td>\n",
       "      <td>0.0001</td>\n",
       "      <td>rbf</td>\n",
       "      <td>0.179664</td>\n",
       "      <td>0.179368</td>\n",
       "    </tr>\n",
       "    <tr>\n",
       "      <th>24</th>\n",
       "      <td>10.0</td>\n",
       "      <td>0.001</td>\n",
       "      <td>poly</td>\n",
       "      <td>0.186570</td>\n",
       "      <td>0.188303</td>\n",
       "    </tr>\n",
       "    <tr>\n",
       "      <th>25</th>\n",
       "      <td>1.0</td>\n",
       "      <td>0.001</td>\n",
       "      <td>rbf</td>\n",
       "      <td>0.209617</td>\n",
       "      <td>0.223145</td>\n",
       "    </tr>\n",
       "    <tr>\n",
       "      <th>26</th>\n",
       "      <td>10.0</td>\n",
       "      <td>0.01</td>\n",
       "      <td>poly</td>\n",
       "      <td>0.201369</td>\n",
       "      <td>0.226301</td>\n",
       "    </tr>\n",
       "    <tr>\n",
       "      <th>27</th>\n",
       "      <td>10.0</td>\n",
       "      <td>0.0001</td>\n",
       "      <td>poly</td>\n",
       "      <td>0.307757</td>\n",
       "      <td>0.306824</td>\n",
       "    </tr>\n",
       "    <tr>\n",
       "      <th>28</th>\n",
       "      <td>10.0</td>\n",
       "      <td>0.0001</td>\n",
       "      <td>rbf</td>\n",
       "      <td>0.339390</td>\n",
       "      <td>0.338193</td>\n",
       "    </tr>\n",
       "    <tr>\n",
       "      <th>29</th>\n",
       "      <td>10.0</td>\n",
       "      <td>0.001</td>\n",
       "      <td>rbf</td>\n",
       "      <td>0.364318</td>\n",
       "      <td>0.361708</td>\n",
       "    </tr>\n",
       "    <tr>\n",
       "      <th>30</th>\n",
       "      <td>0.0001</td>\n",
       "      <td>0.01</td>\n",
       "      <td>rbf</td>\n",
       "      <td>0.001459</td>\n",
       "      <td>0.535692</td>\n",
       "    </tr>\n",
       "    <tr>\n",
       "      <th>31</th>\n",
       "      <td>0.001</td>\n",
       "      <td>0.01</td>\n",
       "      <td>rbf</td>\n",
       "      <td>0.006834</td>\n",
       "      <td>0.538192</td>\n",
       "    </tr>\n",
       "    <tr>\n",
       "      <th>32</th>\n",
       "      <td>0.01</td>\n",
       "      <td>0.01</td>\n",
       "      <td>rbf</td>\n",
       "      <td>0.040960</td>\n",
       "      <td>0.553443</td>\n",
       "    </tr>\n",
       "    <tr>\n",
       "      <th>33</th>\n",
       "      <td>0.0001</td>\n",
       "      <td>0.1</td>\n",
       "      <td>poly</td>\n",
       "      <td>0.000877</td>\n",
       "      <td>0.611757</td>\n",
       "    </tr>\n",
       "    <tr>\n",
       "      <th>34</th>\n",
       "      <td>0.001</td>\n",
       "      <td>0.1</td>\n",
       "      <td>poly</td>\n",
       "      <td>0.000893</td>\n",
       "      <td>0.612159</td>\n",
       "    </tr>\n",
       "    <tr>\n",
       "      <th>35</th>\n",
       "      <td>0.01</td>\n",
       "      <td>0.1</td>\n",
       "      <td>poly</td>\n",
       "      <td>0.001006</td>\n",
       "      <td>0.614568</td>\n",
       "    </tr>\n",
       "    <tr>\n",
       "      <th>36</th>\n",
       "      <td>0.1</td>\n",
       "      <td>0.1</td>\n",
       "      <td>poly</td>\n",
       "      <td>0.001941</td>\n",
       "      <td>0.620248</td>\n",
       "    </tr>\n",
       "    <tr>\n",
       "      <th>37</th>\n",
       "      <td>0.1</td>\n",
       "      <td>0.01</td>\n",
       "      <td>rbf</td>\n",
       "      <td>0.185241</td>\n",
       "      <td>0.626384</td>\n",
       "    </tr>\n",
       "    <tr>\n",
       "      <th>38</th>\n",
       "      <td>1.0</td>\n",
       "      <td>0.1</td>\n",
       "      <td>poly</td>\n",
       "      <td>0.012955</td>\n",
       "      <td>0.633617</td>\n",
       "    </tr>\n",
       "    <tr>\n",
       "      <th>39</th>\n",
       "      <td>10.0</td>\n",
       "      <td>0.1</td>\n",
       "      <td>poly</td>\n",
       "      <td>0.087909</td>\n",
       "      <td>0.677270</td>\n",
       "    </tr>\n",
       "    <tr>\n",
       "      <th>40</th>\n",
       "      <td>1.0</td>\n",
       "      <td>0.01</td>\n",
       "      <td>rbf</td>\n",
       "      <td>0.620362</td>\n",
       "      <td>0.880855</td>\n",
       "    </tr>\n",
       "    <tr>\n",
       "      <th>41</th>\n",
       "      <td>10.0</td>\n",
       "      <td>0.01</td>\n",
       "      <td>rbf</td>\n",
       "      <td>1.397674</td>\n",
       "      <td>1.472151</td>\n",
       "    </tr>\n",
       "    <tr>\n",
       "      <th>42</th>\n",
       "      <td>0.0001</td>\n",
       "      <td>0.1</td>\n",
       "      <td>rbf</td>\n",
       "      <td>0.001174</td>\n",
       "      <td>5.981688</td>\n",
       "    </tr>\n",
       "    <tr>\n",
       "      <th>43</th>\n",
       "      <td>0.001</td>\n",
       "      <td>0.1</td>\n",
       "      <td>rbf</td>\n",
       "      <td>0.006523</td>\n",
       "      <td>5.982597</td>\n",
       "    </tr>\n",
       "    <tr>\n",
       "      <th>44</th>\n",
       "      <td>0.01</td>\n",
       "      <td>0.1</td>\n",
       "      <td>rbf</td>\n",
       "      <td>0.062606</td>\n",
       "      <td>5.991652</td>\n",
       "    </tr>\n",
       "    <tr>\n",
       "      <th>45</th>\n",
       "      <td>0.1</td>\n",
       "      <td>0.1</td>\n",
       "      <td>rbf</td>\n",
       "      <td>0.570816</td>\n",
       "      <td>6.078148</td>\n",
       "    </tr>\n",
       "    <tr>\n",
       "      <th>46</th>\n",
       "      <td>1.0</td>\n",
       "      <td>0.1</td>\n",
       "      <td>rbf</td>\n",
       "      <td>3.397564</td>\n",
       "      <td>6.714931</td>\n",
       "    </tr>\n",
       "    <tr>\n",
       "      <th>47</th>\n",
       "      <td>10.0</td>\n",
       "      <td>0.1</td>\n",
       "      <td>rbf</td>\n",
       "      <td>8.159491</td>\n",
       "      <td>8.959257</td>\n",
       "    </tr>\n",
       "  </tbody>\n",
       "</table>\n",
       "</div>"
      ],
      "text/plain": [
       "   param_alpha param_gamma param_kernel  mean_train_RMSE  mean_valid_RMSE\n",
       "0         0.01       0.001         poly         0.078110         0.116160\n",
       "1       0.0001      0.0001         poly         0.077581         0.116226\n",
       "2       0.0001      0.0001          rbf         0.082239         0.116293\n",
       "3          0.1       0.001         poly         0.101885         0.117502\n",
       "4        0.001      0.0001         poly         0.097855         0.117993\n",
       "5        0.001      0.0001          rbf         0.101131         0.118938\n",
       "6        0.001       0.001         poly         0.046937         0.126837\n",
       "7         0.01      0.0001          rbf         0.116431         0.127655\n",
       "8         0.01      0.0001         poly         0.114069         0.129204\n",
       "9          0.1        0.01         poly         0.041007         0.133244\n",
       "10         1.0       0.001         poly         0.126054         0.136599\n",
       "11         0.1      0.0001          rbf         0.136093         0.139639\n",
       "12         1.0        0.01         poly         0.090311         0.140071\n",
       "13         0.1      0.0001         poly         0.136304         0.142001\n",
       "14       0.001       0.001          rbf         0.054860         0.142217\n",
       "15      0.0001       0.001         poly         0.019372         0.147063\n",
       "16        0.01       0.001          rbf         0.093847         0.147216\n",
       "17        0.01        0.01         poly         0.013292         0.148215\n",
       "18      0.0001       0.001          rbf         0.023317         0.151268\n",
       "19       0.001        0.01         poly         0.002914         0.163591\n",
       "20      0.0001        0.01         poly         0.001175         0.166195\n",
       "21         1.0      0.0001         poly         0.167491         0.167447\n",
       "22         0.1       0.001          rbf         0.139997         0.169305\n",
       "23         1.0      0.0001          rbf         0.179664         0.179368\n",
       "24        10.0       0.001         poly         0.186570         0.188303\n",
       "25         1.0       0.001          rbf         0.209617         0.223145\n",
       "26        10.0        0.01         poly         0.201369         0.226301\n",
       "27        10.0      0.0001         poly         0.307757         0.306824\n",
       "28        10.0      0.0001          rbf         0.339390         0.338193\n",
       "29        10.0       0.001          rbf         0.364318         0.361708\n",
       "30      0.0001        0.01          rbf         0.001459         0.535692\n",
       "31       0.001        0.01          rbf         0.006834         0.538192\n",
       "32        0.01        0.01          rbf         0.040960         0.553443\n",
       "33      0.0001         0.1         poly         0.000877         0.611757\n",
       "34       0.001         0.1         poly         0.000893         0.612159\n",
       "35        0.01         0.1         poly         0.001006         0.614568\n",
       "36         0.1         0.1         poly         0.001941         0.620248\n",
       "37         0.1        0.01          rbf         0.185241         0.626384\n",
       "38         1.0         0.1         poly         0.012955         0.633617\n",
       "39        10.0         0.1         poly         0.087909         0.677270\n",
       "40         1.0        0.01          rbf         0.620362         0.880855\n",
       "41        10.0        0.01          rbf         1.397674         1.472151\n",
       "42      0.0001         0.1          rbf         0.001174         5.981688\n",
       "43       0.001         0.1          rbf         0.006523         5.982597\n",
       "44        0.01         0.1          rbf         0.062606         5.991652\n",
       "45         0.1         0.1          rbf         0.570816         6.078148\n",
       "46         1.0         0.1          rbf         3.397564         6.714931\n",
       "47        10.0         0.1          rbf         8.159491         8.959257"
      ]
     },
     "execution_count": 83,
     "metadata": {},
     "output_type": "execute_result"
    }
   ],
   "source": [
    "KRR_PARAM = {\n",
    "    \"alpha\": [1e-4, 1e-3, 1e-2, 1e-1, 1., 1e1],\n",
    "    \"gamma\": [1e-4, 1e-3, 1e-2, 1e-1],\n",
    "    \"kernel\": [\"poly\", \"rbf\"],\n",
    "}\n",
    "\n",
    "krr_results = tuner.tune_model(\"Kernel Ridge\", grid=KRR_PARAM)\n",
    "\n",
    "krr_results"
   ]
  },
  {
   "cell_type": "markdown",
   "id": "f89a597b",
   "metadata": {
    "papermill": {
     "duration": 0.107989,
     "end_time": "2023-03-05T03:59:05.668576",
     "exception": false,
     "start_time": "2023-03-05T03:59:05.560587",
     "status": "completed"
    },
    "tags": []
   },
   "source": [
    "### Kernel SVR."
   ]
  },
  {
   "cell_type": "code",
   "execution_count": 84,
   "id": "0c02cc2d",
   "metadata": {
    "execution": {
     "iopub.execute_input": "2023-03-05T03:59:05.895270Z",
     "iopub.status.busy": "2023-03-05T03:59:05.894868Z",
     "iopub.status.idle": "2023-03-05T04:02:50.119304Z",
     "shell.execute_reply": "2023-03-05T04:02:50.118096Z"
    },
    "papermill": {
     "duration": 224.453284,
     "end_time": "2023-03-05T04:02:50.234234",
     "exception": false,
     "start_time": "2023-03-05T03:59:05.780950",
     "status": "completed"
    },
    "tags": []
   },
   "outputs": [
    {
     "name": "stdout",
     "output_type": "stream",
     "text": [
      "Fitting 10 folds for each of 144 candidates, totalling 1440 fits\n",
      "========================================\n",
      "Model: SVR(C=10.0, epsilon=0.01, gamma=0.001)\n",
      "Train RMSE: 0.09739\n",
      "Valid RMSE: 0.11827\n",
      "========================================\n"
     ]
    },
    {
     "data": {
      "text/html": [
       "<div>\n",
       "<style scoped>\n",
       "    .dataframe tbody tr th:only-of-type {\n",
       "        vertical-align: middle;\n",
       "    }\n",
       "\n",
       "    .dataframe tbody tr th {\n",
       "        vertical-align: top;\n",
       "    }\n",
       "\n",
       "    .dataframe thead th {\n",
       "        text-align: right;\n",
       "    }\n",
       "</style>\n",
       "<table border=\"1\" class=\"dataframe\">\n",
       "  <thead>\n",
       "    <tr style=\"text-align: right;\">\n",
       "      <th></th>\n",
       "      <th>param_C</th>\n",
       "      <th>param_epsilon</th>\n",
       "      <th>param_gamma</th>\n",
       "      <th>param_kernel</th>\n",
       "      <th>mean_train_RMSE</th>\n",
       "      <th>mean_valid_RMSE</th>\n",
       "    </tr>\n",
       "  </thead>\n",
       "  <tbody>\n",
       "    <tr>\n",
       "      <th>0</th>\n",
       "      <td>10.0</td>\n",
       "      <td>0.01</td>\n",
       "      <td>0.001</td>\n",
       "      <td>rbf</td>\n",
       "      <td>0.097387</td>\n",
       "      <td>0.118267</td>\n",
       "    </tr>\n",
       "    <tr>\n",
       "      <th>1</th>\n",
       "      <td>10.0</td>\n",
       "      <td>0.1</td>\n",
       "      <td>0.001</td>\n",
       "      <td>rbf</td>\n",
       "      <td>0.100603</td>\n",
       "      <td>0.119378</td>\n",
       "    </tr>\n",
       "    <tr>\n",
       "      <th>2</th>\n",
       "      <td>1.0</td>\n",
       "      <td>0.01</td>\n",
       "      <td>0.01</td>\n",
       "      <td>rbf</td>\n",
       "      <td>0.069524</td>\n",
       "      <td>0.119446</td>\n",
       "    </tr>\n",
       "    <tr>\n",
       "      <th>3</th>\n",
       "      <td>10.0</td>\n",
       "      <td>0.0</td>\n",
       "      <td>0.001</td>\n",
       "      <td>rbf</td>\n",
       "      <td>0.097746</td>\n",
       "      <td>0.119600</td>\n",
       "    </tr>\n",
       "    <tr>\n",
       "      <th>4</th>\n",
       "      <td>1.0</td>\n",
       "      <td>0.0</td>\n",
       "      <td>0.01</td>\n",
       "      <td>rbf</td>\n",
       "      <td>0.070024</td>\n",
       "      <td>0.120185</td>\n",
       "    </tr>\n",
       "    <tr>\n",
       "      <th>5</th>\n",
       "      <td>1.0</td>\n",
       "      <td>0.01</td>\n",
       "      <td>0.001</td>\n",
       "      <td>rbf</td>\n",
       "      <td>0.118879</td>\n",
       "      <td>0.123429</td>\n",
       "    </tr>\n",
       "    <tr>\n",
       "      <th>6</th>\n",
       "      <td>1.0</td>\n",
       "      <td>0.0</td>\n",
       "      <td>0.001</td>\n",
       "      <td>rbf</td>\n",
       "      <td>0.118825</td>\n",
       "      <td>0.123847</td>\n",
       "    </tr>\n",
       "    <tr>\n",
       "      <th>7</th>\n",
       "      <td>1.0</td>\n",
       "      <td>0.1</td>\n",
       "      <td>0.01</td>\n",
       "      <td>rbf</td>\n",
       "      <td>0.086061</td>\n",
       "      <td>0.124976</td>\n",
       "    </tr>\n",
       "    <tr>\n",
       "      <th>8</th>\n",
       "      <td>1.0</td>\n",
       "      <td>0.1</td>\n",
       "      <td>0.001</td>\n",
       "      <td>rbf</td>\n",
       "      <td>0.121174</td>\n",
       "      <td>0.126397</td>\n",
       "    </tr>\n",
       "    <tr>\n",
       "      <th>9</th>\n",
       "      <td>0.001</td>\n",
       "      <td>0.01</td>\n",
       "      <td>0.1</td>\n",
       "      <td>poly</td>\n",
       "      <td>0.075328</td>\n",
       "      <td>0.130441</td>\n",
       "    </tr>\n",
       "    <tr>\n",
       "      <th>10</th>\n",
       "      <td>1.0</td>\n",
       "      <td>0.01</td>\n",
       "      <td>0.01</td>\n",
       "      <td>poly</td>\n",
       "      <td>0.075329</td>\n",
       "      <td>0.130453</td>\n",
       "    </tr>\n",
       "    <tr>\n",
       "      <th>11</th>\n",
       "      <td>1.0</td>\n",
       "      <td>0.0</td>\n",
       "      <td>0.01</td>\n",
       "      <td>poly</td>\n",
       "      <td>0.075740</td>\n",
       "      <td>0.130468</td>\n",
       "    </tr>\n",
       "    <tr>\n",
       "      <th>12</th>\n",
       "      <td>0.001</td>\n",
       "      <td>0.0</td>\n",
       "      <td>0.1</td>\n",
       "      <td>poly</td>\n",
       "      <td>0.075740</td>\n",
       "      <td>0.130470</td>\n",
       "    </tr>\n",
       "    <tr>\n",
       "      <th>13</th>\n",
       "      <td>10.0</td>\n",
       "      <td>0.01</td>\n",
       "      <td>0.01</td>\n",
       "      <td>rbf</td>\n",
       "      <td>0.016719</td>\n",
       "      <td>0.131434</td>\n",
       "    </tr>\n",
       "    <tr>\n",
       "      <th>14</th>\n",
       "      <td>0.1</td>\n",
       "      <td>0.0</td>\n",
       "      <td>0.01</td>\n",
       "      <td>rbf</td>\n",
       "      <td>0.119633</td>\n",
       "      <td>0.131571</td>\n",
       "    </tr>\n",
       "    <tr>\n",
       "      <th>15</th>\n",
       "      <td>10.0</td>\n",
       "      <td>0.1</td>\n",
       "      <td>0.01</td>\n",
       "      <td>rbf</td>\n",
       "      <td>0.071662</td>\n",
       "      <td>0.131759</td>\n",
       "    </tr>\n",
       "    <tr>\n",
       "      <th>16</th>\n",
       "      <td>0.1</td>\n",
       "      <td>0.01</td>\n",
       "      <td>0.01</td>\n",
       "      <td>rbf</td>\n",
       "      <td>0.119772</td>\n",
       "      <td>0.131809</td>\n",
       "    </tr>\n",
       "    <tr>\n",
       "      <th>17</th>\n",
       "      <td>10.0</td>\n",
       "      <td>0.0</td>\n",
       "      <td>0.0001</td>\n",
       "      <td>rbf</td>\n",
       "      <td>0.135501</td>\n",
       "      <td>0.132967</td>\n",
       "    </tr>\n",
       "    <tr>\n",
       "      <th>18</th>\n",
       "      <td>10.0</td>\n",
       "      <td>0.01</td>\n",
       "      <td>0.0001</td>\n",
       "      <td>rbf</td>\n",
       "      <td>0.135727</td>\n",
       "      <td>0.133261</td>\n",
       "    </tr>\n",
       "    <tr>\n",
       "      <th>19</th>\n",
       "      <td>10.0</td>\n",
       "      <td>0.0</td>\n",
       "      <td>0.01</td>\n",
       "      <td>rbf</td>\n",
       "      <td>0.014772</td>\n",
       "      <td>0.133510</td>\n",
       "    </tr>\n",
       "    <tr>\n",
       "      <th>20</th>\n",
       "      <td>10.0</td>\n",
       "      <td>0.1</td>\n",
       "      <td>0.0001</td>\n",
       "      <td>rbf</td>\n",
       "      <td>0.135481</td>\n",
       "      <td>0.133980</td>\n",
       "    </tr>\n",
       "    <tr>\n",
       "      <th>21</th>\n",
       "      <td>1.0</td>\n",
       "      <td>0.1</td>\n",
       "      <td>0.01</td>\n",
       "      <td>poly</td>\n",
       "      <td>0.091730</td>\n",
       "      <td>0.137492</td>\n",
       "    </tr>\n",
       "    <tr>\n",
       "      <th>22</th>\n",
       "      <td>0.001</td>\n",
       "      <td>0.1</td>\n",
       "      <td>0.1</td>\n",
       "      <td>poly</td>\n",
       "      <td>0.091731</td>\n",
       "      <td>0.137501</td>\n",
       "    </tr>\n",
       "    <tr>\n",
       "      <th>23</th>\n",
       "      <td>0.1</td>\n",
       "      <td>0.1</td>\n",
       "      <td>0.01</td>\n",
       "      <td>rbf</td>\n",
       "      <td>0.127656</td>\n",
       "      <td>0.138399</td>\n",
       "    </tr>\n",
       "    <tr>\n",
       "      <th>24</th>\n",
       "      <td>0.1</td>\n",
       "      <td>0.01</td>\n",
       "      <td>0.001</td>\n",
       "      <td>rbf</td>\n",
       "      <td>0.142907</td>\n",
       "      <td>0.142840</td>\n",
       "    </tr>\n",
       "    <tr>\n",
       "      <th>25</th>\n",
       "      <td>0.1</td>\n",
       "      <td>0.0</td>\n",
       "      <td>0.001</td>\n",
       "      <td>rbf</td>\n",
       "      <td>0.143095</td>\n",
       "      <td>0.142858</td>\n",
       "    </tr>\n",
       "    <tr>\n",
       "      <th>26</th>\n",
       "      <td>0.01</td>\n",
       "      <td>0.01</td>\n",
       "      <td>0.1</td>\n",
       "      <td>poly</td>\n",
       "      <td>0.022324</td>\n",
       "      <td>0.143843</td>\n",
       "    </tr>\n",
       "    <tr>\n",
       "      <th>27</th>\n",
       "      <td>10.0</td>\n",
       "      <td>0.01</td>\n",
       "      <td>0.01</td>\n",
       "      <td>poly</td>\n",
       "      <td>0.022324</td>\n",
       "      <td>0.143850</td>\n",
       "    </tr>\n",
       "    <tr>\n",
       "      <th>28</th>\n",
       "      <td>0.01</td>\n",
       "      <td>0.1</td>\n",
       "      <td>0.1</td>\n",
       "      <td>poly</td>\n",
       "      <td>0.072901</td>\n",
       "      <td>0.144217</td>\n",
       "    </tr>\n",
       "    <tr>\n",
       "      <th>29</th>\n",
       "      <td>10.0</td>\n",
       "      <td>0.1</td>\n",
       "      <td>0.01</td>\n",
       "      <td>poly</td>\n",
       "      <td>0.072897</td>\n",
       "      <td>0.144218</td>\n",
       "    </tr>\n",
       "    <tr>\n",
       "      <th>30</th>\n",
       "      <td>1.0</td>\n",
       "      <td>0.1</td>\n",
       "      <td>0.1</td>\n",
       "      <td>poly</td>\n",
       "      <td>0.072662</td>\n",
       "      <td>0.144466</td>\n",
       "    </tr>\n",
       "    <tr>\n",
       "      <th>31</th>\n",
       "      <td>0.1</td>\n",
       "      <td>0.1</td>\n",
       "      <td>0.1</td>\n",
       "      <td>poly</td>\n",
       "      <td>0.072662</td>\n",
       "      <td>0.144466</td>\n",
       "    </tr>\n",
       "    <tr>\n",
       "      <th>32</th>\n",
       "      <td>10.0</td>\n",
       "      <td>0.1</td>\n",
       "      <td>0.1</td>\n",
       "      <td>poly</td>\n",
       "      <td>0.072662</td>\n",
       "      <td>0.144466</td>\n",
       "    </tr>\n",
       "    <tr>\n",
       "      <th>33</th>\n",
       "      <td>10.0</td>\n",
       "      <td>0.0</td>\n",
       "      <td>0.01</td>\n",
       "      <td>poly</td>\n",
       "      <td>0.021364</td>\n",
       "      <td>0.144516</td>\n",
       "    </tr>\n",
       "    <tr>\n",
       "      <th>34</th>\n",
       "      <td>0.01</td>\n",
       "      <td>0.0</td>\n",
       "      <td>0.1</td>\n",
       "      <td>poly</td>\n",
       "      <td>0.021365</td>\n",
       "      <td>0.144517</td>\n",
       "    </tr>\n",
       "    <tr>\n",
       "      <th>35</th>\n",
       "      <td>0.1</td>\n",
       "      <td>0.1</td>\n",
       "      <td>0.001</td>\n",
       "      <td>rbf</td>\n",
       "      <td>0.144801</td>\n",
       "      <td>0.144676</td>\n",
       "    </tr>\n",
       "    <tr>\n",
       "      <th>36</th>\n",
       "      <td>1.0</td>\n",
       "      <td>0.01</td>\n",
       "      <td>0.0001</td>\n",
       "      <td>rbf</td>\n",
       "      <td>0.149187</td>\n",
       "      <td>0.146133</td>\n",
       "    </tr>\n",
       "    <tr>\n",
       "      <th>37</th>\n",
       "      <td>1.0</td>\n",
       "      <td>0.0</td>\n",
       "      <td>0.0001</td>\n",
       "      <td>rbf</td>\n",
       "      <td>0.149228</td>\n",
       "      <td>0.146186</td>\n",
       "    </tr>\n",
       "    <tr>\n",
       "      <th>38</th>\n",
       "      <td>1.0</td>\n",
       "      <td>0.1</td>\n",
       "      <td>0.0001</td>\n",
       "      <td>rbf</td>\n",
       "      <td>0.150106</td>\n",
       "      <td>0.147735</td>\n",
       "    </tr>\n",
       "    <tr>\n",
       "      <th>39</th>\n",
       "      <td>10.0</td>\n",
       "      <td>0.01</td>\n",
       "      <td>0.1</td>\n",
       "      <td>poly</td>\n",
       "      <td>0.009825</td>\n",
       "      <td>0.148883</td>\n",
       "    </tr>\n",
       "    <tr>\n",
       "      <th>40</th>\n",
       "      <td>1.0</td>\n",
       "      <td>0.01</td>\n",
       "      <td>0.1</td>\n",
       "      <td>poly</td>\n",
       "      <td>0.009825</td>\n",
       "      <td>0.148883</td>\n",
       "    </tr>\n",
       "    <tr>\n",
       "      <th>41</th>\n",
       "      <td>0.1</td>\n",
       "      <td>0.01</td>\n",
       "      <td>0.1</td>\n",
       "      <td>poly</td>\n",
       "      <td>0.009844</td>\n",
       "      <td>0.151115</td>\n",
       "    </tr>\n",
       "    <tr>\n",
       "      <th>42</th>\n",
       "      <td>10.0</td>\n",
       "      <td>0.0</td>\n",
       "      <td>0.1</td>\n",
       "      <td>poly</td>\n",
       "      <td>0.001231</td>\n",
       "      <td>0.155305</td>\n",
       "    </tr>\n",
       "    <tr>\n",
       "      <th>43</th>\n",
       "      <td>1.0</td>\n",
       "      <td>0.0</td>\n",
       "      <td>0.1</td>\n",
       "      <td>poly</td>\n",
       "      <td>0.001382</td>\n",
       "      <td>0.155342</td>\n",
       "    </tr>\n",
       "    <tr>\n",
       "      <th>44</th>\n",
       "      <td>0.1</td>\n",
       "      <td>0.0</td>\n",
       "      <td>0.1</td>\n",
       "      <td>poly</td>\n",
       "      <td>0.001603</td>\n",
       "      <td>0.159057</td>\n",
       "    </tr>\n",
       "    <tr>\n",
       "      <th>45</th>\n",
       "      <td>0.01</td>\n",
       "      <td>0.0</td>\n",
       "      <td>0.01</td>\n",
       "      <td>rbf</td>\n",
       "      <td>0.189549</td>\n",
       "      <td>0.191083</td>\n",
       "    </tr>\n",
       "    <tr>\n",
       "      <th>46</th>\n",
       "      <td>0.01</td>\n",
       "      <td>0.01</td>\n",
       "      <td>0.01</td>\n",
       "      <td>rbf</td>\n",
       "      <td>0.189748</td>\n",
       "      <td>0.191264</td>\n",
       "    </tr>\n",
       "    <tr>\n",
       "      <th>47</th>\n",
       "      <td>0.0001</td>\n",
       "      <td>0.0</td>\n",
       "      <td>0.1</td>\n",
       "      <td>poly</td>\n",
       "      <td>0.144566</td>\n",
       "      <td>0.192784</td>\n",
       "    </tr>\n",
       "    <tr>\n",
       "      <th>48</th>\n",
       "      <td>0.1</td>\n",
       "      <td>0.0</td>\n",
       "      <td>0.01</td>\n",
       "      <td>poly</td>\n",
       "      <td>0.144566</td>\n",
       "      <td>0.192785</td>\n",
       "    </tr>\n",
       "    <tr>\n",
       "      <th>49</th>\n",
       "      <td>0.1</td>\n",
       "      <td>0.01</td>\n",
       "      <td>0.01</td>\n",
       "      <td>poly</td>\n",
       "      <td>0.144939</td>\n",
       "      <td>0.193183</td>\n",
       "    </tr>\n",
       "  </tbody>\n",
       "</table>\n",
       "</div>"
      ],
      "text/plain": [
       "   param_C param_epsilon param_gamma param_kernel  mean_train_RMSE  \\\n",
       "0     10.0          0.01       0.001          rbf         0.097387   \n",
       "1     10.0           0.1       0.001          rbf         0.100603   \n",
       "2      1.0          0.01        0.01          rbf         0.069524   \n",
       "3     10.0           0.0       0.001          rbf         0.097746   \n",
       "4      1.0           0.0        0.01          rbf         0.070024   \n",
       "5      1.0          0.01       0.001          rbf         0.118879   \n",
       "6      1.0           0.0       0.001          rbf         0.118825   \n",
       "7      1.0           0.1        0.01          rbf         0.086061   \n",
       "8      1.0           0.1       0.001          rbf         0.121174   \n",
       "9    0.001          0.01         0.1         poly         0.075328   \n",
       "10     1.0          0.01        0.01         poly         0.075329   \n",
       "11     1.0           0.0        0.01         poly         0.075740   \n",
       "12   0.001           0.0         0.1         poly         0.075740   \n",
       "13    10.0          0.01        0.01          rbf         0.016719   \n",
       "14     0.1           0.0        0.01          rbf         0.119633   \n",
       "15    10.0           0.1        0.01          rbf         0.071662   \n",
       "16     0.1          0.01        0.01          rbf         0.119772   \n",
       "17    10.0           0.0      0.0001          rbf         0.135501   \n",
       "18    10.0          0.01      0.0001          rbf         0.135727   \n",
       "19    10.0           0.0        0.01          rbf         0.014772   \n",
       "20    10.0           0.1      0.0001          rbf         0.135481   \n",
       "21     1.0           0.1        0.01         poly         0.091730   \n",
       "22   0.001           0.1         0.1         poly         0.091731   \n",
       "23     0.1           0.1        0.01          rbf         0.127656   \n",
       "24     0.1          0.01       0.001          rbf         0.142907   \n",
       "25     0.1           0.0       0.001          rbf         0.143095   \n",
       "26    0.01          0.01         0.1         poly         0.022324   \n",
       "27    10.0          0.01        0.01         poly         0.022324   \n",
       "28    0.01           0.1         0.1         poly         0.072901   \n",
       "29    10.0           0.1        0.01         poly         0.072897   \n",
       "30     1.0           0.1         0.1         poly         0.072662   \n",
       "31     0.1           0.1         0.1         poly         0.072662   \n",
       "32    10.0           0.1         0.1         poly         0.072662   \n",
       "33    10.0           0.0        0.01         poly         0.021364   \n",
       "34    0.01           0.0         0.1         poly         0.021365   \n",
       "35     0.1           0.1       0.001          rbf         0.144801   \n",
       "36     1.0          0.01      0.0001          rbf         0.149187   \n",
       "37     1.0           0.0      0.0001          rbf         0.149228   \n",
       "38     1.0           0.1      0.0001          rbf         0.150106   \n",
       "39    10.0          0.01         0.1         poly         0.009825   \n",
       "40     1.0          0.01         0.1         poly         0.009825   \n",
       "41     0.1          0.01         0.1         poly         0.009844   \n",
       "42    10.0           0.0         0.1         poly         0.001231   \n",
       "43     1.0           0.0         0.1         poly         0.001382   \n",
       "44     0.1           0.0         0.1         poly         0.001603   \n",
       "45    0.01           0.0        0.01          rbf         0.189549   \n",
       "46    0.01          0.01        0.01          rbf         0.189748   \n",
       "47  0.0001           0.0         0.1         poly         0.144566   \n",
       "48     0.1           0.0        0.01         poly         0.144566   \n",
       "49     0.1          0.01        0.01         poly         0.144939   \n",
       "\n",
       "    mean_valid_RMSE  \n",
       "0          0.118267  \n",
       "1          0.119378  \n",
       "2          0.119446  \n",
       "3          0.119600  \n",
       "4          0.120185  \n",
       "5          0.123429  \n",
       "6          0.123847  \n",
       "7          0.124976  \n",
       "8          0.126397  \n",
       "9          0.130441  \n",
       "10         0.130453  \n",
       "11         0.130468  \n",
       "12         0.130470  \n",
       "13         0.131434  \n",
       "14         0.131571  \n",
       "15         0.131759  \n",
       "16         0.131809  \n",
       "17         0.132967  \n",
       "18         0.133261  \n",
       "19         0.133510  \n",
       "20         0.133980  \n",
       "21         0.137492  \n",
       "22         0.137501  \n",
       "23         0.138399  \n",
       "24         0.142840  \n",
       "25         0.142858  \n",
       "26         0.143843  \n",
       "27         0.143850  \n",
       "28         0.144217  \n",
       "29         0.144218  \n",
       "30         0.144466  \n",
       "31         0.144466  \n",
       "32         0.144466  \n",
       "33         0.144516  \n",
       "34         0.144517  \n",
       "35         0.144676  \n",
       "36         0.146133  \n",
       "37         0.146186  \n",
       "38         0.147735  \n",
       "39         0.148883  \n",
       "40         0.148883  \n",
       "41         0.151115  \n",
       "42         0.155305  \n",
       "43         0.155342  \n",
       "44         0.159057  \n",
       "45         0.191083  \n",
       "46         0.191264  \n",
       "47         0.192784  \n",
       "48         0.192785  \n",
       "49         0.193183  "
      ]
     },
     "execution_count": 84,
     "metadata": {},
     "output_type": "execute_result"
    }
   ],
   "source": [
    "KSVR_PARAM = {\n",
    "    \"C\": [1e-4, 1e-3, 1e-2, 1e-1, 1., 1e1],\n",
    "    \"epsilon\": [0., 1e-2, 1e-1],\n",
    "    \"gamma\": [1e-4, 1e-3, 1e-2, 1e-1],\n",
    "    \"kernel\": [\"poly\", \"rbf\"],\n",
    "}\n",
    "\n",
    "ksvr_results = tuner.tune_model(\"Kernel SVR\", grid=KSVR_PARAM)\n",
    "\n",
    "ksvr_results.head(50)"
   ]
  },
  {
   "cell_type": "markdown",
   "id": "56af95a6",
   "metadata": {
    "papermill": {
     "duration": 0.109623,
     "end_time": "2023-03-05T04:02:50.453928",
     "exception": false,
     "start_time": "2023-03-05T04:02:50.344305",
     "status": "completed"
    },
    "tags": []
   },
   "source": [
    "### Random Forest."
   ]
  },
  {
   "cell_type": "code",
   "execution_count": 85,
   "id": "9ed32ed5",
   "metadata": {
    "execution": {
     "iopub.execute_input": "2023-03-05T04:02:50.676850Z",
     "iopub.status.busy": "2023-03-05T04:02:50.676005Z",
     "iopub.status.idle": "2023-03-05T04:03:43.617288Z",
     "shell.execute_reply": "2023-03-05T04:03:43.616055Z"
    },
    "papermill": {
     "duration": 53.166146,
     "end_time": "2023-03-05T04:03:43.730784",
     "exception": false,
     "start_time": "2023-03-05T04:02:50.564638",
     "status": "completed"
    },
    "tags": []
   },
   "outputs": [
    {
     "name": "stdout",
     "output_type": "stream",
     "text": [
      "Fitting 10 folds for each of 12 candidates, totalling 120 fits\n",
      "========================================\n",
      "Model: RandomForestRegressor(bootstrap=False, max_depth=32, max_features='sqrt',\n",
      "                      n_estimators=200, random_state=0)\n",
      "Train RMSE: 0.00088\n",
      "Valid RMSE: 0.13276\n",
      "========================================\n"
     ]
    },
    {
     "data": {
      "text/html": [
       "<div>\n",
       "<style scoped>\n",
       "    .dataframe tbody tr th:only-of-type {\n",
       "        vertical-align: middle;\n",
       "    }\n",
       "\n",
       "    .dataframe tbody tr th {\n",
       "        vertical-align: top;\n",
       "    }\n",
       "\n",
       "    .dataframe thead th {\n",
       "        text-align: right;\n",
       "    }\n",
       "</style>\n",
       "<table border=\"1\" class=\"dataframe\">\n",
       "  <thead>\n",
       "    <tr style=\"text-align: right;\">\n",
       "      <th></th>\n",
       "      <th>param_max_depth</th>\n",
       "      <th>param_n_estimators</th>\n",
       "      <th>mean_train_RMSE</th>\n",
       "      <th>mean_valid_RMSE</th>\n",
       "    </tr>\n",
       "  </thead>\n",
       "  <tbody>\n",
       "    <tr>\n",
       "      <th>0</th>\n",
       "      <td>32</td>\n",
       "      <td>200</td>\n",
       "      <td>0.000876</td>\n",
       "      <td>0.132756</td>\n",
       "    </tr>\n",
       "    <tr>\n",
       "      <th>1</th>\n",
       "      <td>64</td>\n",
       "      <td>200</td>\n",
       "      <td>0.000875</td>\n",
       "      <td>0.132757</td>\n",
       "    </tr>\n",
       "    <tr>\n",
       "      <th>2</th>\n",
       "      <td>64</td>\n",
       "      <td>400</td>\n",
       "      <td>0.000875</td>\n",
       "      <td>0.132797</td>\n",
       "    </tr>\n",
       "    <tr>\n",
       "      <th>3</th>\n",
       "      <td>32</td>\n",
       "      <td>400</td>\n",
       "      <td>0.000876</td>\n",
       "      <td>0.132806</td>\n",
       "    </tr>\n",
       "    <tr>\n",
       "      <th>4</th>\n",
       "      <td>16</td>\n",
       "      <td>400</td>\n",
       "      <td>0.006580</td>\n",
       "      <td>0.133668</td>\n",
       "    </tr>\n",
       "    <tr>\n",
       "      <th>5</th>\n",
       "      <td>64</td>\n",
       "      <td>100</td>\n",
       "      <td>0.000875</td>\n",
       "      <td>0.133731</td>\n",
       "    </tr>\n",
       "    <tr>\n",
       "      <th>6</th>\n",
       "      <td>32</td>\n",
       "      <td>100</td>\n",
       "      <td>0.000875</td>\n",
       "      <td>0.133750</td>\n",
       "    </tr>\n",
       "    <tr>\n",
       "      <th>7</th>\n",
       "      <td>16</td>\n",
       "      <td>200</td>\n",
       "      <td>0.006805</td>\n",
       "      <td>0.134137</td>\n",
       "    </tr>\n",
       "    <tr>\n",
       "      <th>8</th>\n",
       "      <td>16</td>\n",
       "      <td>100</td>\n",
       "      <td>0.007138</td>\n",
       "      <td>0.134864</td>\n",
       "    </tr>\n",
       "    <tr>\n",
       "      <th>9</th>\n",
       "      <td>8</td>\n",
       "      <td>400</td>\n",
       "      <td>0.078895</td>\n",
       "      <td>0.141990</td>\n",
       "    </tr>\n",
       "    <tr>\n",
       "      <th>10</th>\n",
       "      <td>8</td>\n",
       "      <td>200</td>\n",
       "      <td>0.078964</td>\n",
       "      <td>0.142135</td>\n",
       "    </tr>\n",
       "    <tr>\n",
       "      <th>11</th>\n",
       "      <td>8</td>\n",
       "      <td>100</td>\n",
       "      <td>0.079356</td>\n",
       "      <td>0.142751</td>\n",
       "    </tr>\n",
       "  </tbody>\n",
       "</table>\n",
       "</div>"
      ],
      "text/plain": [
       "   param_max_depth param_n_estimators  mean_train_RMSE  mean_valid_RMSE\n",
       "0               32                200         0.000876         0.132756\n",
       "1               64                200         0.000875         0.132757\n",
       "2               64                400         0.000875         0.132797\n",
       "3               32                400         0.000876         0.132806\n",
       "4               16                400         0.006580         0.133668\n",
       "5               64                100         0.000875         0.133731\n",
       "6               32                100         0.000875         0.133750\n",
       "7               16                200         0.006805         0.134137\n",
       "8               16                100         0.007138         0.134864\n",
       "9                8                400         0.078895         0.141990\n",
       "10               8                200         0.078964         0.142135\n",
       "11               8                100         0.079356         0.142751"
      ]
     },
     "execution_count": 85,
     "metadata": {},
     "output_type": "execute_result"
    }
   ],
   "source": [
    "RF_PARAM = {\n",
    "    \"max_depth\": [8, 16, 32, 64],\n",
    "    \"n_estimators\": [100, 200, 400],\n",
    "    \"max_features\": [\"sqrt\"],\n",
    "    \"bootstrap\": [False],\n",
    "}\n",
    "\n",
    "rf_results = tuner.tune_model(\"Random Forest\", grid=RF_PARAM)\n",
    "\n",
    "rf_results"
   ]
  },
  {
   "cell_type": "markdown",
   "id": "4b20cb01",
   "metadata": {
    "papermill": {
     "duration": 0.111438,
     "end_time": "2023-03-05T04:03:43.959625",
     "exception": false,
     "start_time": "2023-03-05T04:03:43.848187",
     "status": "completed"
    },
    "tags": []
   },
   "source": [
    "### Gradient Boosting."
   ]
  },
  {
   "cell_type": "code",
   "execution_count": 86,
   "id": "d0f6f209",
   "metadata": {
    "execution": {
     "iopub.execute_input": "2023-03-05T04:03:44.184271Z",
     "iopub.status.busy": "2023-03-05T04:03:44.183473Z",
     "iopub.status.idle": "2023-03-05T04:11:16.028066Z",
     "shell.execute_reply": "2023-03-05T04:11:16.026858Z"
    },
    "papermill": {
     "duration": 452.070401,
     "end_time": "2023-03-05T04:11:16.140549",
     "exception": false,
     "start_time": "2023-03-05T04:03:44.070148",
     "status": "completed"
    },
    "tags": []
   },
   "outputs": [
    {
     "name": "stdout",
     "output_type": "stream",
     "text": [
      "Fitting 10 folds for each of 24 candidates, totalling 240 fits\n",
      "========================================\n",
      "Model: GradientBoostingRegressor(learning_rate=0.01, max_depth=5, max_features='sqrt',\n",
      "                          min_samples_leaf=4, n_estimators=3200,\n",
      "                          random_state=0)\n",
      "Train RMSE: 0.02640\n",
      "Valid RMSE: 0.11689\n",
      "========================================\n"
     ]
    },
    {
     "data": {
      "text/html": [
       "<div>\n",
       "<style scoped>\n",
       "    .dataframe tbody tr th:only-of-type {\n",
       "        vertical-align: middle;\n",
       "    }\n",
       "\n",
       "    .dataframe tbody tr th {\n",
       "        vertical-align: top;\n",
       "    }\n",
       "\n",
       "    .dataframe thead th {\n",
       "        text-align: right;\n",
       "    }\n",
       "</style>\n",
       "<table border=\"1\" class=\"dataframe\">\n",
       "  <thead>\n",
       "    <tr style=\"text-align: right;\">\n",
       "      <th></th>\n",
       "      <th>param_max_depth</th>\n",
       "      <th>param_min_samples_split</th>\n",
       "      <th>param_min_samples_leaf</th>\n",
       "      <th>param_learning_rate</th>\n",
       "      <th>mean_train_RMSE</th>\n",
       "      <th>mean_valid_RMSE</th>\n",
       "    </tr>\n",
       "  </thead>\n",
       "  <tbody>\n",
       "    <tr>\n",
       "      <th>0</th>\n",
       "      <td>5</td>\n",
       "      <td>2</td>\n",
       "      <td>4</td>\n",
       "      <td>0.01</td>\n",
       "      <td>0.026400</td>\n",
       "      <td>0.116886</td>\n",
       "    </tr>\n",
       "    <tr>\n",
       "      <th>1</th>\n",
       "      <td>5</td>\n",
       "      <td>5</td>\n",
       "      <td>4</td>\n",
       "      <td>0.01</td>\n",
       "      <td>0.026400</td>\n",
       "      <td>0.116886</td>\n",
       "    </tr>\n",
       "    <tr>\n",
       "      <th>2</th>\n",
       "      <td>5</td>\n",
       "      <td>5</td>\n",
       "      <td>1</td>\n",
       "      <td>0.01</td>\n",
       "      <td>0.020711</td>\n",
       "      <td>0.116931</td>\n",
       "    </tr>\n",
       "    <tr>\n",
       "      <th>3</th>\n",
       "      <td>5</td>\n",
       "      <td>2</td>\n",
       "      <td>1</td>\n",
       "      <td>0.01</td>\n",
       "      <td>0.019527</td>\n",
       "      <td>0.117528</td>\n",
       "    </tr>\n",
       "    <tr>\n",
       "      <th>4</th>\n",
       "      <td>3</td>\n",
       "      <td>2</td>\n",
       "      <td>4</td>\n",
       "      <td>0.01</td>\n",
       "      <td>0.065146</td>\n",
       "      <td>0.118626</td>\n",
       "    </tr>\n",
       "    <tr>\n",
       "      <th>5</th>\n",
       "      <td>3</td>\n",
       "      <td>5</td>\n",
       "      <td>4</td>\n",
       "      <td>0.01</td>\n",
       "      <td>0.065146</td>\n",
       "      <td>0.118626</td>\n",
       "    </tr>\n",
       "    <tr>\n",
       "      <th>6</th>\n",
       "      <td>3</td>\n",
       "      <td>5</td>\n",
       "      <td>1</td>\n",
       "      <td>0.01</td>\n",
       "      <td>0.061480</td>\n",
       "      <td>0.119587</td>\n",
       "    </tr>\n",
       "    <tr>\n",
       "      <th>7</th>\n",
       "      <td>3</td>\n",
       "      <td>2</td>\n",
       "      <td>1</td>\n",
       "      <td>0.01</td>\n",
       "      <td>0.061014</td>\n",
       "      <td>0.119757</td>\n",
       "    </tr>\n",
       "    <tr>\n",
       "      <th>8</th>\n",
       "      <td>3</td>\n",
       "      <td>5</td>\n",
       "      <td>1</td>\n",
       "      <td>0.1</td>\n",
       "      <td>0.007041</td>\n",
       "      <td>0.120753</td>\n",
       "    </tr>\n",
       "    <tr>\n",
       "      <th>9</th>\n",
       "      <td>3</td>\n",
       "      <td>2</td>\n",
       "      <td>1</td>\n",
       "      <td>0.1</td>\n",
       "      <td>0.006837</td>\n",
       "      <td>0.121112</td>\n",
       "    </tr>\n",
       "    <tr>\n",
       "      <th>10</th>\n",
       "      <td>3</td>\n",
       "      <td>5</td>\n",
       "      <td>4</td>\n",
       "      <td>0.1</td>\n",
       "      <td>0.008825</td>\n",
       "      <td>0.121208</td>\n",
       "    </tr>\n",
       "    <tr>\n",
       "      <th>11</th>\n",
       "      <td>3</td>\n",
       "      <td>2</td>\n",
       "      <td>4</td>\n",
       "      <td>0.1</td>\n",
       "      <td>0.008825</td>\n",
       "      <td>0.121208</td>\n",
       "    </tr>\n",
       "    <tr>\n",
       "      <th>12</th>\n",
       "      <td>10</td>\n",
       "      <td>5</td>\n",
       "      <td>4</td>\n",
       "      <td>0.01</td>\n",
       "      <td>0.001516</td>\n",
       "      <td>0.123044</td>\n",
       "    </tr>\n",
       "    <tr>\n",
       "      <th>13</th>\n",
       "      <td>10</td>\n",
       "      <td>2</td>\n",
       "      <td>4</td>\n",
       "      <td>0.01</td>\n",
       "      <td>0.001516</td>\n",
       "      <td>0.123044</td>\n",
       "    </tr>\n",
       "    <tr>\n",
       "      <th>14</th>\n",
       "      <td>5</td>\n",
       "      <td>2</td>\n",
       "      <td>4</td>\n",
       "      <td>0.1</td>\n",
       "      <td>0.000889</td>\n",
       "      <td>0.123399</td>\n",
       "    </tr>\n",
       "    <tr>\n",
       "      <th>15</th>\n",
       "      <td>5</td>\n",
       "      <td>5</td>\n",
       "      <td>4</td>\n",
       "      <td>0.1</td>\n",
       "      <td>0.000889</td>\n",
       "      <td>0.123399</td>\n",
       "    </tr>\n",
       "    <tr>\n",
       "      <th>16</th>\n",
       "      <td>5</td>\n",
       "      <td>5</td>\n",
       "      <td>1</td>\n",
       "      <td>0.1</td>\n",
       "      <td>0.000877</td>\n",
       "      <td>0.123515</td>\n",
       "    </tr>\n",
       "    <tr>\n",
       "      <th>17</th>\n",
       "      <td>5</td>\n",
       "      <td>2</td>\n",
       "      <td>1</td>\n",
       "      <td>0.1</td>\n",
       "      <td>0.000876</td>\n",
       "      <td>0.123910</td>\n",
       "    </tr>\n",
       "    <tr>\n",
       "      <th>18</th>\n",
       "      <td>10</td>\n",
       "      <td>5</td>\n",
       "      <td>1</td>\n",
       "      <td>0.01</td>\n",
       "      <td>0.000882</td>\n",
       "      <td>0.127679</td>\n",
       "    </tr>\n",
       "    <tr>\n",
       "      <th>19</th>\n",
       "      <td>10</td>\n",
       "      <td>2</td>\n",
       "      <td>1</td>\n",
       "      <td>0.01</td>\n",
       "      <td>0.000876</td>\n",
       "      <td>0.129411</td>\n",
       "    </tr>\n",
       "    <tr>\n",
       "      <th>20</th>\n",
       "      <td>10</td>\n",
       "      <td>2</td>\n",
       "      <td>4</td>\n",
       "      <td>0.1</td>\n",
       "      <td>0.000875</td>\n",
       "      <td>0.130707</td>\n",
       "    </tr>\n",
       "    <tr>\n",
       "      <th>21</th>\n",
       "      <td>10</td>\n",
       "      <td>5</td>\n",
       "      <td>4</td>\n",
       "      <td>0.1</td>\n",
       "      <td>0.000875</td>\n",
       "      <td>0.130707</td>\n",
       "    </tr>\n",
       "    <tr>\n",
       "      <th>22</th>\n",
       "      <td>10</td>\n",
       "      <td>5</td>\n",
       "      <td>1</td>\n",
       "      <td>0.1</td>\n",
       "      <td>0.000875</td>\n",
       "      <td>0.133180</td>\n",
       "    </tr>\n",
       "    <tr>\n",
       "      <th>23</th>\n",
       "      <td>10</td>\n",
       "      <td>2</td>\n",
       "      <td>1</td>\n",
       "      <td>0.1</td>\n",
       "      <td>0.000875</td>\n",
       "      <td>0.136035</td>\n",
       "    </tr>\n",
       "  </tbody>\n",
       "</table>\n",
       "</div>"
      ],
      "text/plain": [
       "   param_max_depth param_min_samples_split param_min_samples_leaf  \\\n",
       "0                5                       2                      4   \n",
       "1                5                       5                      4   \n",
       "2                5                       5                      1   \n",
       "3                5                       2                      1   \n",
       "4                3                       2                      4   \n",
       "5                3                       5                      4   \n",
       "6                3                       5                      1   \n",
       "7                3                       2                      1   \n",
       "8                3                       5                      1   \n",
       "9                3                       2                      1   \n",
       "10               3                       5                      4   \n",
       "11               3                       2                      4   \n",
       "12              10                       5                      4   \n",
       "13              10                       2                      4   \n",
       "14               5                       2                      4   \n",
       "15               5                       5                      4   \n",
       "16               5                       5                      1   \n",
       "17               5                       2                      1   \n",
       "18              10                       5                      1   \n",
       "19              10                       2                      1   \n",
       "20              10                       2                      4   \n",
       "21              10                       5                      4   \n",
       "22              10                       5                      1   \n",
       "23              10                       2                      1   \n",
       "\n",
       "   param_learning_rate  mean_train_RMSE  mean_valid_RMSE  \n",
       "0                 0.01         0.026400         0.116886  \n",
       "1                 0.01         0.026400         0.116886  \n",
       "2                 0.01         0.020711         0.116931  \n",
       "3                 0.01         0.019527         0.117528  \n",
       "4                 0.01         0.065146         0.118626  \n",
       "5                 0.01         0.065146         0.118626  \n",
       "6                 0.01         0.061480         0.119587  \n",
       "7                 0.01         0.061014         0.119757  \n",
       "8                  0.1         0.007041         0.120753  \n",
       "9                  0.1         0.006837         0.121112  \n",
       "10                 0.1         0.008825         0.121208  \n",
       "11                 0.1         0.008825         0.121208  \n",
       "12                0.01         0.001516         0.123044  \n",
       "13                0.01         0.001516         0.123044  \n",
       "14                 0.1         0.000889         0.123399  \n",
       "15                 0.1         0.000889         0.123399  \n",
       "16                 0.1         0.000877         0.123515  \n",
       "17                 0.1         0.000876         0.123910  \n",
       "18                0.01         0.000882         0.127679  \n",
       "19                0.01         0.000876         0.129411  \n",
       "20                 0.1         0.000875         0.130707  \n",
       "21                 0.1         0.000875         0.130707  \n",
       "22                 0.1         0.000875         0.133180  \n",
       "23                 0.1         0.000875         0.136035  "
      ]
     },
     "execution_count": 86,
     "metadata": {},
     "output_type": "execute_result"
    }
   ],
   "source": [
    "GB_PARAM = {\n",
    "    \"max_depth\": [3, 5, 10],\n",
    "    \"min_samples_split\": [2, 5],\n",
    "    \"min_samples_leaf\": [1, 4],\n",
    "    \"learning_rate\": [1e-2, 1e-1],\n",
    "    \"n_estimators\": [3200],\n",
    "    \"max_features\": [\"sqrt\"],\n",
    "}\n",
    "\n",
    "gb_results = tuner.tune_model(\"Gradient Boosting\", grid=GB_PARAM)\n",
    "\n",
    "gb_results"
   ]
  },
  {
   "cell_type": "markdown",
   "id": "b51467cc",
   "metadata": {
    "papermill": {
     "duration": 0.111333,
     "end_time": "2023-03-05T04:11:16.362741",
     "exception": false,
     "start_time": "2023-03-05T04:11:16.251408",
     "status": "completed"
    },
    "tags": []
   },
   "source": [
    "### Ensemble Average."
   ]
  },
  {
   "cell_type": "code",
   "execution_count": 87,
   "id": "59bee9f7",
   "metadata": {
    "execution": {
     "iopub.execute_input": "2023-03-05T04:11:16.588705Z",
     "iopub.status.busy": "2023-03-05T04:11:16.587930Z",
     "iopub.status.idle": "2023-03-05T04:11:16.599794Z",
     "shell.execute_reply": "2023-03-05T04:11:16.598905Z"
    },
    "papermill": {
     "duration": 0.128047,
     "end_time": "2023-03-05T04:11:16.602027",
     "exception": false,
     "start_time": "2023-03-05T04:11:16.473980",
     "status": "completed"
    },
    "tags": []
   },
   "outputs": [
    {
     "data": {
      "text/html": [
       "<div>\n",
       "<style scoped>\n",
       "    .dataframe tbody tr th:only-of-type {\n",
       "        vertical-align: middle;\n",
       "    }\n",
       "\n",
       "    .dataframe tbody tr th {\n",
       "        vertical-align: top;\n",
       "    }\n",
       "\n",
       "    .dataframe thead th {\n",
       "        text-align: right;\n",
       "    }\n",
       "</style>\n",
       "<table border=\"1\" class=\"dataframe\">\n",
       "  <thead>\n",
       "    <tr style=\"text-align: right;\">\n",
       "      <th></th>\n",
       "      <th>mean_train_RMSE</th>\n",
       "      <th>mean_valid_RMSE</th>\n",
       "    </tr>\n",
       "  </thead>\n",
       "  <tbody>\n",
       "    <tr>\n",
       "      <th>Kernel Ridge</th>\n",
       "      <td>0.078110</td>\n",
       "      <td>0.116160</td>\n",
       "    </tr>\n",
       "    <tr>\n",
       "      <th>Gradient Boosting</th>\n",
       "      <td>0.026400</td>\n",
       "      <td>0.116886</td>\n",
       "    </tr>\n",
       "    <tr>\n",
       "      <th>Kernel SVR</th>\n",
       "      <td>0.097387</td>\n",
       "      <td>0.118267</td>\n",
       "    </tr>\n",
       "    <tr>\n",
       "      <th>Random Forest</th>\n",
       "      <td>0.000876</td>\n",
       "      <td>0.132756</td>\n",
       "    </tr>\n",
       "    <tr>\n",
       "      <th>Ridge</th>\n",
       "      <td>0.121249</td>\n",
       "      <td>0.136935</td>\n",
       "    </tr>\n",
       "    <tr>\n",
       "      <th>Linear SVR</th>\n",
       "      <td>0.118523</td>\n",
       "      <td>0.141182</td>\n",
       "    </tr>\n",
       "  </tbody>\n",
       "</table>\n",
       "</div>"
      ],
      "text/plain": [
       "                   mean_train_RMSE  mean_valid_RMSE\n",
       "Kernel Ridge              0.078110         0.116160\n",
       "Gradient Boosting         0.026400         0.116886\n",
       "Kernel SVR                0.097387         0.118267\n",
       "Random Forest             0.000876         0.132756\n",
       "Ridge                     0.121249         0.136935\n",
       "Linear SVR                0.118523         0.141182"
      ]
     },
     "execution_count": 87,
     "metadata": {},
     "output_type": "execute_result"
    }
   ],
   "source": [
    "tuner.collate_results()"
   ]
  },
  {
   "attachments": {},
   "cell_type": "markdown",
   "id": "bb21fa7e",
   "metadata": {
    "papermill": {
     "duration": 0.11429,
     "end_time": "2023-03-05T04:11:16.827405",
     "exception": false,
     "start_time": "2023-03-05T04:11:16.713115",
     "status": "completed"
    },
    "tags": []
   },
   "source": [
    "Ensemble averaging involves averaging the predictions of individual models to obtain the final prediction. Before selecting the appropriate models to include in our ensemble, we look at the model results below.\n",
    "* __Bottom three models__: The bottom two are Ridge and Linear SVR, showing similar performance. It appears that there is some nonlinearity in the data which thus cannot be captured by the linear models. Random Forest performs only slightly better and shows signs of overfitting, with the train RMSE being significantly smaller than all other models.\n",
    "\n",
    "* __Top three models__: The top three show similar performance in terms of the valid RMSE, but Gradient Boosting has much better train RMSE than both Kernel Ridge and Kernel SVR.\n",
    "\n",
    "For our ensemble model, we choose to include only the top three models. The bottom three models appear to have relatively poor fit and may end up pulling down the performance instead of achieving the intended effect of \"averaging out\" the errors."
   ]
  },
  {
   "cell_type": "code",
   "execution_count": 88,
   "id": "fd4f5907",
   "metadata": {
    "execution": {
     "iopub.execute_input": "2023-03-05T04:11:17.113719Z",
     "iopub.status.busy": "2023-03-05T04:11:17.112459Z",
     "iopub.status.idle": "2023-03-05T04:11:39.520357Z",
     "shell.execute_reply": "2023-03-05T04:11:39.518883Z"
    },
    "papermill": {
     "duration": 22.523941,
     "end_time": "2023-03-05T04:11:39.523266",
     "exception": false,
     "start_time": "2023-03-05T04:11:16.999325",
     "status": "completed"
    },
    "tags": []
   },
   "outputs": [
    {
     "name": "stdout",
     "output_type": "stream",
     "text": [
      "Model: VotingRegressor(estimators=[('Kernel Ridge',\n",
      "                             KernelRidge(alpha=0.01, gamma=0.001,\n",
      "                                         kernel='poly')),\n",
      "                            ('Kernel SVR',\n",
      "                             SVR(C=10.0, epsilon=0.01, gamma=0.001)),\n",
      "                            ('Gradient Boosting',\n",
      "                             GradientBoostingRegressor(learning_rate=0.01,\n",
      "                                                       max_depth=5,\n",
      "                                                       max_features='sqrt',\n",
      "                                                       min_samples_leaf=4,\n",
      "                                                       n_estimators=3200,\n",
      "                                                       random_state=0))])\n",
      "Train RMSE: 0.06403\n",
      "Valid RMSE: 0.11111\n"
     ]
    }
   ],
   "source": [
    "models_selected = [\"Kernel Ridge\", \"Kernel SVR\", \"Gradient Boosting\"]\n",
    "indv_models = tuner.get_models(model_names=models_selected)\n",
    "ensemble = VotingRegressor(indv_models)\n",
    "\n",
    "tuner.run_cv(ensemble)"
   ]
  },
  {
   "cell_type": "markdown",
   "id": "f718883d",
   "metadata": {
    "papermill": {
     "duration": 0.112017,
     "end_time": "2023-03-05T04:11:39.751636",
     "exception": false,
     "start_time": "2023-03-05T04:11:39.639619",
     "status": "completed"
    },
    "tags": []
   },
   "source": [
    "### Summary."
   ]
  },
  {
   "cell_type": "markdown",
   "id": "1ac0cceb",
   "metadata": {
    "papermill": {
     "duration": 0.111625,
     "end_time": "2023-03-05T04:11:39.977498",
     "exception": false,
     "start_time": "2023-03-05T04:11:39.865873",
     "status": "completed"
    },
    "tags": []
   },
   "source": [
    "We look at the overall validation performance of all the models. To have a better picture, we repeat the cross-validation process using RepeatedKFold to get more samples of the valid RMSE for each model. The ensemble model has the smallest median value of the validation RMSE as indicated by the red vertical dashed line."
   ]
  },
  {
   "cell_type": "code",
   "execution_count": 89,
   "id": "c39d927d",
   "metadata": {
    "execution": {
     "iopub.execute_input": "2023-03-05T04:11:40.205471Z",
     "iopub.status.busy": "2023-03-05T04:11:40.204692Z",
     "iopub.status.idle": "2023-03-05T04:19:27.669963Z",
     "shell.execute_reply": "2023-03-05T04:19:27.668553Z"
    },
    "papermill": {
     "duration": 467.703093,
     "end_time": "2023-03-05T04:19:27.792702",
     "exception": false,
     "start_time": "2023-03-05T04:11:40.089609",
     "status": "completed"
    },
    "tags": []
   },
   "outputs": [
    {
     "data": {
      "image/png": "[encoded data removed]",
      "text/plain": [
       "<Figure size 1800x800 with 1 Axes>"
      ]
     },
     "metadata": {},
     "output_type": "display_data"
    }
   ],
   "source": [
    "rkfold = RepeatedKFold(n_splits=10, n_repeats=10, random_state=SEED)\n",
    "\n",
    "tuner.perf_boxplot(add_models=[(\"Ensemble Average\", ensemble)], cv=rkfold)"
   ]
  },
  {
   "cell_type": "markdown",
   "id": "9e65e1f3",
   "metadata": {
    "papermill": {
     "duration": 0.111185,
     "end_time": "2023-03-05T04:19:28.015857",
     "exception": false,
     "start_time": "2023-03-05T04:19:27.904672",
     "status": "completed"
    },
    "tags": []
   },
   "source": [
    "---"
   ]
  },
  {
   "cell_type": "markdown",
   "id": "52bb00a1",
   "metadata": {
    "papermill": {
     "duration": 0.110752,
     "end_time": "2023-03-05T04:19:28.238576",
     "exception": false,
     "start_time": "2023-03-05T04:19:28.127824",
     "status": "completed"
    },
    "tags": []
   },
   "source": [
    "# 5. Submission"
   ]
  },
  {
   "cell_type": "markdown",
   "id": "e1c892b5",
   "metadata": {
    "papermill": {
     "duration": 0.110862,
     "end_time": "2023-03-05T04:19:28.460899",
     "exception": false,
     "start_time": "2023-03-05T04:19:28.350037",
     "status": "completed"
    },
    "tags": []
   },
   "source": [
    "We use the ensemble average as our final model."
   ]
  },
  {
   "cell_type": "code",
   "execution_count": 90,
   "id": "ca5af67a",
   "metadata": {
    "execution": {
     "iopub.execute_input": "2023-03-05T04:19:28.686491Z",
     "iopub.status.busy": "2023-03-05T04:19:28.685744Z",
     "iopub.status.idle": "2023-03-05T04:19:35.059270Z",
     "shell.execute_reply": "2023-03-05T04:19:35.057991Z"
    },
    "papermill": {
     "duration": 6.48946,
     "end_time": "2023-03-05T04:19:35.061806",
     "exception": false,
     "start_time": "2023-03-05T04:19:28.572346",
     "status": "completed"
    },
    "tags": []
   },
   "outputs": [
    {
     "data": {
      "text/html": [
       "<div>\n",
       "<style scoped>\n",
       "    .dataframe tbody tr th:only-of-type {\n",
       "        vertical-align: middle;\n",
       "    }\n",
       "\n",
       "    .dataframe tbody tr th {\n",
       "        vertical-align: top;\n",
       "    }\n",
       "\n",
       "    .dataframe thead th {\n",
       "        text-align: right;\n",
       "    }\n",
       "</style>\n",
       "<table border=\"1\" class=\"dataframe\">\n",
       "  <thead>\n",
       "    <tr style=\"text-align: right;\">\n",
       "      <th></th>\n",
       "      <th>Id</th>\n",
       "      <th>SalePrice</th>\n",
       "    </tr>\n",
       "  </thead>\n",
       "  <tbody>\n",
       "    <tr>\n",
       "      <th>0</th>\n",
       "      <td>1461</td>\n",
       "      <td>120100.126236</td>\n",
       "    </tr>\n",
       "    <tr>\n",
       "      <th>1</th>\n",
       "      <td>1462</td>\n",
       "      <td>162980.284142</td>\n",
       "    </tr>\n",
       "    <tr>\n",
       "      <th>2</th>\n",
       "      <td>1463</td>\n",
       "      <td>186550.542750</td>\n",
       "    </tr>\n",
       "    <tr>\n",
       "      <th>3</th>\n",
       "      <td>1464</td>\n",
       "      <td>200736.197544</td>\n",
       "    </tr>\n",
       "    <tr>\n",
       "      <th>4</th>\n",
       "      <td>1465</td>\n",
       "      <td>186745.636682</td>\n",
       "    </tr>\n",
       "  </tbody>\n",
       "</table>\n",
       "</div>"
      ],
      "text/plain": [
       "     Id      SalePrice\n",
       "0  1461  120100.126236\n",
       "1  1462  162980.284142\n",
       "2  1463  186550.542750\n",
       "3  1464  200736.197544\n",
       "4  1465  186745.636682"
      ]
     },
     "execution_count": 90,
     "metadata": {},
     "output_type": "execute_result"
    }
   ],
   "source": [
    "submission = tuner.model_predict(ensemble, X_test)\n",
    "\n",
    "submission.head()"
   ]
  },
  {
   "cell_type": "code",
   "execution_count": 91,
   "id": "742627e3",
   "metadata": {
    "execution": {
     "iopub.execute_input": "2023-03-05T04:19:35.297818Z",
     "iopub.status.busy": "2023-03-05T04:19:35.297078Z",
     "iopub.status.idle": "2023-03-05T04:19:35.307918Z",
     "shell.execute_reply": "2023-03-05T04:19:35.307101Z"
    },
    "papermill": {
     "duration": 0.133713,
     "end_time": "2023-03-05T04:19:35.310335",
     "exception": false,
     "start_time": "2023-03-05T04:19:35.176622",
     "status": "completed"
    },
    "tags": []
   },
   "outputs": [],
   "source": [
    "submission.to_csv(\"data/submission.csv\", index=False)"
   ]
  },
  {
   "cell_type": "markdown",
   "id": "340b174f",
   "metadata": {
    "papermill": {
     "duration": 0.111998,
     "end_time": "2023-03-05T04:19:35.535493",
     "exception": false,
     "start_time": "2023-03-05T04:19:35.423495",
     "status": "completed"
    },
    "tags": []
   },
   "source": [
    "---"
   ]
  }
 ],
 "metadata": {
  "kernelspec": {
   "display_name": "Python 3 (ipykernel)",
   "language": "python",
   "name": "python3"
  },
  "language_info": {
   "codemirror_mode": {
    "name": "ipython",
    "version": 3
   },
   "file_extension": ".py",
   "mimetype": "text/x-python",
   "name": "python",
   "nbconvert_exporter": "python",
   "pygments_lexer": "ipython3",
   "version": "3.9.13"
  },
  "papermill": {
   "default_parameters": {},
   "duration": 1369.825643,
   "end_time": "2023-03-05T04:19:38.275140",
   "environment_variables": {},
   "exception": null,
   "input_path": "__notebook__.ipynb",
   "output_path": "__notebook__.ipynb",
   "parameters": {},
   "start_time": "2023-03-05T03:56:48.449497",
   "version": "2.3.4"
  }
 },
 "nbformat": 4,
 "nbformat_minor": 5
}
